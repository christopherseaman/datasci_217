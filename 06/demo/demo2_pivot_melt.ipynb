{
 "cells": [
  {
   "cell_type": "markdown",
   "metadata": {},
   "source": [
    "# Demo 2: Survey Data Reshaping with pivot() and melt()\n",
    "\n",
    "## Learning Objectives\n",
    "\n",
    "- Understand the difference between wide and long data formats\n",
    "- Transform wide data to long format using `melt()`\n",
    "- Transform long data to wide format using `pivot()`\n",
    "- Use `pivot_table()` for aggregation with duplicate keys\n",
    "- Recognize when each format is better for analysis vs presentation\n",
    "- Build complete reshape workflows combining multiple operations"
   ]
  },
  {
   "cell_type": "markdown",
   "metadata": {},
   "source": [
    "## Setup"
   ]
  },
  {
   "cell_type": "code",
   "execution_count": null,
   "metadata": {},
   "outputs": [],
   "source": [
    "import pandas as pd\n",
    "import numpy as np\n",
    "\n",
    "# Set random seed for reproducibility\n",
    "np.random.seed(42)"
   ]
  },
  {
   "cell_type": "markdown",
   "metadata": {},
   "source": [
    "## Create Sample Data: Employee Satisfaction Survey\n",
    "\n",
    "We'll create a realistic employee satisfaction survey with multiple questions stored in **wide format**."
   ]
  },
  {
   "cell_type": "code",
   "execution_count": null,
   "metadata": {},
   "outputs": [],
   "source": [
    "# Employee satisfaction survey (wide format)\n",
    "survey_wide = pd.DataFrame({\n",
    "    'employee_id': ['E001', 'E002', 'E003', 'E004', 'E005', 'E006'],\n",
    "    'department': ['Engineering', 'Sales', 'Engineering', 'Marketing', 'Sales', 'HR'],\n",
    "    'Q1_workload': [4, 5, 3, 4, 5, 4],         # 1-5 scale\n",
    "    'Q2_management': [5, 4, 4, 5, 3, 5],       # 1-5 scale\n",
    "    'Q3_compensation': [3, 4, 3, 4, 4, 5],     # 1-5 scale\n",
    "    'Q4_work_life': [4, 3, 5, 4, 3, 4],        # 1-5 scale\n",
    "    'Q5_growth': [5, 4, 4, 5, 4, 5]            # 1-5 scale\n",
    "})\n",
    "\n",
    "print(\"Wide Format - Survey Data:\")\n",
    "print(\"Each row = one employee, each column = one question\")\n",
    "survey_wide"
   ]
  },
  {
   "cell_type": "markdown",
   "metadata": {},
   "source": [
    "**Wide format characteristics:**\n",
    "- ✅ Easy to read (one row per employee)\n",
    "- ✅ Good for spreadsheets and human viewing\n",
    "- ❌ Hard to analyze (can't easily do `groupby('question')`)\n",
    "- ❌ Hard to plot (plotting libraries prefer long format)"
   ]
  },
  {
   "cell_type": "markdown",
   "metadata": {},
   "source": [
    "## Converting Wide → Long with melt()\n",
    "\n",
    "The `melt()` function \"melts\" wide data into long format by:\n",
    "1. Keeping identifier columns fixed (`id_vars`)\n",
    "2. Stacking value columns into rows (`value_vars`)\n",
    "3. Creating a new column for variable names (`var_name`)\n",
    "4. Creating a new column for values (`value_name`)"
   ]
  },
  {
   "cell_type": "code",
   "execution_count": null,
   "metadata": {},
   "outputs": [],
   "source": [
    "# Melt wide to long format\n",
    "survey_long = pd.melt(\n",
    "    survey_wide,\n",
    "    id_vars=['employee_id', 'department'],        # Keep these columns\n",
    "    value_vars=['Q1_workload', 'Q2_management',   # Stack these columns\n",
    "                'Q3_compensation', 'Q4_work_life', 'Q5_growth'],\n",
    "    var_name='question',                          # Name for the question column\n",
    "    value_name='rating'                           # Name for the rating column\n",
    ")\n",
    "\n",
    "print(\"Long Format - Survey Data:\")\n",
    "print(\"Each row = one response to one question\")\n",
    "survey_long.head(10)"
   ]
  },
  {
   "cell_type": "markdown",
   "metadata": {},
   "source": [
    "**Long format characteristics:**\n",
    "- ✅ Perfect for analysis (easy `groupby('question')`)\n",
    "- ✅ Required for most plotting libraries\n",
    "- ✅ Flexible for filtering and aggregation\n",
    "- ❌ Harder to read (many more rows)\n",
    "\n",
    "**What happened:**\n",
    "- 6 employees × 5 questions = **30 rows**\n",
    "- Each employee now appears 5 times (once per question)\n",
    "- Question names moved from column headers to values in `question` column"
   ]
  },
  {
   "cell_type": "markdown",
   "metadata": {},
   "source": [
    "## Analyzing Long Format Data\n",
    "\n",
    "Long format shines for groupby operations and statistical analysis."
   ]
  },
  {
   "cell_type": "code",
   "execution_count": null,
   "metadata": {},
   "outputs": [],
   "source": [
    "# Calculate average rating per question (easy in long format!)\n",
    "question_stats = survey_long.groupby('question')['rating'].agg([\n",
    "    ('avg_rating', 'mean'),\n",
    "    ('std_dev', 'std'),\n",
    "    ('min_rating', 'min'),\n",
    "    ('max_rating', 'max')\n",
    "]).round(2)\n",
    "\n",
    "print(\"Question Statistics:\")\n",
    "question_stats.sort_values('avg_rating', ascending=False)"
   ]
  },
  {
   "cell_type": "markdown",
   "metadata": {},
   "source": [
    "**Insights from long format analysis:**\n",
    "- Q2 (management) and Q5 (growth) score highest (avg 4.5)\n",
    "- Q3 (compensation) scores lowest (avg 3.83)\n",
    "- All questions show variation (std_dev > 0.5)"
   ]
  },
  {
   "cell_type": "code",
   "execution_count": null,
   "metadata": {},
   "outputs": [],
   "source": [
    "# Calculate average rating by department (also easy!)\n",
    "dept_stats = survey_long.groupby('department')['rating'].agg([\n",
    "    ('avg_rating', 'mean'),\n",
    "    ('response_count', 'count')\n",
    "]).round(2)\n",
    "\n",
    "print(\"Department Statistics:\")\n",
    "dept_stats.sort_values('avg_rating', ascending=False)"
   ]
  },
  {
   "cell_type": "markdown",
   "metadata": {},
   "source": [
    "**Try doing this in wide format** - it's much harder! You'd need to manually select columns, stack them, etc."
   ]
  },
  {
   "cell_type": "markdown",
   "metadata": {},
   "source": [
    "## Converting Long → Wide with pivot()\n",
    "\n",
    "The `pivot()` function converts long format back to wide format:\n",
    "- **index**: Column to use for row labels\n",
    "- **columns**: Column to use for column labels  \n",
    "- **values**: Column containing the data values"
   ]
  },
  {
   "cell_type": "code",
   "execution_count": null,
   "metadata": {},
   "outputs": [],
   "source": [
    "# Pivot long back to wide\n",
    "survey_wide_restored = survey_long.pivot(\n",
    "    index=['employee_id', 'department'],  # Row labels\n",
    "    columns='question',                   # Column labels\n",
    "    values='rating'                       # Values to fill cells\n",
    ")\n",
    "\n",
    "print(\"Wide Format (Restored):\")\n",
    "survey_wide_restored"
   ]
  },
  {
   "cell_type": "markdown",
   "metadata": {},
   "source": [
    "**Notice:**\n",
    "- Back to original wide structure (6 rows × 5 question columns)\n",
    "- Index is now hierarchical (employee_id + department)\n",
    "- To make it look exactly like original, we need to reset the index"
   ]
  },
  {
   "cell_type": "code",
   "execution_count": null,
   "metadata": {},
   "outputs": [],
   "source": [
    "# Reset index to match original format\n",
    "survey_wide_clean = survey_wide_restored.reset_index()\n",
    "survey_wide_clean.columns.name = None  # Remove 'question' label from columns\n",
    "\n",
    "print(\"Wide Format (Clean):\")\n",
    "survey_wide_clean"
   ]
  },
  {
   "cell_type": "markdown",
   "metadata": {},
   "source": [
    "**Perfect!** We've successfully transformed: wide → long → wide\n",
    "\n",
    "**When to use each:**\n",
    "- **Wide format:** Reports, presentations, spreadsheets\n",
    "- **Long format:** Analysis, groupby operations, plotting"
   ]
  },
  {
   "cell_type": "markdown",
   "metadata": {},
   "source": [
    "## Using pivot_table() for Aggregation\n",
    "\n",
    "What if we have duplicate index/column combinations? Use `pivot_table()` to aggregate!"
   ]
  },
  {
   "cell_type": "code",
   "execution_count": null,
   "metadata": {},
   "outputs": [],
   "source": [
    "# Create data with duplicates (multiple responses from same dept/question)\n",
    "# This simulates multiple employees from same department\n",
    "survey_duplicates = pd.DataFrame({\n",
    "    'department': ['Engineering', 'Engineering', 'Sales', 'Sales', \n",
    "                   'Engineering', 'Sales', 'Marketing', 'Marketing'],\n",
    "    'question': ['Q1_workload', 'Q1_workload', 'Q1_workload', 'Q1_workload',\n",
    "                 'Q2_management', 'Q2_management', 'Q1_workload', 'Q2_management'],\n",
    "    'rating': [4, 3, 5, 5, 5, 4, 4, 5]\n",
    "})\n",
    "\n",
    "print(\"Data with Duplicate Dept/Question Combinations:\")\n",
    "survey_duplicates"
   ]
  },
  {
   "cell_type": "markdown",
   "metadata": {},
   "source": [
    "**Problem:** Engineering has 2 responses for Q1_workload (4 and 3). Simple `pivot()` will fail!"
   ]
  },
  {
   "cell_type": "code",
   "execution_count": null,
   "metadata": {},
   "outputs": [],
   "source": [
    "# This would fail with pivot():\n",
    "# survey_duplicates.pivot(index='department', columns='question', values='rating')\n",
    "# Error: Index contains duplicate entries, cannot reshape\n",
    "\n",
    "# Use pivot_table() instead to aggregate\n",
    "dept_question_avg = survey_duplicates.pivot_table(\n",
    "    index='department',\n",
    "    columns='question', \n",
    "    values='rating',\n",
    "    aggfunc='mean'  # Calculate mean for duplicates\n",
    ")\n",
    "\n",
    "print(\"Department Average Ratings (with aggregation):\")\n",
    "dept_question_avg"
   ]
  },
  {
   "cell_type": "markdown",
   "metadata": {},
   "source": [
    "**What happened:**\n",
    "- Engineering's Q1_workload: (4 + 3) / 2 = **3.5**\n",
    "- Sales' Q1_workload: (5 + 5) / 2 = **5.0**\n",
    "- `pivot_table()` automatically aggregated duplicates\n",
    "\n",
    "**Other aggfunc options:** `'sum'`, `'count'`, `'median'`, `'std'`, `'min'`, `'max'`"
   ]
  },
  {
   "cell_type": "code",
   "execution_count": null,
   "metadata": {},
   "outputs": [],
   "source": [
    "# Count how many responses per department/question\n",
    "response_counts = survey_duplicates.pivot_table(\n",
    "    index='department',\n",
    "    columns='question',\n",
    "    values='rating',\n",
    "    aggfunc='count',\n",
    "    fill_value=0  # Show 0 for missing combinations\n",
    ")\n",
    "\n",
    "print(\"Response Counts:\")\n",
    "response_counts"
   ]
  },
  {
   "cell_type": "markdown",
   "metadata": {},
   "source": [
    "**Insight:** Not all departments answered all questions - some cells are 0."
   ]
  },
  {
   "cell_type": "markdown",
   "metadata": {},
   "source": [
    "## Real-World Workflow: Survey Analysis Report\n",
    "\n",
    "Combining reshape operations to create a comprehensive survey report."
   ]
  },
  {
   "cell_type": "code",
   "execution_count": null,
   "metadata": {},
   "outputs": [],
   "source": [
    "# Step 1: Start with wide format data\n",
    "print(\"Step 1: Original wide format survey\")\n",
    "print(f\"Shape: {survey_wide.shape}\")\n",
    "display(survey_wide.head(3))"
   ]
  },
  {
   "cell_type": "code",
   "execution_count": null,
   "metadata": {},
   "outputs": [],
   "source": [
    "# Step 2: Melt to long format for analysis\n",
    "survey_analysis = pd.melt(\n",
    "    survey_wide,\n",
    "    id_vars=['employee_id', 'department'],\n",
    "    value_vars=['Q1_workload', 'Q2_management', 'Q3_compensation', \n",
    "                'Q4_work_life', 'Q5_growth'],\n",
    "    var_name='question',\n",
    "    value_name='rating'\n",
    ")\n",
    "\n",
    "print(\"\\nStep 2: Melted to long format for analysis\")\n",
    "print(f\"Shape: {survey_analysis.shape}\")\n",
    "display(survey_analysis.head(3))"
   ]
  },
  {
   "cell_type": "code",
   "execution_count": null,
   "metadata": {},
   "outputs": [],
   "source": [
    "# Step 3: Calculate summary statistics by department and question\n",
    "dept_question_summary = survey_analysis.pivot_table(\n",
    "    index='department',\n",
    "    columns='question',\n",
    "    values='rating',\n",
    "    aggfunc='mean'\n",
    ").round(2)\n",
    "\n",
    "print(\"\\nStep 3: Department × Question Summary (pivot_table)\")\n",
    "display(dept_question_summary)"
   ]
  },
  {
   "cell_type": "code",
   "execution_count": null,
   "metadata": {},
   "outputs": [],
   "source": [
    "# Step 4: Add department average column\n",
    "dept_question_summary['Dept_Avg'] = dept_question_summary.mean(axis=1).round(2)\n",
    "\n",
    "# Add overall question averages as a row\n",
    "dept_question_summary.loc['Overall_Avg'] = dept_question_summary.mean(axis=0).round(2)\n",
    "\n",
    "print(\"\\nStep 4: Final Report with Averages\")\n",
    "dept_question_summary"
   ]
  },
  {
   "cell_type": "markdown",
   "metadata": {},
   "source": [
    "**Report Insights:**\n",
    "- **HR** has highest overall satisfaction (4.60)\n",
    "- **Sales** has lowest overall satisfaction (3.80)\n",
    "- **Q3_compensation** is weakest area company-wide (3.83 avg)\n",
    "- **Q2_management** and **Q5_growth** are strongest (4.50 avg)\n",
    "\n",
    "**Workflow summary:**\n",
    "1. Wide format (input data)\n",
    "2. Melt to long (for analysis)\n",
    "3. Pivot_table to wide (for reporting)\n",
    "4. Add summary stats (for insights)"
   ]
  },
  {
   "cell_type": "markdown",
   "metadata": {},
   "source": [
    "## Cleaning Up Question Labels\n",
    "\n",
    "Often you want to replace codes (Q1_workload) with readable names."
   ]
  },
  {
   "cell_type": "code",
   "execution_count": null,
   "metadata": {},
   "outputs": [],
   "source": [
    "# Create readable question labels\n",
    "question_labels = {\n",
    "    'Q1_workload': 'Workload Balance',\n",
    "    'Q2_management': 'Management Support',\n",
    "    'Q3_compensation': 'Compensation',\n",
    "    'Q4_work_life': 'Work-Life Balance',\n",
    "    'Q5_growth': 'Career Growth'\n",
    "}\n",
    "\n",
    "# Apply to our long format data\n",
    "survey_readable = survey_long.copy()\n",
    "survey_readable['question'] = survey_readable['question'].map(question_labels)\n",
    "\n",
    "print(\"Survey with Readable Labels:\")\n",
    "survey_readable.head()"
   ]
  },
  {
   "cell_type": "code",
   "execution_count": null,
   "metadata": {},
   "outputs": [],
   "source": [
    "# Create final presentation table with readable names\n",
    "final_report = survey_readable.pivot_table(\n",
    "    index='department',\n",
    "    columns='question',\n",
    "    values='rating',\n",
    "    aggfunc='mean'\n",
    ").round(2)\n",
    "\n",
    "# Add department averages\n",
    "final_report['Department Average'] = final_report.mean(axis=1).round(2)\n",
    "\n",
    "print(\"\\nFinal Survey Report (Presentation-Ready):\")\n",
    "final_report.sort_values('Department Average', ascending=False)"
   ]
  },
  {
   "cell_type": "markdown",
   "metadata": {},
   "source": [
    "**Now the report is ready for executives!** Clear labels, sorted by performance."
   ]
  },
  {
   "cell_type": "markdown",
   "metadata": {},
   "source": [
    "## When to Use Each Format\n",
    "\n",
    "**Use WIDE format when:**\n",
    "- Presenting to humans (reports, dashboards)\n",
    "- Each row represents one logical entity\n",
    "- Comparing values across columns visually\n",
    "- Working in spreadsheet software\n",
    "\n",
    "**Use LONG format when:**\n",
    "- Performing statistical analysis\n",
    "- Using groupby operations\n",
    "- Creating visualizations (seaborn, plotly prefer long)\n",
    "- Filtering by variable type\n",
    "- Database storage (more flexible schema)\n",
    "\n",
    "**Common workflow:**\n",
    "1. **Store** in long format (database)\n",
    "2. **Analyze** in long format (groupby, stats)\n",
    "3. **Present** in wide format (pivot tables, reports)"
   ]
  },
  {
   "cell_type": "markdown",
   "metadata": {},
   "source": [
    "## Key Takeaways\n",
    "\n",
    "1. **melt() transforms wide → long:**\n",
    "   - Use `id_vars` for columns to keep\n",
    "   - Use `value_vars` for columns to stack\n",
    "   - Customize names with `var_name` and `value_name`\n",
    "\n",
    "2. **pivot() transforms long → wide:**\n",
    "   - Use `index` for row labels\n",
    "   - Use `columns` for column labels\n",
    "   - Use `values` for data to fill cells\n",
    "   - **Requires unique index/column combinations**\n",
    "\n",
    "3. **pivot_table() is pivot() with aggregation:**\n",
    "   - Handles duplicate index/column pairs\n",
    "   - Specify `aggfunc` (mean, sum, count, etc.)\n",
    "   - Use `fill_value` for missing combinations\n",
    "\n",
    "4. **Complete workflow pattern:**\n",
    "   - Wide (input) → Long (analysis) → Wide (presentation)\n",
    "   - Clean labels for readability\n",
    "   - Add summary statistics\n",
    "\n",
    "5. **Common mistakes to avoid:**\n",
    "   - Using pivot() with duplicates (use pivot_table instead)\n",
    "   - Forgetting to reset_index() after pivot\n",
    "   - Not cleaning column names before pivoting\n",
    "\n",
    "**Practice tip:** When stuck, ask: \"What do I want as rows? What as columns? What as values?\" This guides your reshape operation!"
   ]
  }
 ],
 "metadata": {
  "kernelspec": {
   "display_name": "Python 3",
   "language": "python",
   "name": "python3"
  },
  "language_info": {
   "codemirror_mode": {
    "name": "ipython",
    "version": 3
   },
   "file_extension": ".py",
   "mimetype": "text/x-python",
   "name": "python",
   "nbconvert_exporter": "python",
   "pygments_lexer": "ipython3",
   "version": "3.11.0"
  }
 },
 "nbformat": 4,
 "nbformat_minor": 4
}
