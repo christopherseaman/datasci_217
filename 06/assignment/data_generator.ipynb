{
 "cells": [
  {
   "cell_type": "markdown",
   "id": "265f1f0a",
   "metadata": {},
   "source": [
    "# Assignment 6: Data Generator\n",
    "\n",
    "This notebook generates the datasets you'll use for Assignment 6 (Data Wrangling).\n",
    "\n",
    "**Run this notebook ONCE to create the data files**, then work on `assignment.ipynb`.\n",
    "\n",
    "---\n",
    "\n",
    "## Generated Files\n",
    "\n",
    "This notebook creates:\n",
    "- `data/customers.csv` - Customer information (100 customers)\n",
    "- `data/purchases.csv` - Purchase transactions (2,000 purchases)\n",
    "- `data/products.csv` - Product catalog (50 products)\n",
    "\n",
    "---\n",
    "\n",
    "## Setup"
   ]
  },
  {
   "cell_type": "code",
   "execution_count": null,
   "id": "a5d05c32",
   "metadata": {},
   "outputs": [],
   "source": [
    "import pandas as pd\n",
    "import numpy as np\n",
    "from datetime import datetime, timedelta\n",
    "\n",
    "# Set random seed for reproducibility\n",
    "np.random.seed(42)\n",
    "print(\"✓ Libraries imported\")"
   ]
  },
  {
   "cell_type": "markdown",
   "id": "01d16bec",
   "metadata": {},
   "source": [
    "---\n",
    "\n",
    "## Generate Customer Data"
   ]
  },
  {
   "cell_type": "code",
   "execution_count": null,
   "id": "a43ed086",
   "metadata": {},
   "outputs": [],
   "source": [
    "# Customer IDs\n",
    "customer_ids = [f'C{i:03d}' for i in range(1, 101)]\n",
    "\n",
    "# Names (realistic distribution)\n",
    "first_names = ['Alice', 'Bob', 'Charlie', 'Diana', 'Eric', 'Fiona', 'George', 'Hannah',\n",
    "               'Ian', 'Julia', 'Kevin', 'Laura', 'Michael', 'Nina', 'Oscar', 'Patricia',\n",
    "               'Quinn', 'Rachel', 'Steve', 'Teresa']\n",
    "last_names = ['Chen', 'Martinez', 'Kim', 'Patel', 'Thompson', 'Garcia', 'Lee', 'Wilson',\n",
    "              'Anderson', 'Jackson', 'Brown', 'Davis', 'Miller', 'Rodriguez', 'Singh']\n",
    "\n",
    "# Cities weighted by population\n",
    "cities = np.random.choice(\n",
    "    ['Seattle', 'Portland', 'San Francisco', 'Los Angeles', 'San Diego', 'Sacramento'],\n",
    "    size=100,\n",
    "    p=[0.25, 0.20, 0.20, 0.15, 0.10, 0.10]\n",
    ")\n",
    "\n",
    "# Generate customer data\n",
    "customers = pd.DataFrame({\n",
    "    'customer_id': customer_ids,\n",
    "    'name': [f\"{np.random.choice(first_names)} {np.random.choice(last_names)}\"\n",
    "             for _ in range(100)],\n",
    "    'city': cities,\n",
    "    'signup_date': pd.date_range('2023-01-01', periods=100, freq='3D')\n",
    "})\n",
    "\n",
    "print(f\"✓ Generated {len(customers)} customers\")\n",
    "customers.head()"
   ]
  },
  {
   "cell_type": "markdown",
   "id": "cd2cbdb4",
   "metadata": {},
   "source": [
    "---\n",
    "\n",
    "## Generate Product Catalog"
   ]
  },
  {
   "cell_type": "code",
   "execution_count": null,
   "id": "fde5d4a8",
   "metadata": {},
   "outputs": [],
   "source": [
    "# Product categories\n",
    "categories = {\n",
    "    'Electronics': ['Laptop', 'Mouse', 'Keyboard', 'Monitor', 'Tablet', 'Smartphone',\n",
    "                    'Headphones', 'Webcam', 'USB Cable', 'Power Bank'],\n",
    "    'Clothing': ['T-Shirt', 'Jeans', 'Sweater', 'Jacket', 'Shoes', 'Hat', 'Socks',\n",
    "                 'Dress', 'Shorts', 'Scarf'],\n",
    "    'Home & Garden': ['Coffee Maker', 'Blender', 'Vacuum', 'Lamp', 'Plant Pot',\n",
    "                      'Rug', 'Curtains', 'Pillow', 'Candle', 'Picture Frame'],\n",
    "    'Books': ['Fiction Novel', 'Cookbook', 'Biography', 'Textbook', 'Magazine',\n",
    "              'Comic Book', 'Travel Guide', 'Self-Help', 'Poetry', 'Reference Book'],\n",
    "    'Sports': ['Yoga Mat', 'Dumbbells', 'Tennis Racket', 'Soccer Ball', 'Running Shoes',\n",
    "               'Water Bottle', 'Resistance Bands', 'Jump Rope', 'Bicycle', 'Skateboard']\n",
    "}\n",
    "\n",
    "# Build product catalog\n",
    "product_list = []\n",
    "product_id = 1\n",
    "\n",
    "for category, items in categories.items():\n",
    "    for item in items:\n",
    "        # Price varies by category\n",
    "        base_prices = {\n",
    "            'Electronics': (50, 1500),\n",
    "            'Clothing': (20, 150),\n",
    "            'Home & Garden': (15, 300),\n",
    "            'Books': (10, 50),\n",
    "            'Sports': (15, 500)\n",
    "        }\n",
    "\n",
    "        min_price, max_price = base_prices[category]\n",
    "        price = round(np.random.uniform(min_price, max_price), 2)\n",
    "\n",
    "        product_list.append({\n",
    "            'product_id': f'P{product_id:03d}',\n",
    "            'product_name': item,\n",
    "            'category': category,\n",
    "            'price': price\n",
    "        })\n",
    "        product_id += 1\n",
    "\n",
    "products = pd.DataFrame(product_list)\n",
    "\n",
    "print(f\"✓ Generated {len(products)} products across {len(categories)} categories\")\n",
    "products.head(10)"
   ]
  },
  {
   "cell_type": "markdown",
   "id": "f590c2f6",
   "metadata": {},
   "source": [
    "---\n",
    "\n",
    "## Generate Purchase Transactions"
   ]
  },
  {
   "cell_type": "code",
   "execution_count": null,
   "id": "7584ef53",
   "metadata": {},
   "outputs": [],
   "source": [
    "# Generate 2,000 purchases\n",
    "num_purchases = 2000\n",
    "\n",
    "# Weighted customer selection (some customers buy more)\n",
    "customer_weights = np.exp(np.linspace(0, 2, 100))  # Exponential distribution\n",
    "customer_weights = customer_weights / customer_weights.sum()\n",
    "\n",
    "purchases = pd.DataFrame({\n",
    "    'purchase_id': [f'T{i:04d}' for i in range(1, num_purchases + 1)],\n",
    "    'customer_id': np.random.choice(customer_ids, size=num_purchases, p=customer_weights),\n",
    "    'product_id': np.random.choice(products['product_id'], size=num_purchases),\n",
    "    'quantity': np.random.choice([1, 2, 3, 4, 5], size=num_purchases, p=[0.5, 0.25, 0.15, 0.07, 0.03]),\n",
    "    'purchase_date': pd.date_range('2023-01-01', periods=num_purchases, freq='4H'),\n",
    "    'store': np.random.choice(['Store A', 'Store B', 'Store C'], size=num_purchases)\n",
    "})\n",
    "\n",
    "print(f\"✓ Generated {len(purchases)} purchase transactions\")\n",
    "purchases.head(10)"
   ]
  },
  {
   "cell_type": "markdown",
   "id": "aefc5557",
   "metadata": {},
   "source": [
    "---\n",
    "\n",
    "## Verify Data Relationships"
   ]
  },
  {
   "cell_type": "code",
   "execution_count": null,
   "id": "c59d8762",
   "metadata": {},
   "outputs": [],
   "source": [
    "# Check for many-to-one relationships\n",
    "print(\"Data Quality Checks:\")\n",
    "print(f\"  Unique customers: {customers['customer_id'].nunique()}\")\n",
    "print(f\"  Unique products: {products['product_id'].nunique()}\")\n",
    "print(f\"  Total purchases: {len(purchases)}\")\n",
    "print()\n",
    "\n",
    "# Customer purchase frequency\n",
    "purchase_counts = purchases['customer_id'].value_counts()\n",
    "print(f\"  Customers with purchases: {len(purchase_counts)}\")\n",
    "print(f\"  Max purchases by one customer: {purchase_counts.max()}\")\n",
    "print(f\"  Customers with no purchases: {len(customers) - len(purchase_counts)}\")\n",
    "print()\n",
    "\n",
    "# Product popularity\n",
    "product_counts = purchases['product_id'].value_counts()\n",
    "print(f\"  Products sold: {len(product_counts)}\")\n",
    "print(f\"  Products never sold: {len(products) - len(product_counts)}\")\n",
    "print()\n",
    "\n",
    "print(\"✓ Data relationships look good for assignment!\")"
   ]
  },
  {
   "cell_type": "markdown",
   "id": "2c2a7264",
   "metadata": {},
   "source": [
    "---\n",
    "\n",
    "## Save to CSV Files"
   ]
  },
  {
   "cell_type": "code",
   "execution_count": null,
   "id": "a1340e25",
   "metadata": {},
   "outputs": [],
   "source": [
    "# Create data directory if it doesn't exist\n",
    "import os\n",
    "os.makedirs('data', exist_ok=True)\n",
    "\n",
    "# Save all datasets\n",
    "customers.to_csv('data/customers.csv', index=False)\n",
    "print(\"✓ Saved data/customers.csv\")\n",
    "\n",
    "products.to_csv('data/products.csv', index=False)\n",
    "print(\"✓ Saved data/products.csv\")\n",
    "\n",
    "purchases.to_csv('data/purchases.csv', index=False)\n",
    "print(\"✓ Saved data/purchases.csv\")\n",
    "\n",
    "print()\n",
    "print(\"=\" * 50)\n",
    "print(\"✓ ALL DATA FILES GENERATED SUCCESSFULLY!\")\n",
    "print(\"=\" * 50)\n",
    "print()\n",
    "print(\"Next step: Open assignment.ipynb and complete the questions.\")"
   ]
  },
  {
   "cell_type": "markdown",
   "id": "3e46645c",
   "metadata": {},
   "source": [
    "---\n",
    "\n",
    "## Preview Generated Data"
   ]
  },
  {
   "cell_type": "code",
   "execution_count": null,
   "id": "818534fd",
   "metadata": {},
   "outputs": [],
   "source": [
    "print(\"Customers:\")\n",
    "display(customers.head())\n",
    "\n",
    "print(\"\\nProducts:\")\n",
    "display(products.head())\n",
    "\n",
    "print(\"\\nPurchases:\")\n",
    "display(purchases.head())"
   ]
  }
 ],
 "metadata": {
  "kernelspec": {
   "display_name": "Python 3 (ipykernel)",
   "language": "python",
   "name": "python3"
  }
 },
 "nbformat": 4,
 "nbformat_minor": 5
}
