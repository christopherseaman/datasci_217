{
 "cells": [
  {
   "cell_type": "markdown",
   "id": "112c8a9d",
   "metadata": {},
   "source": [
    "# Demo 1: datetime Fundamentals\n",
    "\n",
    "## Learning Objectives\n",
    "- Master Python datetime module basics\n",
    "- Create and manipulate pandas DatetimeIndex\n",
    "- Generate date ranges with different frequencies\n",
    "- Handle time zones and business days\n",
    "\n",
    "## Setup"
   ]
  },
  {
   "cell_type": "code",
   "execution_count": null,
   "id": "35067095",
   "metadata": {},
   "outputs": [],
   "source": [
    "import pandas as pd\n",
    "import numpy as np\n",
    "from datetime import datetime, timedelta\n",
    "import matplotlib.pyplot as plt\n",
    "\n",
    "# Set inline plotting for Jupyter\n",
    "%matplotlib inline\n",
    "\n",
    "# Set random seed for reproducibility\n",
    "np.random.seed(42)"
   ]
  },
  {
   "cell_type": "markdown",
   "id": "873e5020",
   "metadata": {},
   "source": [
    "## Part 1: Python datetime Module\n",
    "\n",
    "### Basic datetime Operations"
   ]
  },
  {
   "cell_type": "code",
   "execution_count": null,
   "id": "73dbd3ac",
   "metadata": {},
   "outputs": [],
   "source": [
    "# Current time\n",
    "now = datetime.now()\n",
    "print(f\"Current time: {now}\")\n",
    "\n",
    "# Specific date\n",
    "birthday = datetime(1990, 5, 15)\n",
    "print(f\"Birthday: {birthday}\")\n",
    "\n",
    "# String parsing\n",
    "date_str = \"2023-12-25 14:30:00\"\n",
    "parsed_date = datetime.strptime(date_str, \"%Y-%m-%d %H:%M:%S\")\n",
    "print(f\"Parsed date: {parsed_date}\")\n",
    "\n",
    "# String formatting\n",
    "formatted = parsed_date.strftime(\"%B %d, %Y at %I:%M %p\")\n",
    "print(f\"Formatted: {formatted}\")\n",
    "\n",
    "# Time differences\n",
    "time_diff = now - birthday\n",
    "print(f\"Age in days: {time_diff.days}\")"
   ]
  },
  {
   "cell_type": "markdown",
   "id": "521743f6",
   "metadata": {},
   "source": [
    "### datetime Arithmetic"
   ]
  },
  {
   "cell_type": "code",
   "execution_count": null,
   "id": "4baeff1b",
   "metadata": {},
   "outputs": [],
   "source": [
    "# Date arithmetic\n",
    "start_date = datetime(2023, 1, 1)\n",
    "end_date = datetime(2023, 12, 31)\n",
    "\n",
    "# Calculate difference\n",
    "duration = end_date - start_date\n",
    "print(f\"Duration: {duration.days} days\")\n",
    "\n",
    "# Add/subtract time\n",
    "future_date = start_date + timedelta(days=30)\n",
    "past_date = start_date - timedelta(weeks=2)\n",
    "\n",
    "print(f\"30 days from start: {future_date}\")\n",
    "print(f\"2 weeks before start: {past_date}\")\n",
    "\n",
    "# Business days (weekdays only)\n",
    "business_days = pd.bdate_range(start_date, end_date)\n",
    "print(f\"Business days in 2023: {len(business_days)}\")"
   ]
  },
  {
   "cell_type": "markdown",
   "id": "c020bea2",
   "metadata": {},
   "source": [
    "## Part 2: pandas DatetimeIndex\n",
    "\n",
    "### Creating DatetimeIndex"
   ]
  },
  {
   "cell_type": "code",
   "execution_count": null,
   "id": "9b9217bd",
   "metadata": {},
   "outputs": [],
   "source": [
    "# Convert strings to datetime\n",
    "date_strings = ['2023-01-01', '2023-01-02', '2023-01-03']\n",
    "dates = pd.to_datetime(date_strings)\n",
    "print(\"Converted dates:\")\n",
    "print(dates)\n",
    "\n",
    "# Create date range\n",
    "date_range = pd.date_range('2023-01-01', periods=10, freq='D')\n",
    "print(\"\\nDate range:\")\n",
    "print(date_range)\n",
    "\n",
    "# Create DataFrame with datetime index\n",
    "df = pd.DataFrame({\n",
    "    'value': np.random.randn(10)\n",
    "}, index=date_range)\n",
    "print(\"\\nDataFrame with datetime index:\")\n",
    "print(df.head())"
   ]
  },
  {
   "cell_type": "markdown",
   "id": "33160dab",
   "metadata": {},
   "source": [
    "### Date Range Generation"
   ]
  },
  {
   "cell_type": "code",
   "execution_count": null,
   "id": "012a0fa6",
   "metadata": {},
   "outputs": [],
   "source": [
    "# Different date range types\n",
    "print(\"=== Date Range Generation ===\")\n",
    "\n",
    "# Daily range\n",
    "daily = pd.date_range('2023-01-01', '2023-01-10', freq='D')\n",
    "print(\"Daily range:\")\n",
    "print(daily)\n",
    "\n",
    "# Business days only\n",
    "business = pd.bdate_range('2023-01-01', '2023-01-10')\n",
    "print(\"\\nBusiness days only:\")\n",
    "print(business)\n",
    "\n",
    "# Weekly range (Mondays)\n",
    "weekly = pd.date_range('2023-01-01', '2023-03-01', freq='W-MON')\n",
    "print(\"\\nWeekly range (Mondays):\")\n",
    "print(weekly)\n",
    "\n",
    "# Monthly range\n",
    "monthly = pd.date_range('2023-01-01', '2023-12-01', freq='MS')\n",
    "print(\"\\nMonthly range:\")\n",
    "print(monthly)\n",
    "\n",
    "# Quarterly range\n",
    "quarterly = pd.date_range('2023-01-01', '2023-12-31', freq='QS')\n",
    "print(\"\\nQuarterly range:\")\n",
    "print(quarterly)"
   ]
  },
  {
   "cell_type": "markdown",
   "id": "2b00ba38",
   "metadata": {},
   "source": [
    "### Frequency Inference"
   ]
  },
  {
   "cell_type": "code",
   "execution_count": null,
   "id": "5f2685a1",
   "metadata": {},
   "outputs": [],
   "source": [
    "# Create time series with inferred frequency\n",
    "dates = pd.date_range('2023-01-01', periods=100, freq='D')\n",
    "ts = pd.Series(np.random.randn(100), index=dates)\n",
    "\n",
    "# Infer frequency\n",
    "freq = pd.infer_freq(ts.index)\n",
    "print(f\"Inferred frequency: {freq}\")\n",
    "\n",
    "# Convert to different frequency\n",
    "ts_weekly = ts.asfreq('W')\n",
    "print(f\"Weekly frequency: {pd.infer_freq(ts_weekly.index)}\")\n",
    "\n",
    "# Resample to different frequency\n",
    "ts_monthly = ts.resample('M').mean()\n",
    "print(f\"Monthly frequency: {pd.infer_freq(ts_monthly.index)}\")"
   ]
  },
  {
   "cell_type": "markdown",
   "id": "56a802d1",
   "metadata": {},
   "source": [
    "## Part 3: Time Zone Handling\n",
    "\n",
    "### Basic Time Zone Operations"
   ]
  },
  {
   "cell_type": "code",
   "execution_count": null,
   "id": "d919497f",
   "metadata": {},
   "outputs": [],
   "source": [
    "# Create timezone-aware datetime\n",
    "utc_time = pd.Timestamp.now(tz='UTC')\n",
    "print(f\"UTC time: {utc_time}\")\n",
    "\n",
    "# Convert to different timezone\n",
    "eastern_time = utc_time.tz_convert('US/Eastern')\n",
    "print(f\"Eastern time: {eastern_time}\")\n",
    "\n",
    "# Create timezone-aware DataFrame\n",
    "df_tz = pd.DataFrame({\n",
    "    'value': np.random.randn(3)\n",
    "}, index=pd.date_range('2023-01-01', periods=3, freq='D'))\n",
    "\n",
    "# Localize to UTC\n",
    "df_tz.index = df_tz.index.tz_localize('UTC')\n",
    "print(\"\\nUTC DataFrame:\")\n",
    "print(df_tz)\n",
    "\n",
    "# Convert to Eastern time\n",
    "df_tz.index = df_tz.index.tz_convert('US/Eastern')\n",
    "print(\"\\nEastern DataFrame:\")\n",
    "print(df_tz)"
   ]
  },
  {
   "cell_type": "markdown",
   "id": "63ed8cd7",
   "metadata": {},
   "source": [
    "### Multiple Time Zones"
   ]
  },
  {
   "cell_type": "code",
   "execution_count": null,
   "id": "18475a40",
   "metadata": {},
   "outputs": [],
   "source": [
    "# Work with multiple time zones\n",
    "timezones = ['UTC', 'US/Eastern', 'US/Pacific', 'Europe/London', 'Asia/Tokyo']\n",
    "\n",
    "print(\"=== Multiple Time Zones ===\")\n",
    "base_time = pd.Timestamp('2023-01-01 12:00:00', tz='UTC')\n",
    "\n",
    "for tz in timezones:\n",
    "    converted_time = base_time.tz_convert(tz)\n",
    "    print(f\"{tz}: {converted_time}\")"
   ]
  },
  {
   "cell_type": "markdown",
   "id": "93359ab8",
   "metadata": {},
   "source": [
    "## Part 4: Business Day Operations\n",
    "\n",
    "### Business Day Calculations"
   ]
  },
  {
   "cell_type": "code",
   "execution_count": null,
   "id": "6fab96ae",
   "metadata": {},
   "outputs": [],
   "source": [
    "# Business day operations\n",
    "print(\"=== Business Day Operations ===\")\n",
    "\n",
    "# Business days in January 2023\n",
    "business_dates = pd.bdate_range('2023-01-01', '2023-01-31')\n",
    "print(\"Business days in January 2023:\")\n",
    "print(business_dates)\n",
    "\n",
    "# Create business day time series\n",
    "ts_business = pd.Series(np.random.randn(len(business_dates)), index=business_dates)\n",
    "print(f\"\\nBusiness day time series shape: {ts_business.shape}\")\n",
    "\n",
    "# Convert daily to business days\n",
    "daily_ts = pd.Series(np.random.randn(31), index=pd.date_range('2023-01-01', periods=31, freq='D'))\n",
    "business_ts = daily_ts.asfreq('B')\n",
    "print(f\"Converted to business days: {business_ts.shape}\")"
   ]
  },
  {
   "cell_type": "markdown",
   "id": "271d3431",
   "metadata": {},
   "source": [
    "### Custom Business Day Rules"
   ]
  },
  {
   "cell_type": "code",
   "execution_count": null,
   "id": "001d8a60",
   "metadata": {},
   "outputs": [],
   "source": [
    "# Custom business day rules\n",
    "from pandas.tseries.offsets import CustomBusinessDay\n",
    "\n",
    "# Define custom business day (exclude weekends and specific holidays)\n",
    "custom_bd = CustomBusinessDay(holidays=['2023-01-02', '2023-01-16'])  # New Year's Day, MLK Day\n",
    "custom_dates = pd.date_range('2023-01-01', '2023-01-31', freq=custom_bd)\n",
    "\n",
    "print(\"=== Custom Business Days ===\")\n",
    "print(\"Custom business days (excluding holidays):\")\n",
    "print(custom_dates)"
   ]
  },
  {
   "cell_type": "markdown",
   "id": "98fa7c97",
   "metadata": {},
   "source": [
    "## Part 5: Real-world Example\n",
    "\n",
    "### Stock Market Data Simulation"
   ]
  },
  {
   "cell_type": "code",
   "execution_count": null,
   "id": "0a4b902e",
   "metadata": {},
   "outputs": [],
   "source": [
    "# Simulate stock market data\n",
    "print(\"=== Stock Market Data Simulation ===\")\n",
    "\n",
    "# Create trading days (business days only)\n",
    "trading_days = pd.bdate_range('2023-01-01', '2023-12-31')\n",
    "n_days = len(trading_days)\n",
    "\n",
    "# Generate stock price data (random walk)\n",
    "np.random.seed(42)\n",
    "returns = np.random.normal(0.001, 0.02, n_days)  # Daily returns\n",
    "prices = 100 * np.exp(np.cumsum(returns))  # Stock prices\n",
    "\n",
    "# Create time series\n",
    "stock_data = pd.Series(prices, index=trading_days)\n",
    "print(f\"Stock data shape: {stock_data.shape}\")\n",
    "print(f\"Date range: {stock_data.index.min()} to {stock_data.index.max()}\")\n",
    "print(f\"Price range: ${stock_data.min():.2f} to ${stock_data.max():.2f}\")\n",
    "\n",
    "# Display sample data\n",
    "print(\"\\nSample stock data:\")\n",
    "print(stock_data.head())\n",
    "print(stock_data.tail())"
   ]
  },
  {
   "cell_type": "markdown",
   "id": "b5f7d524",
   "metadata": {},
   "source": [
    "### Time Series Analysis"
   ]
  },
  {
   "cell_type": "code",
   "execution_count": null,
   "id": "cae00ac7",
   "metadata": {},
   "outputs": [],
   "source": [
    "# Basic time series analysis\n",
    "print(\"=== Time Series Analysis ===\")\n",
    "\n",
    "# Calculate daily returns\n",
    "daily_returns = stock_data.pct_change()\n",
    "print(f\"Daily returns mean: {daily_returns.mean():.4f}\")\n",
    "print(f\"Daily returns std: {daily_returns.std():.4f}\")\n",
    "\n",
    "# Convert to DataFrame for adding columns\n",
    "stock_df = stock_data.to_frame(name='Price')\n",
    "\n",
    "# Calculate moving averages\n",
    "stock_df['MA_5'] = stock_df['Price'].rolling(window=5).mean()\n",
    "stock_df['MA_20'] = stock_df['Price'].rolling(window=20).mean()\n",
    "\n",
    "# Calculate volatility (rolling standard deviation)\n",
    "stock_df['Volatility'] = daily_returns.rolling(window=20).std()\n",
    "\n",
    "print(\"\\nStock data with indicators:\")\n",
    "print(stock_df.tail())"
   ]
  },
  {
   "cell_type": "markdown",
   "id": "fbe1a5a0",
   "metadata": {},
   "source": [
    "### Visualization"
   ]
  },
  {
   "cell_type": "code",
   "execution_count": null,
   "id": "11afd628",
   "metadata": {},
   "outputs": [],
   "source": [
    "# Create time series plot\n",
    "fig, axes = plt.subplots(2, 1, figsize=(12, 10))\n",
    "\n",
    "# Price and moving averages\n",
    "axes[0].plot(stock_df.index, stock_df['Price'], label='Stock Price', linewidth=1)\n",
    "axes[0].plot(stock_df.index, stock_df['MA_5'], label='5-day MA', alpha=0.7)\n",
    "axes[0].plot(stock_df.index, stock_df['MA_20'], label='20-day MA', alpha=0.7)\n",
    "axes[0].set_title('Stock Price with Moving Averages')\n",
    "axes[0].set_ylabel('Price ($)')\n",
    "axes[0].legend()\n",
    "axes[0].grid(True, alpha=0.3)\n",
    "\n",
    "# Volatility\n",
    "axes[1].plot(stock_df.index, stock_df['Volatility'], label='20-day Volatility', color='red')\n",
    "axes[1].set_title('Stock Price Volatility')\n",
    "axes[1].set_xlabel('Date')\n",
    "axes[1].set_ylabel('Volatility')\n",
    "axes[1].legend()\n",
    "axes[1].grid(True, alpha=0.3)\n",
    "\n",
    "plt.tight_layout()\n",
    "plt.show()"
   ]
  },
  {
   "cell_type": "markdown",
   "id": "335c6a66",
   "metadata": {},
   "source": [
    "## Key Takeaways\n",
    "\n",
    "1. **datetime Module**: Basic date/time operations and arithmetic\n",
    "2. **DatetimeIndex**: pandas time series indexing and manipulation\n",
    "3. **Date Ranges**: Generate sequences of dates with different frequencies\n",
    "4. **Time Zones**: Handle timezone-aware data and conversions\n",
    "5. **Business Days**: Work with business day calculations and custom rules\n",
    "6. **Real-world Application**: Apply datetime skills to financial data analysis\n",
    "\n",
    "## Next Steps\n",
    "\n",
    "- Practice with your own time series data\n",
    "- Learn about resampling and frequency conversion\n",
    "- Explore rolling window operations\n",
    "- Set up automated time series analysis"
   ]
  }
 ],
 "metadata": {
  "jupytext": {
   "cell_metadata_filter": "-all",
   "main_language": "python",
   "notebook_metadata_filter": "-all"
  }
 },
 "nbformat": 4,
 "nbformat_minor": 5
}
