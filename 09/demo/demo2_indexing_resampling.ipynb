{
 "cells": [
  {
   "cell_type": "markdown",
   "id": "6478c0f3",
   "metadata": {},
   "source": [
    "# Demo 2: Time Series Indexing and Resampling\n",
    "\n",
    "## Learning Objectives\n",
    "- Master time series indexing and selection\n",
    "- Use resampling for frequency conversion\n",
    "- Apply rolling window operations\n",
    "- Handle missing data in time series\n",
    "\n",
    "## Setup"
   ]
  },
  {
   "cell_type": "code",
   "execution_count": null,
   "id": "2de218c4",
   "metadata": {},
   "outputs": [],
   "source": [
    "import pandas as pd\n",
    "import numpy as np\n",
    "import matplotlib.pyplot as plt\n",
    "from datetime import datetime, timedelta\n",
    "\n",
    "# Set inline plotting for Jupyter\n",
    "%matplotlib inline\n",
    "\n",
    "# Set random seed for reproducibility\n",
    "np.random.seed(42)"
   ]
  },
  {
   "cell_type": "markdown",
   "id": "5c8edb6a",
   "metadata": {},
   "source": [
    "## Part 1: Time Series Indexing\n",
    "\n",
    "### Create Sample Time Series"
   ]
  },
  {
   "cell_type": "code",
   "execution_count": null,
   "id": "63ff96f9",
   "metadata": {},
   "outputs": [],
   "source": [
    "# Create sample time series data\n",
    "dates = pd.date_range('2023-01-01', periods=365, freq='D')\n",
    "values = np.cumsum(np.random.randn(365)) + 100\n",
    "ts = pd.Series(values, index=dates)\n",
    "\n",
    "print(\"=== Time Series Data ===\")\n",
    "print(f\"Data shape: {ts.shape}\")\n",
    "print(f\"Date range: {ts.index.min()} to {ts.index.max()}\")\n",
    "print(f\"Value range: {ts.min():.2f} to {ts.max():.2f}\")\n",
    "print(\"\\nSample data:\")\n",
    "print(ts.head())"
   ]
  },
  {
   "cell_type": "markdown",
   "id": "1f3fa010",
   "metadata": {},
   "source": [
    "### Basic Time Series Selection"
   ]
  },
  {
   "cell_type": "code",
   "execution_count": null,
   "id": "767f62cf",
   "metadata": {},
   "outputs": [],
   "source": [
    "# Select specific date\n",
    "print(\"=== Basic Time Series Selection ===\")\n",
    "print(\"January 1, 2023:\")\n",
    "print(ts['2023-01-01'])\n",
    "\n",
    "# Select date range\n",
    "print(\"\\nJanuary 2023:\")\n",
    "print(ts['2023-01-01':'2023-01-31'].head())\n",
    "\n",
    "# Select entire year\n",
    "print(\"\\n2023 data shape:\")\n",
    "print(ts['2023'].shape)\n",
    "\n",
    "# Select specific month\n",
    "print(\"\\nJanuary 2023:\")\n",
    "print(ts['2023-01'].head())"
   ]
  },
  {
   "cell_type": "markdown",
   "id": "cf163df4",
   "metadata": {},
   "source": [
    "### Advanced Time Series Selection"
   ]
  },
  {
   "cell_type": "code",
   "execution_count": null,
   "id": "0db1168f",
   "metadata": {},
   "outputs": [],
   "source": [
    "# Create hourly time series for advanced selection\n",
    "hourly_dates = pd.date_range('2023-01-01', periods=24*7, freq='H')\n",
    "hourly_values = np.random.randn(24*7)\n",
    "ts_hourly = pd.Series(hourly_values, index=hourly_dates)\n",
    "\n",
    "print(\"=== Advanced Time Series Selection ===\")\n",
    "print(\"Hourly data shape:\", ts_hourly.shape)\n",
    "\n",
    "# Select business hours (9 AM to 5 PM)\n",
    "business_hours = ts_hourly.between_time('09:00', '17:00')\n",
    "print(\"Business hours data:\")\n",
    "print(business_hours.head())\n",
    "\n",
    "# Select specific time\n",
    "noon_data = ts_hourly.at_time('12:00')\n",
    "print(\"\\nNoon data:\")\n",
    "print(noon_data.head())\n",
    "\n",
    "# Select first and last periods\n",
    "print(\"\\nFirst 3 days:\")\n",
    "print(ts_hourly.first('3D').head())\n",
    "\n",
    "print(\"\\nLast 3 days:\")\n",
    "print(ts_hourly.last('3D').head())"
   ]
  },
  {
   "cell_type": "markdown",
   "id": "b67a6f59",
   "metadata": {},
   "source": [
    "## Part 2: Resampling and Frequency Conversion\n",
    "\n",
    "### Basic Resampling"
   ]
  },
  {
   "cell_type": "code",
   "execution_count": null,
   "id": "57937d78",
   "metadata": {},
   "outputs": [],
   "source": [
    "# Create daily time series\n",
    "daily_dates = pd.date_range('2023-01-01', periods=30, freq='D')\n",
    "daily_values = np.cumsum(np.random.randn(30)) + 100\n",
    "ts_daily = pd.Series(daily_values, index=daily_dates)\n",
    "\n",
    "print(\"=== Basic Resampling ===\")\n",
    "print(\"Original daily data shape:\", ts_daily.shape)\n",
    "\n",
    "# Weekly resampling\n",
    "weekly = ts_daily.resample('W').mean()\n",
    "print(\"Weekly resampled shape:\", weekly.shape)\n",
    "print(\"Weekly data:\")\n",
    "print(weekly.head())\n",
    "\n",
    "# Monthly resampling\n",
    "monthly = ts_daily.resample('M').mean()\n",
    "print(\"\\nMonthly resampled shape:\", monthly.shape)\n",
    "print(\"Monthly data:\")\n",
    "print(monthly.head())"
   ]
  },
  {
   "cell_type": "markdown",
   "id": "b17ceb34",
   "metadata": {},
   "source": [
    "### Resampling with Different Aggregations"
   ]
  },
  {
   "cell_type": "code",
   "execution_count": null,
   "id": "97c22010",
   "metadata": {},
   "outputs": [],
   "source": [
    "# Create sample data with multiple columns\n",
    "df = pd.DataFrame({\n",
    "    'value': np.random.randn(365),\n",
    "    'volume': np.random.randint(100, 1000, 365)\n",
    "}, index=pd.date_range('2023-01-01', periods=365, freq='D'))\n",
    "\n",
    "print(\"=== Resampling with Different Aggregations ===\")\n",
    "print(\"Daily to weekly resampling:\")\n",
    "weekly_stats = df.resample('W').agg({\n",
    "    'value': ['mean', 'std', 'min', 'max'],\n",
    "    'volume': 'sum'\n",
    "})\n",
    "print(weekly_stats.head())\n",
    "\n",
    "# Custom resampling function\n",
    "def custom_agg(series):\n",
    "    return pd.Series({\n",
    "        'mean': series.mean(),\n",
    "        'std': series.std(),\n",
    "        'range': series.max() - series.min(),\n",
    "        'count': len(series)\n",
    "    })\n",
    "\n",
    "print(\"\\nCustom aggregation:\")\n",
    "custom_stats = df['value'].resample('M').apply(custom_agg)\n",
    "print(custom_stats.head())"
   ]
  },
  {
   "cell_type": "markdown",
   "id": "ff570e73",
   "metadata": {},
   "source": [
    "### Frequency Conversion"
   ]
  },
  {
   "cell_type": "code",
   "execution_count": null,
   "id": "7b725c07",
   "metadata": {},
   "outputs": [],
   "source": [
    "# Convert between frequencies\n",
    "print(\"=== Frequency Conversion ===\")\n",
    "\n",
    "# Daily to business days\n",
    "daily_ts = pd.Series(np.random.randn(31), index=pd.date_range('2023-01-01', periods=31, freq='D'))\n",
    "business_ts = daily_ts.asfreq('B')\n",
    "print(f\"Daily to business days: {daily_ts.shape} -> {business_ts.shape}\")\n",
    "\n",
    "# Daily to weekly\n",
    "weekly_ts = daily_ts.asfreq('W')\n",
    "print(f\"Daily to weekly: {daily_ts.shape} -> {weekly_ts.shape}\")\n",
    "\n",
    "# Handle missing values\n",
    "print(\"\\nHandling missing values:\")\n",
    "print(\"Original data:\")\n",
    "print(daily_ts.head(10))\n",
    "print(\"\\nBusiness days (with NaN for weekends):\")\n",
    "print(business_ts.head(10))"
   ]
  },
  {
   "cell_type": "markdown",
   "id": "c4907d8e",
   "metadata": {},
   "source": [
    "## Part 3: Rolling Window Operations\n",
    "\n",
    "### Basic Rolling Operations"
   ]
  },
  {
   "cell_type": "code",
   "execution_count": null,
   "id": "93feef15",
   "metadata": {},
   "outputs": [],
   "source": [
    "# Create sample time series\n",
    "dates = pd.date_range('2023-01-01', periods=100, freq='D')\n",
    "values = np.cumsum(np.random.randn(100)) + 100\n",
    "ts = pd.Series(values, index=dates)\n",
    "\n",
    "print(\"=== Basic Rolling Operations ===\")\n",
    "print(\"Original time series:\")\n",
    "print(ts.head())\n",
    "\n",
    "# Rolling statistics\n",
    "ts['rolling_mean'] = ts.rolling(window=7).mean()\n",
    "ts['rolling_std'] = ts.rolling(window=7).std()\n",
    "ts['rolling_min'] = ts.rolling(window=7).min()\n",
    "ts['rolling_max'] = ts.rolling(window=7).max()\n",
    "\n",
    "print(\"\\nTime series with rolling statistics:\")\n",
    "print(ts[['value', 'rolling_mean', 'rolling_std']].head(10))"
   ]
  },
  {
   "cell_type": "markdown",
   "id": "a5b3ef7e",
   "metadata": {},
   "source": [
    "### Advanced Rolling Operations"
   ]
  },
  {
   "cell_type": "code",
   "execution_count": null,
   "id": "1b97b459",
   "metadata": {},
   "outputs": [],
   "source": [
    "# Advanced rolling operations\n",
    "print(\"=== Advanced Rolling Operations ===\")\n",
    "\n",
    "# Centered rolling window\n",
    "ts['centered_mean'] = ts.rolling(window=7, center=True).mean()\n",
    "\n",
    "# Expanding window\n",
    "ts['expanding_mean'] = ts.expanding().mean()\n",
    "\n",
    "# Exponentially weighted moving average\n",
    "ts['ewm_mean'] = ts.ewm(span=7).mean()\n",
    "\n",
    "# Custom rolling function\n",
    "def rolling_range(series):\n",
    "    return series.max() - series.min()\n",
    "\n",
    "ts['rolling_range'] = ts.rolling(window=7).apply(rolling_range)\n",
    "\n",
    "print(\"Advanced rolling statistics:\")\n",
    "print(ts[['value', 'centered_mean', 'expanding_mean', 'ewm_mean']].head(10))"
   ]
  },
  {
   "cell_type": "markdown",
   "id": "4f52c05a",
   "metadata": {},
   "source": [
    "### Rolling Window Visualization"
   ]
  },
  {
   "cell_type": "code",
   "execution_count": null,
   "id": "e52c2e70",
   "metadata": {},
   "outputs": [],
   "source": [
    "# Visualize rolling windows\n",
    "fig, axes = plt.subplots(2, 1, figsize=(12, 10))\n",
    "\n",
    "# Original data with rolling mean\n",
    "axes[0].plot(ts.index, ts['value'], label='Original', alpha=0.7)\n",
    "axes[0].plot(ts.index, ts['rolling_mean'], label='7-day Rolling Mean', linewidth=2)\n",
    "axes[0].plot(ts.index, ts['ewm_mean'], label='7-day EWM', linewidth=2)\n",
    "axes[0].set_title('Time Series with Rolling Averages')\n",
    "axes[0].set_ylabel('Value')\n",
    "axes[0].legend()\n",
    "axes[0].grid(True, alpha=0.3)\n",
    "\n",
    "# Rolling standard deviation\n",
    "axes[1].plot(ts.index, ts['rolling_std'], label='7-day Rolling Std', color='red')\n",
    "axes[1].set_title('Rolling Standard Deviation')\n",
    "axes[1].set_xlabel('Date')\n",
    "axes[1].set_ylabel('Standard Deviation')\n",
    "axes[1].legend()\n",
    "axes[1].grid(True, alpha=0.3)\n",
    "\n",
    "plt.tight_layout()\n",
    "plt.show()"
   ]
  },
  {
   "cell_type": "markdown",
   "id": "e7acc5dc",
   "metadata": {},
   "source": [
    "## Part 4: Missing Data Handling\n",
    "\n",
    "### Create Data with Missing Values"
   ]
  },
  {
   "cell_type": "code",
   "execution_count": null,
   "id": "0b0cbbd8",
   "metadata": {},
   "outputs": [],
   "source": [
    "# Create time series with missing values\n",
    "print(\"=== Missing Data Handling ===\")\n",
    "\n",
    "# Create regular time series\n",
    "regular_ts = pd.Series(np.random.randn(30), index=pd.date_range('2023-01-01', periods=30, freq='D'))\n",
    "\n",
    "# Introduce missing values\n",
    "missing_ts = regular_ts.copy()\n",
    "missing_ts.iloc[5:8] = np.nan  # Missing values for 3 days\n",
    "missing_ts.iloc[15:17] = np.nan  # Missing values for 2 days\n",
    "\n",
    "print(\"Time series with missing values:\")\n",
    "print(missing_ts.head(20))\n",
    "print(f\"Missing values: {missing_ts.isnull().sum()}\")"
   ]
  },
  {
   "cell_type": "markdown",
   "id": "1649a7e9",
   "metadata": {},
   "source": [
    "### Missing Data Imputation"
   ]
  },
  {
   "cell_type": "code",
   "execution_count": null,
   "id": "fbe0aba0",
   "metadata": {},
   "outputs": [],
   "source": [
    "# Different imputation methods\n",
    "print(\"=== Missing Data Imputation ===\")\n",
    "\n",
    "# Forward fill\n",
    "forward_fill = missing_ts.fillna(method='ffill')\n",
    "print(\"Forward fill:\")\n",
    "print(forward_fill.head(20))\n",
    "\n",
    "# Backward fill\n",
    "backward_fill = missing_ts.fillna(method='bfill')\n",
    "print(\"\\nBackward fill:\")\n",
    "print(backward_fill.head(20))\n",
    "\n",
    "# Interpolation\n",
    "interpolated = missing_ts.interpolate()\n",
    "print(\"\\nInterpolated:\")\n",
    "print(interpolated.head(20))\n",
    "\n",
    "# Rolling mean imputation\n",
    "rolling_mean = missing_ts.fillna(missing_ts.rolling(window=5, min_periods=1).mean())\n",
    "print(\"\\nRolling mean imputation:\")\n",
    "print(rolling_mean.head(20))"
   ]
  },
  {
   "cell_type": "markdown",
   "id": "4fe69668",
   "metadata": {},
   "source": [
    "## Part 5: Real-world Example\n",
    "\n",
    "### Stock Market Analysis"
   ]
  },
  {
   "cell_type": "code",
   "execution_count": null,
   "id": "2ac7f273",
   "metadata": {},
   "outputs": [],
   "source": [
    "# Create realistic stock market data\n",
    "print(\"=== Stock Market Analysis ===\")\n",
    "\n",
    "# Generate stock price data\n",
    "np.random.seed(42)\n",
    "n_days = 252  # Trading days in a year\n",
    "dates = pd.bdate_range('2023-01-01', periods=n_days)\n",
    "returns = np.random.normal(0.001, 0.02, n_days)\n",
    "prices = 100 * np.exp(np.cumsum(returns))\n",
    "\n",
    "# Create stock data\n",
    "stock_data = pd.Series(prices, index=dates)\n",
    "stock_data.name = 'Stock Price'\n",
    "\n",
    "print(f\"Stock data shape: {stock_data.shape}\")\n",
    "print(f\"Date range: {stock_data.index.min()} to {stock_data.index.max()}\")\n",
    "print(f\"Price range: ${stock_data.min():.2f} to ${stock_data.max():.2f}\")"
   ]
  },
  {
   "cell_type": "markdown",
   "id": "4bd9df1e",
   "metadata": {},
   "source": [
    "### Technical Analysis"
   ]
  },
  {
   "cell_type": "code",
   "execution_count": null,
   "id": "aeeee09e",
   "metadata": {},
   "outputs": [],
   "source": [
    "# Technical analysis indicators\n",
    "print(\"=== Technical Analysis ===\")\n",
    "\n",
    "# Moving averages\n",
    "stock_data['MA_5'] = stock_data.rolling(window=5).mean()\n",
    "stock_data['MA_20'] = stock_data.rolling(window=20).mean()\n",
    "stock_data['MA_50'] = stock_data.rolling(window=50).mean()\n",
    "\n",
    "# Volatility (rolling standard deviation of returns)\n",
    "returns = stock_data.pct_change()\n",
    "stock_data['Volatility'] = returns.rolling(window=20).std()\n",
    "\n",
    "# Bollinger Bands\n",
    "stock_data['BB_Upper'] = stock_data['MA_20'] + 2 * stock_data['Volatility']\n",
    "stock_data['BB_Lower'] = stock_data['MA_20'] - 2 * stock_data['Volatility']\n",
    "\n",
    "print(\"Stock data with technical indicators:\")\n",
    "print(stock_data.tail())"
   ]
  },
  {
   "cell_type": "markdown",
   "id": "16f25d73",
   "metadata": {},
   "source": [
    "### Monthly Analysis"
   ]
  },
  {
   "cell_type": "code",
   "execution_count": null,
   "id": "7aad61c6",
   "metadata": {},
   "outputs": [],
   "source": [
    "# Monthly analysis\n",
    "print(\"=== Monthly Analysis ===\")\n",
    "\n",
    "# Monthly returns\n",
    "monthly_returns = stock_data.resample('M').last().pct_change()\n",
    "print(\"Monthly returns:\")\n",
    "print(monthly_returns.head())\n",
    "\n",
    "# Monthly volatility\n",
    "monthly_volatility = returns.resample('M').std()\n",
    "print(\"\\nMonthly volatility:\")\n",
    "print(monthly_volatility.head())\n",
    "\n",
    "# Monthly statistics\n",
    "monthly_stats = stock_data.resample('M').agg({\n",
    "    'Stock Price': ['mean', 'std', 'min', 'max']\n",
    "})\n",
    "print(\"\\nMonthly statistics:\")\n",
    "print(monthly_stats.head())"
   ]
  },
  {
   "cell_type": "markdown",
   "id": "5bbe532d",
   "metadata": {},
   "source": [
    "## Key Takeaways\n",
    "\n",
    "1. **Time Series Indexing**: Select data by date ranges, specific dates, and time periods\n",
    "2. **Resampling**: Convert between different time frequencies\n",
    "3. **Rolling Windows**: Calculate moving statistics and trends\n",
    "4. **Missing Data**: Handle gaps in time series data\n",
    "5. **Real-world Application**: Apply techniques to financial data analysis\n",
    "6. **Technical Analysis**: Create indicators for time series analysis\n",
    "\n",
    "## Next Steps\n",
    "\n",
    "- Practice with your own time series data\n",
    "- Learn about seasonal decomposition\n",
    "- Explore time series visualization techniques\n",
    "- Set up automated time series analysis"
   ]
  }
 ],
 "metadata": {
  "jupytext": {
   "cell_metadata_filter": "-all",
   "main_language": "python",
   "notebook_metadata_filter": "-all"
  }
 },
 "nbformat": 4,
 "nbformat_minor": 5
}
