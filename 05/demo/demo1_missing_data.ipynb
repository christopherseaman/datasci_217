{
 "cells": [
  {
   "cell_type": "markdown",
   "id": "1f6a8d5c",
   "metadata": {},
   "source": [
    "# Missing Data Detective Work\n",
    "\n",
    "Mastering missing data detection, analysis, and strategic handling"
   ]
  },
  {
   "cell_type": "code",
   "execution_count": null,
   "id": "5aacc6f3",
   "metadata": {},
   "outputs": [],
   "source": [
    "import pandas as pd\n",
    "import numpy as np\n",
    "import matplotlib.pyplot as plt\n",
    "\n",
    "print(\"Missing data detective tools loaded!\")"
   ]
  },
  {
   "cell_type": "markdown",
   "id": "16dd8e48",
   "metadata": {},
   "source": [
    "## Create Messy Dataset"
   ]
  },
  {
   "cell_type": "code",
   "execution_count": null,
   "id": "1c1667d1",
   "metadata": {},
   "outputs": [],
   "source": [
    "# Realistic patient data with missing values\n",
    "patient_data = {\n",
    "    'patient_id': ['P001', 'P002', 'P003', 'P004', 'P005', 'P006', 'P007', 'P008'],\n",
    "    'age': [45, np.nan, 62, 34, np.nan, 58, 41, np.nan],\n",
    "    'blood_pressure': [120, 135, np.nan, 118, 142, np.nan, 125, 130],\n",
    "    'cholesterol': [200, np.nan, 185, np.nan, 220, 195, np.nan, 210],\n",
    "    'test_date': ['2024-01-15', '2024-01-16', np.nan, '2024-01-18', '2024-01-19', np.nan, '2024-01-21', '2024-01-22']\n",
    "}\n",
    "\n",
    "df = pd.DataFrame(patient_data)\n",
    "print(\"Raw patient data:\")\n",
    "print(df)"
   ]
  },
  {
   "cell_type": "markdown",
   "id": "25e7540b",
   "metadata": {},
   "source": [
    "## Detect Missing Patterns"
   ]
  },
  {
   "cell_type": "code",
   "execution_count": null,
   "id": "8c5eb510",
   "metadata": {},
   "outputs": [],
   "source": [
    "# Count missing values per column\n",
    "print(\"\\nMissing values per column:\")\n",
    "print(df.isnull().sum())\n",
    "\n",
    "# Calculate percentage missing\n",
    "print(\"\\nPercentage missing:\")\n",
    "print((df.isnull().sum() / len(df) * 100).round(1))\n",
    "\n",
    "# Find rows with ANY missing values\n",
    "print(f\"\\nRows with missing data: {df.isnull().any(axis=1).sum()} out of {len(df)}\")"
   ]
  },
  {
   "cell_type": "markdown",
   "id": "c6ab5fc6",
   "metadata": {},
   "source": [
    "## Visualize Missing Data Pattern"
   ]
  },
  {
   "cell_type": "code",
   "execution_count": null,
   "id": "3c7dc8e5",
   "metadata": {},
   "outputs": [],
   "source": [
    "# Heatmap of missing values\n",
    "plt.figure(figsize=(10, 4))\n",
    "plt.imshow(df.isnull(), cmap='RdYlGn_r', aspect='auto')\n",
    "plt.colorbar(label='Missing (1) vs Present (0)')\n",
    "plt.yticks(range(len(df)), df.index)\n",
    "plt.xticks(range(len(df.columns)), df.columns, rotation=45)\n",
    "plt.title('Missing Data Pattern')\n",
    "plt.tight_layout()\n",
    "plt.show()"
   ]
  },
  {
   "cell_type": "markdown",
   "id": "9716eb0d",
   "metadata": {},
   "source": [
    "## Strategic Missing Data Handling"
   ]
  },
  {
   "cell_type": "code",
   "execution_count": null,
   "id": "c6fb4aa1",
   "metadata": {},
   "outputs": [],
   "source": "# Strategy 1: Fill age with median (robust to outliers)\ndf['age_filled'] = df['age'].fillna(df['age'].median())\nprint(\"\\nAge - filled with median:\")\nprint(df[['patient_id', 'age', 'age_filled']])\n\n# Strategy 2: Forward fill test dates (temporal data)\ndf['test_date_filled'] = pd.to_datetime(df['test_date']).ffill()\nprint(\"\\nTest dates - forward filled:\")\nprint(df[['patient_id', 'test_date', 'test_date_filled']])\n\n# Strategy 3: Drop rows with critical missing data\n# If BOTH blood_pressure AND cholesterol missing, row is useless\ndf_complete = df.dropna(subset=['blood_pressure', 'cholesterol'], how='all')\nprint(f\"\\nAfter dropping rows missing both BP and cholesterol: {len(df_complete)} rows remain\")"
  },
  {
   "cell_type": "markdown",
   "id": "1959bb31",
   "metadata": {},
   "source": [
    "## Compare Strategies"
   ]
  },
  {
   "cell_type": "code",
   "execution_count": null,
   "id": "330b7bda",
   "metadata": {},
   "outputs": [],
   "source": [
    "print(\"\\n=== SUMMARY OF STRATEGIES ===\")\n",
    "print(f\"Original rows: {len(df)}\")\n",
    "print(f\"Age: filled {df['age'].isnull().sum()} missing values with median\")\n",
    "print(f\"Test dates: forward filled {pd.to_datetime(df['test_date']).isnull().sum()} missing dates\")\n",
    "print(f\"Dropped {len(df) - len(df_complete)} rows with both BP and cholesterol missing\")"
   ]
  }
 ],
 "metadata": {
  "kernelspec": {
   "display_name": "Python 3",
   "language": "python",
   "name": "python3"
  }
 },
 "nbformat": 4,
 "nbformat_minor": 5
}