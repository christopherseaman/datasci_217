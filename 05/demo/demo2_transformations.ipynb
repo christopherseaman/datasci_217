{
 "cells": [
  {
   "cell_type": "markdown",
   "id": "b974619c",
   "metadata": {},
   "source": [
    "# Data Transformation and Cleaning Pipeline\n",
    "\n",
    "Building a complete data cleaning pipeline with transformations, renaming, and type conversions"
   ]
  },
  {
   "cell_type": "code",
   "execution_count": null,
   "id": "fa02a1dd",
   "metadata": {},
   "outputs": [],
   "source": [
    "import pandas as pd\n",
    "import numpy as np\n",
    "\n",
    "print(\"Data transformation tools ready!\")"
   ]
  },
  {
   "cell_type": "markdown",
   "id": "14a2bf60",
   "metadata": {},
   "source": [
    "## Load Messy Survey Data"
   ]
  },
  {
   "cell_type": "code",
   "execution_count": null,
   "id": "5cfec12e",
   "metadata": {},
   "outputs": [],
   "source": [
    "# Realistic survey data with common issues\n",
    "survey_data = \"\"\"respondent_id,AGE,income,education,satisfaction,region\n",
    "R001,  25  ,45000,bachelors,very satisfied,NORTH\n",
    "R002,thirty-two,65000,masters,satisfied,south\n",
    "R003,45,-999,bachelors,neutral,North\n",
    "R004,28,55000,phd,very satisfied,SOUTH\n",
    "R005,52,85000,masters,dissatisfied,north\n",
    "R006,19,  ,high school,satisfied,South\n",
    "R007,invalid,72000,bachelors,very satisfied,NORTH\"\"\"\n",
    "\n",
    "# Write and load\n",
    "with open('survey.csv', 'w') as f:\n",
    "    f.write(survey_data)\n",
    "\n",
    "df = pd.read_csv('survey.csv')\n",
    "print(\"Raw survey data:\")\n",
    "print(df)\n",
    "print(f\"\\nData types:\\n{df.dtypes}\")"
   ]
  },
  {
   "cell_type": "markdown",
   "id": "b039988c",
   "metadata": {},
   "source": [
    "## Clean Column Names"
   ]
  },
  {
   "cell_type": "code",
   "execution_count": null,
   "id": "d24f3898",
   "metadata": {},
   "outputs": [],
   "source": [
    "# Standardize column names\n",
    "df_clean = df.rename(columns=str.lower)  # Lowercase all\n",
    "df_clean = df_clean.rename(columns=str.strip)  # Remove whitespace\n",
    "df_clean.columns = df_clean.columns.str.replace(' ', '_')  # Replace spaces\n",
    "\n",
    "print(\"Cleaned column names:\")\n",
    "print(df_clean.columns.tolist())"
   ]
  },
  {
   "cell_type": "markdown",
   "id": "ef549fb5",
   "metadata": {},
   "source": [
    "## Handle Sentinel Values and Bad Data"
   ]
  },
  {
   "cell_type": "code",
   "execution_count": null,
   "id": "268575ba",
   "metadata": {},
   "outputs": [],
   "source": [
    "# Replace sentinel values (-999, \"N/A\", etc.)\n",
    "df_clean['income'] = df_clean['income'].replace(-999, np.nan)\n",
    "\n",
    "# Fix data type issues - invalid values become NaN\n",
    "df_clean['age'] = pd.to_numeric(df_clean['age'], errors='coerce')\n",
    "\n",
    "# Fill missing income with median\n",
    "median_income = df_clean['income'].median()\n",
    "df_clean['income'] = df_clean['income'].fillna(median_income)\n",
    "\n",
    "# Fill missing age with mean\n",
    "df_clean['age'] = df_clean['age'].fillna(df_clean['age'].mean())\n",
    "\n",
    "print(\"\\nAfter handling sentinel values and bad data:\")\n",
    "print(df_clean[['respondent_id', 'age', 'income']])"
   ]
  },
  {
   "cell_type": "markdown",
   "id": "f8fa6455",
   "metadata": {},
   "source": [
    "## Standardize Text Data"
   ]
  },
  {
   "cell_type": "code",
   "execution_count": null,
   "id": "9264cfdf",
   "metadata": {},
   "outputs": [],
   "source": [
    "# Standardize region column\n",
    "df_clean['region'] = df_clean['region'].str.strip().str.title()\n",
    "print(\"\\nStandardized regions:\")\n",
    "print(df_clean['region'].value_counts())\n",
    "\n",
    "# Standardize education levels\n",
    "education_map = {\n",
    "    'high school': 'High School',\n",
    "    'bachelors': 'Bachelors',\n",
    "    'masters': 'Masters',\n",
    "    'phd': 'PhD'\n",
    "}\n",
    "df_clean['education'] = df_clean['education'].replace(education_map)\n",
    "print(\"\\nStandardized education:\")\n",
    "print(df_clean['education'].value_counts())"
   ]
  },
  {
   "cell_type": "markdown",
   "id": "8c4f4a77",
   "metadata": {},
   "source": [
    "## Create Categories and Dummy Variables"
   ]
  },
  {
   "cell_type": "code",
   "execution_count": null,
   "id": "676a0cc5",
   "metadata": {},
   "outputs": [],
   "source": [
    "# Create age groups with equal-width bins\n",
    "df_clean['age_group'] = pd.cut(\n",
    "    df_clean['age'],\n",
    "    bins=[0, 30, 50, 100],\n",
    "    labels=['Young', 'Middle', 'Senior']\n",
    ")\n",
    "\n",
    "# Create income categories with equal-frequency bins (quantiles)\n",
    "df_clean['income_level'] = pd.qcut(\n",
    "    df_clean['income'],\n",
    "    q=3,\n",
    "    labels=['Low', 'Medium', 'High']\n",
    ")\n",
    "\n",
    "print(\"\\nAge groups and income levels:\")\n",
    "print(df_clean[['age', 'age_group', 'income', 'income_level']])"
   ]
  },
  {
   "cell_type": "markdown",
   "id": "68145aef",
   "metadata": {},
   "source": [
    "## Apply Custom Functions for Data Transformation"
   ]
  },
  {
   "cell_type": "code",
   "execution_count": null,
   "id": "886fce68",
   "metadata": {},
   "outputs": [],
   "source": [
    "# Use .apply() to create custom satisfaction score\n",
    "def score_satisfaction(text):\n",
    "    \"\"\"Convert text satisfaction to numeric score\"\"\"\n",
    "    scores = {\n",
    "        'very satisfied': 5,\n",
    "        'satisfied': 4,\n",
    "        'neutral': 3,\n",
    "        'dissatisfied': 2,\n",
    "        'very dissatisfied': 1\n",
    "    }\n",
    "    return scores.get(text.lower(), 3)  # Default to neutral if unknown\n",
    "\n",
    "df_clean['satisfaction_score'] = df_clean['satisfaction'].apply(score_satisfaction)\n",
    "print(\"\\nSatisfaction scores:\")\n",
    "print(df_clean[['satisfaction', 'satisfaction_score']])\n",
    "\n",
    "# Use .map() to create education rank\n",
    "education_rank = {\n",
    "    'High School': 1,\n",
    "    'Bachelors': 2,\n",
    "    'Masters': 3,\n",
    "    'PhD': 4\n",
    "}\n",
    "df_clean['education_rank'] = df_clean['education'].map(education_rank)\n",
    "print(\"\\nEducation ranks:\")\n",
    "print(df_clean[['education', 'education_rank']])\n",
    "\n",
    "# Use .apply() with lambda for quick calculations\n",
    "df_clean['income_thousands'] = df_clean['income'].apply(lambda x: round(x / 1000, 1))\n",
    "print(\"\\nIncome in thousands:\")\n",
    "print(df_clean[['income', 'income_thousands']])"
   ]
  },
  {
   "cell_type": "markdown",
   "id": "c03d91de",
   "metadata": {},
   "source": [
    "## Create Dummy Variables for Modeling"
   ]
  },
  {
   "cell_type": "code",
   "execution_count": null,
   "id": "fdb2d17b",
   "metadata": {},
   "outputs": [],
   "source": [
    "# Create dummy variables for region\n",
    "region_dummies = pd.get_dummies(df_clean['region'], prefix='region')\n",
    "df_final = pd.concat([df_clean, region_dummies], axis=1)\n",
    "\n",
    "print(\"\\nWith region dummies:\")\n",
    "print(df_final[['region', 'region_North', 'region_South']])"
   ]
  },
  {
   "cell_type": "markdown",
   "id": "b36ec542",
   "metadata": {},
   "source": [
    "## Use Categorical Data Type for Memory Efficiency"
   ]
  },
  {
   "cell_type": "code",
   "execution_count": null,
   "id": "22eaf2ef",
   "metadata": {},
   "outputs": [],
   "source": [
    "# Check current memory usage\n",
    "print(\"\\nMemory usage before categorical:\")\n",
    "print(f\"Region: {df_final['region'].memory_usage(deep=True)} bytes\")\n",
    "print(f\"Education: {df_final['education'].memory_usage(deep=True)} bytes\")\n",
    "\n",
    "# Convert to categorical\n",
    "df_final['region'] = df_final['region'].astype('category')\n",
    "df_final['education'] = df_final['education'].astype('category')\n",
    "\n",
    "print(\"\\nMemory usage after categorical:\")\n",
    "print(f\"Region: {df_final['region'].memory_usage(deep=True)} bytes\")\n",
    "print(f\"Education: {df_final['education'].memory_usage(deep=True)} bytes\")\n",
    "\n",
    "# See the categories\n",
    "print(\"\\nRegion categories:\")\n",
    "print(df_final['region'].cat.categories)\n",
    "print(\"\\nRegion codes:\")\n",
    "print(df_final['region'].cat.codes)\n",
    "\n",
    "print(\"\\nFinal cleaned dataset:\")\n",
    "print(df_final)"
   ]
  }
 ],
 "metadata": {
  "kernelspec": {
   "display_name": "Python 3",
   "language": "python",
   "name": "python3"
  }
 },
 "nbformat": 4,
 "nbformat_minor": 5
}
