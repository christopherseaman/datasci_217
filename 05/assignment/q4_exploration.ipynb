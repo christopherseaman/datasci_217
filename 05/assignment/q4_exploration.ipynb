{
 "cells": [
  {
   "cell_type": "markdown",
   "metadata": {},
   "source": [
    "# Assignment 5, Question 4: Data Exploration\n",
    "\n",
    "**Points: 15**\n",
    "\n",
    "In this notebook, you'll explore the clinical trial dataset using pandas selection and filtering techniques.\n",
    "\n",
    "You'll use utility functions from `q3_data_utils` where helpful, but also demonstrate direct pandas operations."
   ]
  },
  {
   "cell_type": "markdown",
   "metadata": {},
   "source": [
    "## Setup"
   ]
  },
  {
   "cell_type": "code",
   "execution_count": null,
   "metadata": {},
   "outputs": [],
   "source": [
    "import pandas as pd\n",
    "import numpy as np\n",
    "import matplotlib.pyplot as plt\n",
    "\n",
    "# Import utilities from Q3\n",
    "from q3_data_utils import load_data, detect_missing, filter_data\n",
    "\n",
    "# Load the data\n",
    "df = load_data('data/clinical_trial_raw.csv')\n",
    "print(f\"Loaded {len(df)} patients with {len(df.columns)} variables\")\n",
    "\n",
    "# Prewritten visualization functions for exploration\n",
    "def plot_value_counts(series, title, figsize=(10, 6)):\n",
    "    \"\"\"\n",
    "    Create a bar chart of value counts.\n",
    "    \n",
    "    Args:\n",
    "        series: pandas Series with value counts\n",
    "        title: Chart title\n",
    "        figsize: Figure size tuple\n",
    "    \"\"\"\n",
    "    plt.figure(figsize=figsize)\n",
    "    series.plot(kind='bar')\n",
    "    plt.title(title)\n",
    "    plt.xticks(rotation=45)\n",
    "    plt.tight_layout()\n",
    "    plt.show()\n",
    "\n",
    "def plot_crosstab(crosstab_data, title, figsize=(10, 6)):\n",
    "    \"\"\"\n",
    "    Create a heatmap of crosstab data.\n",
    "    \n",
    "    Args:\n",
    "        crosstab_data: pandas DataFrame from pd.crosstab()\n",
    "        title: Chart title\n",
    "        figsize: Figure size tuple\n",
    "    \"\"\"\n",
    "    plt.figure(figsize=figsize)\n",
    "    plt.imshow(crosstab_data.values, cmap='Blues', aspect='auto')\n",
    "    plt.colorbar()\n",
    "    plt.title(title)\n",
    "    plt.xticks(range(len(crosstab_data.columns)), crosstab_data.columns, rotation=45)\n",
    "    plt.yticks(range(len(crosstab_data.index)), crosstab_data.index)\n",
    "    plt.tight_layout()\n",
    "    plt.show()"
   ]
  },
  {
   "cell_type": "markdown",
   "metadata": {},
   "source": [
    "## Part 1: Basic Exploration (3 points)\n",
    "\n",
    "Display:\n",
    "1. Dataset shape\n",
    "2. Column names and types\n",
    "3. First 10 rows\n",
    "4. Summary statistics (.describe())"
   ]
  },
  {
   "cell_type": "code",
   "execution_count": null,
   "metadata": {},
   "outputs": [],
   "source": [
    "# TODO: Display dataset info\n"
   ]
  },
  {
   "cell_type": "markdown",
   "metadata": {},
   "source": [
    "## Part 2: Column Selection (3 points)\n",
    "\n",
    "Demonstrate different selection methods:\n",
    "\n",
    "1. Select only numeric columns using `.select_dtypes()`\n",
    "2. Select specific columns by name\n",
    "3. Select a subset of rows and columns using `.loc[]`"
   ]
  },
  {
   "cell_type": "code",
   "execution_count": null,
   "metadata": {},
   "outputs": [],
   "source": [
    "# TODO: Select numeric columns\n"
   ]
  },
  {
   "cell_type": "code",
   "execution_count": null,
   "metadata": {},
   "outputs": [],
   "source": [
    "# TODO: Select specific columns\n"
   ]
  },
  {
   "cell_type": "code",
   "execution_count": null,
   "metadata": {},
   "outputs": [],
   "source": [
    "# TODO: Use .loc[] to select subset\n"
   ]
  },
  {
   "cell_type": "markdown",
   "metadata": {},
   "source": [
    "## Part 3: Filtering (4 points)\n",
    "\n",
    "Filter the data to answer these questions:\n",
    "\n",
    "1. How many patients are over 65 years old?\n",
    "2. How many patients have systolic BP > 140?\n",
    "3. Find patients who are both over 65 AND have systolic BP > 140\n",
    "4. Find patients from Site A or Site B using `.isin()`"
   ]
  },
  {
   "cell_type": "code",
   "execution_count": null,
   "metadata": {},
   "outputs": [],
   "source": [
    "# TODO: Filter and count patients over 65\n",
    "# 1. Use the filter_data utility from Q3\n",
    "# 2. Create a filter for age > 65\n",
    "# 3. Apply the filter and count the results\n",
    "# print(f\"Patients over 65: {len(patients_over_65)}\")\n"
   ]
  },
  {
   "cell_type": "code",
   "execution_count": null,
   "metadata": {},
   "outputs": [],
   "source": [
    "# TODO: Filter for high BP\n",
    "# 1. Use the filter_data utility from Q3\n",
    "# 2. Create a filter for systolic_bp > 140\n",
    "# 3. Apply the filter and count the results\n",
    "# print(f\"Patients with high BP: {len(high_bp)}\")\n"
   ]
  },
  {
   "cell_type": "code",
   "execution_count": null,
   "metadata": {},
   "outputs": [],
   "source": [
    "# TODO: Multiple conditions with &\n",
    "# 1. Use filter_data for multiple conditions:\n",
    "# 2. Create filters for both conditions:\n",
    "#     {'column': 'age', 'condition': 'greater_than', 'value': 65},\n",
    "#     {'column': 'systolic_bp', 'condition': 'greater_than', 'value': 140}\n",
    "# ]\n",
    "# 3. Apply the filter and count the results\n",
    "# print(f\"Patients over 65 AND high BP: {len(both_conditions)}\")\n",
    "#\n",
    "# 5. Alternative: Use in_range for age range:\n",
    "# 5. Create filter for age range 65-100\n",
    "# 6. Apply the filter and count the results\n"
   ]
  },
  {
   "cell_type": "code",
   "execution_count": null,
   "metadata": {},
   "outputs": [],
   "source": [
    "# TODO: Filter by site using .isin()\n",
    "# 1. Use the filter_data utility from Q3\n",
    "# 2. Create a filter for Site A or Site B\n",
    "# 3. Apply the filter and count the results\n",
    "# print(f\"Patients from Site A or B: {len(site_ab)}\")\n"
   ]
  },
  {
   "cell_type": "markdown",
   "metadata": {},
   "source": [
    "## Part 4: Value Counts and Grouping (5 points)\n",
    "\n",
    "1. Get value counts for the 'site' column\n",
    "2. Get value counts for the 'intervention_group' column  \n",
    "3. Create a crosstab of site vs intervention_group\n",
    "4. Calculate mean age by site\n",
    "5. Save the site value counts to `output/q4_site_counts.csv`"
   ]
  },
  {
   "cell_type": "code",
   "execution_count": null,
   "metadata": {},
   "outputs": [],
   "source": [
    "# TODO: Value counts and analysis\n"
   ]
  },
  {
   "cell_type": "code",
   "execution_count": null,
   "metadata": {},
   "outputs": [],
   "source": [
    "# TODO: Save output\n",
    "# site_counts.to_csv('output/q4_site_counts.csv')\n"
   ]
  },
  {
   "cell_type": "markdown",
   "metadata": {},
   "source": [
    "## Summary\n",
    "\n",
    "Write 2-3 sentences about what you learned from exploring this dataset."
   ]
  },
  {
   "cell_type": "markdown",
   "metadata": {},
   "source": [
    "**Your summary here:**\n",
    "\n",
    "TODO: Write your observations\n"
   ]
  }
 ],
 "metadata": {
  "kernelspec": {
   "display_name": "Python 3",
   "language": "python",
   "name": "python3"
  },
  "language_info": {
   "name": "python",
   "version": "3.11.0"
  }
 },
 "nbformat": 4,
 "nbformat_minor": 2
}
