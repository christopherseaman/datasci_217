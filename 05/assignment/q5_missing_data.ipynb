{
 "cells": [
  {
   "cell_type": "markdown",
   "metadata": {},
   "source": [
    "# Assignment 5, Question 5: Missing Data Analysis\n",
    "\n",
    "**Points: 15**\n",
    "\n",
    "Apply and compare different missing data strategies on the clinical trial dataset."
   ]
  },
  {
   "cell_type": "markdown",
   "metadata": {},
   "source": [
    "## Setup"
   ]
  },
  {
   "cell_type": "code",
   "execution_count": null,
   "metadata": {},
   "outputs": [],
   "source": [
    "import pandas as pd\n",
    "import numpy as np\n",
    "import matplotlib.pyplot as plt\n",
    "\n",
    "# Import utilities from Q3\n",
    "from q3_data_utils import load_data, detect_missing, fill_missing\n",
    "\n",
    "# Load the data\n",
    "df = load_data('data/clinical_trial_raw.csv')\n",
    "print(f\"Loaded {len(df)} patients\")"
   ]
  },
  {
   "cell_type": "markdown",
   "metadata": {},
   "source": [
    "## Part 1: Detect Missing Data (3 points)\n",
    "\n",
    "1. Use the `detect_missing()` utility to find missing values\n",
    "2. Visualize missing data with a bar plot\n",
    "3. Calculate the percentage of missing values per column"
   ]
  },
  {
   "cell_type": "code",
   "execution_count": null,
   "metadata": {},
   "outputs": [],
   "source": [
    "# TODO: Detect and visualize missing data\n"
   ]
  },
  {
   "cell_type": "markdown",
   "metadata": {},
   "source": [
    "## Part 2: Compare Imputation Strategies (6 points)\n",
    "\n",
    "For the 'cholesterol_total' column (which has missing values):\n",
    "\n",
    "1. Fill with mean using `fill_missing()` utility\n",
    "2. Fill with median using `fill_missing()` utility  \n",
    "3. Forward fill using pandas `.fillna(method='ffill')`\n",
    "4. Compare the three strategies - create a summary table showing:\n",
    "   - Original mean/median\n",
    "   - Mean/median after each strategy\n",
    "   - How many values were filled"
   ]
  },
  {
   "cell_type": "code",
   "execution_count": null,
   "metadata": {},
   "outputs": [],
   "source": [
    "# TODO: Compare imputation strategies\n"
   ]
  },
  {
   "cell_type": "markdown",
   "metadata": {},
   "source": [
    "## Part 3: Dropping Missing Data (3 points)\n",
    "\n",
    "1. Drop rows where ANY column has missing data - how many rows remain?\n",
    "2. Drop rows where specific columns have missing data (e.g., only 'age' or 'bmi')\n",
    "3. Which approach loses less data?"
   ]
  },
  {
   "cell_type": "code",
   "execution_count": null,
   "metadata": {},
   "outputs": [],
   "source": [
    "# TODO: Drop missing rows with different strategies\n"
   ]
  },
  {
   "cell_type": "markdown",
   "metadata": {},
   "source": [
    "## Part 4: Create Clean Dataset (3 points)\n",
    "\n",
    "Apply your chosen strategy to create a clean dataset:\n",
    "1. Choose appropriate imputation for numeric columns\n",
    "2. Drop rows with missing critical values (e.g., patient_id, age)\n",
    "3. Save to `output/q5_cleaned_data.csv`\n",
    "4. Save a missing data report to `output/q5_missing_report.txt`"
   ]
  },
  {
   "cell_type": "code",
   "execution_count": null,
   "metadata": {},
   "outputs": [],
   "source": [
    "# TODO: Create and save clean dataset\n"
   ]
  },
  {
   "cell_type": "markdown",
   "metadata": {},
   "source": [
    "## Reflection\n",
    "\n",
    "Which imputation strategy would you recommend for this dataset and why?"
   ]
  },
  {
   "cell_type": "markdown",
   "metadata": {},
   "source": [
    "**Your answer:**\n",
    "\n",
    "TODO: Explain your strategy choice\n"
   ]
  }
 ],
 "metadata": {
  "kernelspec": {
   "display_name": "Python 3",
   "language": "python",
   "name": "python3"
  },
  "language_info": {
   "name": "python",
   "version": "3.11.0"
  }
 },
 "nbformat": 4,
 "nbformat_minor": 2
}
