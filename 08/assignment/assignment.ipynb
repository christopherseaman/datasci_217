{
 "cells": [
  {
   "cell_type": "markdown",
   "id": "ad8eb7cd",
   "metadata": {},
   "source": [
    "# Assignment 8: Data Aggregation and Group Operations\n",
    "\n",
    "## Overview\n",
    "This assignment covers data aggregation and group operations using real-world healthcare data including Electronic Health Records (EHR), clinical trials, and medical sensor data.\n",
    "\n",
    "## Setup"
   ]
  },
  {
   "cell_type": "code",
   "execution_count": null,
   "id": "d3065c86",
   "metadata": {},
   "outputs": [],
   "source": [
    "import pandas as pd\n",
    "import numpy as np\n",
    "import matplotlib.pyplot as plt\n",
    "import seaborn as sns\n",
    "import os\n",
    "\n",
    "# Set random seed for reproducibility\n",
    "np.random.seed(42)\n",
    "\n",
    "# Create output directory\n",
    "os.makedirs('output', exist_ok=True)"
   ]
  },
  {
   "cell_type": "markdown",
   "id": "c2d8bb5f",
   "metadata": {},
   "source": [
    "## Question 1: Basic GroupBy Operations\n",
    "\n",
    "### Part 1.1: Load and Explore Data"
   ]
  },
  {
   "cell_type": "code",
   "execution_count": null,
   "id": "e0a35509",
   "metadata": {},
   "outputs": [],
   "source": [
    "# Load the datasets\n",
    "employee_df = pd.read_csv('data/employee_data.csv')\n",
    "department_df = pd.read_csv('data/department_data.csv')\n",
    "sales_df = pd.read_csv('data/sales_data.csv')\n",
    "\n",
    "print(\"Employee data shape:\", employee_df.shape)\n",
    "print(\"Department data shape:\", department_df.shape)\n",
    "print(\"Sales data shape:\", sales_df.shape)\n",
    "\n",
    "# Merge data for analysis\n",
    "merged_df = sales_df.merge(employee_df, on='employee_id').merge(department_df, on='department_id')\n",
    "\n",
    "print(\"\\nMerged data shape:\", merged_df.shape)\n",
    "print(\"\\nColumns:\", merged_df.columns.tolist())\n",
    "print(\"\\nFirst few rows:\")\n",
    "print(merged_df.head())"
   ]
  },
  {
   "cell_type": "markdown",
   "id": "220c31ad",
   "metadata": {},
   "source": [
    "### Part 1.2: Basic Aggregation\n",
    "\n",
    "**TODO: Perform basic groupby operations**"
   ]
  },
  {
   "cell_type": "code",
   "execution_count": null,
   "id": "4ba2a08c",
   "metadata": {},
   "outputs": [],
   "source": [
    "# TODO: Group by department and calculate basic statistics\n",
    "# TODO: Calculate mean, sum, count for salary and experience by department\n",
    "# TODO: Calculate total sales by department\n",
    "# TODO: Find the top-performing department by total sales\n",
    "\n",
    "# TODO: Save results as 'output/q1_groupby_analysis.csv'"
   ]
  },
  {
   "cell_type": "markdown",
   "id": "a19bfc9c",
   "metadata": {},
   "source": [
    "### Part 1.3: Transform Operations\n",
    "\n",
    "**TODO: Use transform operations to add group statistics**"
   ]
  },
  {
   "cell_type": "code",
   "execution_count": null,
   "id": "b5153cb9",
   "metadata": {},
   "outputs": [],
   "source": [
    "# TODO: Add department mean salary as new column\n",
    "# TODO: Add department standard deviation of salary\n",
    "# TODO: Create normalized salary (z-score within department)\n",
    "# TODO: Add department total sales as new column\n",
    "\n",
    "# TODO: Display the enhanced dataframe\n",
    "# TODO: Save results as 'output/q1_aggregation_report.txt'"
   ]
  },
  {
   "cell_type": "markdown",
   "id": "b3f513cf",
   "metadata": {},
   "source": [
    "## Question 2: Advanced GroupBy Operations\n",
    "\n",
    "### Part 2.1: Filter Operations\n",
    "\n",
    "**TODO: Use filter operations to remove groups**"
   ]
  },
  {
   "cell_type": "code",
   "execution_count": null,
   "id": "b7118e52",
   "metadata": {},
   "outputs": [],
   "source": [
    "# TODO: Filter departments with more than 5 employees\n",
    "# TODO: Filter departments with average salary > 60000\n",
    "# TODO: Filter departments with total sales > 100000\n",
    "\n",
    "# TODO: Create a summary of filtered results\n",
    "# TODO: Save results as 'output/q2_hierarchical_analysis.csv'"
   ]
  },
  {
   "cell_type": "markdown",
   "id": "77a11986",
   "metadata": {},
   "source": [
    "### Part 2.2: Apply Operations\n",
    "\n",
    "**TODO: Use apply operations with custom functions**"
   ]
  },
  {
   "cell_type": "code",
   "execution_count": null,
   "id": "3fd1c11d",
   "metadata": {},
   "outputs": [],
   "source": [
    "# TODO: Create custom function to calculate salary statistics\n",
    "def salary_stats(group):\n",
    "    # TODO: Return mean, std, min, max, range for salary\n",
    "    pass\n",
    "\n",
    "# TODO: Apply custom function to each department\n",
    "# TODO: Create function to find top earners in each department\n",
    "# TODO: Apply function to get top 2 earners per department\n",
    "\n",
    "# TODO: Save results as 'output/q2_performance_report.txt'"
   ]
  },
  {
   "cell_type": "markdown",
   "id": "424e7f7a",
   "metadata": {},
   "source": [
    "### Part 2.3: Hierarchical Grouping\n",
    "\n",
    "**TODO: Perform multi-level grouping**"
   ]
  },
  {
   "cell_type": "code",
   "execution_count": null,
   "id": "2c750910",
   "metadata": {},
   "outputs": [],
   "source": [
    "# TODO: Group by department and region\n",
    "# TODO: Calculate statistics for each department-region combination\n",
    "# TODO: Use unstack to convert to wide format\n",
    "# TODO: Use stack to convert back to long format\n",
    "\n",
    "# TODO: Analyze the hierarchical structure\n",
    "# TODO: Save results as 'output/q2_hierarchical_analysis.csv'"
   ]
  },
  {
   "cell_type": "markdown",
   "id": "912d4645",
   "metadata": {},
   "source": [
    "## Question 3: Pivot Tables and Cross-Tabulations\n",
    "\n",
    "### Part 3.1: Basic Pivot Tables\n",
    "\n",
    "**TODO: Create pivot tables for multi-dimensional analysis**"
   ]
  },
  {
   "cell_type": "code",
   "execution_count": null,
   "id": "d4397400",
   "metadata": {},
   "outputs": [],
   "source": [
    "# TODO: Create pivot table: sales by product and region\n",
    "# TODO: Create pivot table with multiple aggregations (sum, mean, count)\n",
    "# TODO: Add totals (margins) to pivot table\n",
    "# TODO: Handle missing values with fill_value\n",
    "\n",
    "# TODO: Save results as 'output/q3_pivot_analysis.csv'"
   ]
  },
  {
   "cell_type": "markdown",
   "id": "480e8b69",
   "metadata": {},
   "source": [
    "### Part 3.2: Cross-Tabulations\n",
    "\n",
    "**TODO: Create cross-tabulations for categorical analysis**"
   ]
  },
  {
   "cell_type": "code",
   "execution_count": null,
   "id": "73a93d94",
   "metadata": {},
   "outputs": [],
   "source": [
    "# TODO: Create crosstab of department vs region\n",
    "# TODO: Create crosstab with margins\n",
    "# TODO: Create multi-dimensional crosstab\n",
    "\n",
    "# TODO: Analyze the cross-tabulation results\n",
    "# TODO: Save results as 'output/q3_crosstab_analysis.csv'"
   ]
  },
  {
   "cell_type": "markdown",
   "id": "0912eca7",
   "metadata": {},
   "source": [
    "### Part 3.3: Pivot Table Visualization\n",
    "\n",
    "**TODO: Create visualizations from pivot tables**"
   ]
  },
  {
   "cell_type": "code",
   "execution_count": null,
   "id": "d151b48e",
   "metadata": {},
   "outputs": [],
   "source": [
    "# TODO: Create heatmap from pivot table\n",
    "# TODO: Create bar chart from pivot table\n",
    "# TODO: Customize colors and styling\n",
    "# TODO: Add appropriate titles and labels\n",
    "\n",
    "# TODO: Save the plot as 'output/q3_pivot_visualization.png'"
   ]
  },
  {
   "cell_type": "markdown",
   "id": "bfef6298",
   "metadata": {},
   "source": [
    "## Submission Checklist\n",
    "\n",
    "Before submitting, verify you've created:\n",
    "\n",
    "- [ ] `output/q1_groupby_analysis.csv` - Basic groupby analysis\n",
    "- [ ] `output/q1_aggregation_report.txt` - Aggregation report\n",
    "- [ ] `output/q2_hierarchical_analysis.csv` - Hierarchical analysis\n",
    "- [ ] `output/q2_performance_report.txt` - Performance report\n",
    "- [ ] `output/q3_pivot_analysis.csv` - Pivot table analysis\n",
    "- [ ] `output/q3_crosstab_analysis.csv` - Cross-tabulation analysis\n",
    "- [ ] `output/q3_pivot_visualization.png` - Pivot visualization\n",
    "\n",
    "## Key Learning Objectives\n",
    "\n",
    "- Master the split-apply-combine paradigm\n",
    "- Apply aggregation functions and transformations\n",
    "- Create pivot tables for multi-dimensional analysis\n",
    "- Apply advanced groupby techniques"
   ]
  }
 ],
 "metadata": {
  "kernelspec": {
   "display_name": "Python 3",
   "language": "python",
   "name": "python3"
  }
 },
 "nbformat": 4,
 "nbformat_minor": 5
}
