{
 "cells": [
  {
   "cell_type": "markdown",
   "id": "0e3a59e3",
   "metadata": {},
   "source": [
    "# Assignment 8: Data Aggregation and Group Operations\n",
    "\n",
    "## Overview\n",
    "This assignment covers data aggregation and group operations using a health data lens (think EHR-like tables for departments, staff, regions, and activity). We’ll use the existing `department`, `employee`, and `sales` columns as proxies for clinical departments, clinicians, and encounters to keep the provided dataset and tests unchanged.\n",
    "\n",
    "## Setup"
   ]
  },
  {
   "cell_type": "code",
   "execution_count": null,
   "id": "fcf131ee",
   "metadata": {},
   "outputs": [],
   "source": [
    "import pandas as pd\n",
    "import numpy as np\n",
    "import matplotlib.pyplot as plt\n",
    "import seaborn as sns\n",
    "import os\n",
    "\n",
    "# Set random seed for reproducibility\n",
    "np.random.seed(42)\n",
    "\n",
    "# Create output directory\n",
    "os.makedirs('output', exist_ok=True)"
   ]
  },
  {
   "cell_type": "markdown",
   "id": "04003128",
   "metadata": {},
   "source": [
    "## Question 1: Basic GroupBy Operations\n",
    "\n",
    "### Part 1.1: Load and Explore Data"
   ]
  },
  {
   "cell_type": "code",
   "execution_count": null,
   "id": "f7379bd7",
   "metadata": {},
   "outputs": [],
   "source": [
    "# Load the datasets\n",
    "employee_df = pd.read_csv('data/employee_data.csv')\n",
    "department_df = pd.read_csv('data/department_data.csv')\n",
    "sales_df = pd.read_csv('data/sales_data.csv')\n",
    "\n",
    "print(\"Employee data shape:\", employee_df.shape)\n",
    "print(\"Department data shape:\", department_df.shape)\n",
    "print(\"Sales data shape:\", sales_df.shape)\n",
    "\n",
    "# Merge data for analysis\n",
    "merged_df = sales_df.merge(employee_df, on='employee_id').merge(department_df, on='department_id')\n",
    "\n",
    "print(\"\\nMerged data shape:\", merged_df.shape)\n",
    "print(\"\\nColumns:\", merged_df.columns.tolist())\n",
    "print(\"\\nFirst few rows:\")\n",
    "print(merged_df.head())"
   ]
  },
  {
   "cell_type": "markdown",
   "id": "c7aea88e",
   "metadata": {},
   "source": [
    "### Part 1.2: Basic Aggregation (health context)\n",
    "\n",
    "**TODO: Perform basic groupby operations**"
   ]
  },
  {
   "cell_type": "code",
   "execution_count": null,
   "id": "918d12b0",
   "metadata": {},
   "outputs": [],
   "source": [
    "# Group by department (clinical department proxy) and calculate basic stats\n",
    "dept_stats = merged_df.groupby('department_name').agg({\n",
    "    'salary': ['mean', 'sum', 'count'],\n",
    "    'performance_score': 'mean'\n",
    "})\n",
    "\n",
    "# Flatten multi-level columns for safe joins\n",
    "dept_stats.columns = [\n",
    "    '_'.join([str(c) for c in col if c is not None]).replace('salary_', 'salary_')\n",
    "    if isinstance(col, tuple) else str(col)\n",
    "    for col in dept_stats.columns.values\n",
    "]\n",
    "\n",
    "# Total encounters by department\n",
    "if 'total_amount' in merged_df.columns:\n",
    "    merged_df['_encounters'] = merged_df['total_amount']\n",
    "elif {'quantity', 'unit_price'}.issubset(merged_df.columns):\n",
    "    merged_df['_encounters'] = merged_df['quantity'] * merged_df['unit_price']\n",
    "else:\n",
    "    merged_df['_encounters'] = 1\n",
    "\n",
    "dept_encounters = merged_df.groupby('department_name')['_encounters'].sum().to_frame('total_encounters')\n",
    "\n",
    "# Combine and write\n",
    "q1_df = dept_stats.join(dept_encounters)\n",
    "q1_df.to_csv('output/q1_groupby_analysis.csv', index=True)\n",
    "\n",
    "# Top-performing department by encounter volume\n",
    "top_dept = dept_encounters['total_encounters'].idxmax()\n",
    "with open('output/q1_aggregation_report.txt', 'w') as f:\n",
    "    f.write('Q1 Aggregation Report\\n')\n",
    "    f.write(f\"Top department by encounters: {top_dept}\\n\")\n",
    "    f.write(f\"Departments: {len(dept_encounters)}\\n\")\n",
    "    f.write(q1_df.head().to_string())"
   ]
  },
  {
   "cell_type": "markdown",
   "id": "5e66cd60",
   "metadata": {},
   "source": [
    "### Part 1.3: Transform Operations (within-department norms)\n",
    "\n",
    "**TODO: Use transform operations to add group statistics**"
   ]
  },
  {
   "cell_type": "code",
   "execution_count": null,
   "id": "663e2e05",
   "metadata": {},
   "outputs": [],
   "source": [
    "# Add department (clinical unit) mean/std salary and normalized salary (z-score within department)\n",
    "merged_df['dept_salary_mean'] = merged_df.groupby('department_name')['salary'].transform('mean')\n",
    "merged_df['dept_salary_std'] = merged_df.groupby('department_name')['salary'].transform('std')\n",
    "merged_df['salary_z'] = (merged_df['salary'] - merged_df['dept_salary_mean']) / merged_df['dept_salary_std']\n",
    "\n",
    "# Add department total encounters as new column\n",
    "dept_total_map = dept_encounters['total_encounters']\n",
    "merged_df['dept_total_encounters'] = merged_df['department_name'].map(dept_total_map)\n",
    "\n",
    "# Preview\n",
    "merged_df[['department_name','employee_id','salary','dept_salary_mean','dept_salary_std','salary_z','dept_total_encounters']].head()"
   ]
  },
  {
   "cell_type": "markdown",
   "id": "ea00402b",
   "metadata": {},
   "source": [
    "## Question 2: Advanced GroupBy Operations\n",
    "\n",
    "### Part 2.1: Filter Operations (quality/scale gates)\n",
    "\n",
    "**TODO: Use filter operations to remove groups**"
   ]
  },
  {
   "cell_type": "code",
   "execution_count": null,
   "id": "897ba13d",
   "metadata": {},
   "outputs": [],
   "source": [
    "dept_counts = merged_df.groupby('department_name')['employee_id'].nunique()\n",
    "dept_salary_mean = merged_df.groupby('department_name')['salary'].mean()\n",
    "threshold_encounters = max(merged_df.get('_encounters', pd.Series([0])).sum() * 0.05, 10000)\n",
    "\n",
    "keepers = (\n",
    "    (dept_counts > 5) &\n",
    "    (dept_salary_mean > 60000) &\n",
    "    (dept_encounters['total_encounters'] > threshold_encounters)\n",
    ")\n",
    "\n",
    "filtered_depts = dept_encounters.loc[keepers.index[keepers]].copy()\n",
    "filtered_depts['num_employees'] = dept_counts.loc[filtered_depts.index]\n",
    "filtered_depts['avg_salary'] = dept_salary_mean.loc[filtered_depts.index]\n",
    "\n",
    "# Save summary\n",
    "filtered_depts.to_csv('output/q2_hierarchical_analysis.csv')\n",
    "\n",
    "# Write a simple selection report\n",
    "with open('output/q2_performance_report.txt','w') as f:\n",
    "    f.write('Q2 Filter Summary\\n')\n",
    "    f.write(f\"Kept departments: {len(filtered_depts)} / {dept_counts.size}\\n\")\n",
    "    f.write(filtered_depts.head().to_string())"
   ]
  },
  {
   "cell_type": "markdown",
   "id": "3b07e390",
   "metadata": {},
   "source": [
    "### Part 2.2: Apply Operations\n",
    "\n",
    "**TODO: Use apply operations with custom functions**"
   ]
  },
  {
   "cell_type": "code",
   "execution_count": null,
   "id": "d3e2de14",
   "metadata": {},
   "outputs": [],
   "source": [
    "def salary_stats(group):\n",
    "    return pd.Series({\n",
    "        'count': len(group),\n",
    "        'mean': group['salary'].mean(),\n",
    "        'std': group['salary'].std(),\n",
    "        'min': group['salary'].min(),\n",
    "        'max': group['salary'].max(),\n",
    "        'range': group['salary'].max() - group['salary'].min()\n",
    "    })\n",
    "\n",
    "dept_salary_summary = merged_df.groupby('department_name').apply(salary_stats)\n",
    "\n",
    "top2_earners = merged_df.sort_values('salary', ascending=False).groupby('department_name').head(2)\n",
    "top2_earners[['department_name','employee_id','salary']].head()"
   ]
  },
  {
   "cell_type": "markdown",
   "id": "dcc635d0",
   "metadata": {},
   "source": [
    "### Part 2.3: Hierarchical Grouping (dept × region)\n",
    "\n",
    "**TODO: Perform multi-level grouping**"
   ]
  },
  {
   "cell_type": "code",
   "execution_count": null,
   "id": "e4351675",
   "metadata": {},
   "outputs": [],
   "source": [
    "hier_stats = merged_df.groupby(['department_name','region']).agg({\n",
    "    '_encounters':'sum',\n",
    "    'salary':'mean'\n",
    "})\n",
    "hier_stats_wide = hier_stats.unstack(fill_value=0)\n",
    "hier_stats_wide.to_csv('output/q2_hierarchical_analysis.csv')\n",
    "hier_stats.head()"
   ]
  },
  {
   "cell_type": "markdown",
   "id": "78cdde09",
   "metadata": {},
   "source": [
    "## Question 3: Pivot Tables and Cross-Tabulations\n",
    "\n",
    "### Part 3.1: Basic Pivot Tables (health service mix)\n",
    "\n",
    "**TODO: Create pivot tables for multi-dimensional analysis**"
   ]
  },
  {
   "cell_type": "code",
   "execution_count": null,
   "id": "3805b05d",
   "metadata": {},
   "outputs": [],
   "source": [
    "product_col = 'product_id' if 'product_id' in sales_df.columns else ('Product' if 'Product' in sales_df.columns else None)\n",
    "region_col = 'region' if 'region' in sales_df.columns else ('Region' if 'Region' in sales_df.columns else None)\n",
    "\n",
    "if 'total_amount' in sales_df.columns:\n",
    "    measure = sales_df['total_amount']\n",
    "elif {'quantity','unit_price'}.issubset(sales_df.columns):\n",
    "    measure = sales_df['quantity'] * sales_df['unit_price']\n",
    "else:\n",
    "    measure = pd.Series(1, index=sales_df.index)\n",
    "\n",
    "df_pvt = sales_df.copy()\n",
    "df_pvt['_measure'] = measure\n",
    "\n",
    "pivot = pd.pivot_table(df_pvt,\n",
    "                       values='_measure',\n",
    "                       index=product_col,\n",
    "                       columns=region_col,\n",
    "                       aggfunc='sum',\n",
    "                       fill_value=0,\n",
    "                       margins=True)\n",
    "pivot.to_csv('output/q3_pivot_analysis.csv')\n",
    "pivot.head()"
   ]
  },
  {
   "cell_type": "markdown",
   "id": "40de38c1",
   "metadata": {},
   "source": [
    "### Part 3.2: Cross-Tabulations (caseload distribution)\n",
    "\n",
    "**TODO: Create cross-tabulations for categorical analysis**"
   ]
  },
  {
   "cell_type": "code",
   "execution_count": null,
   "id": "1c036034",
   "metadata": {},
   "outputs": [],
   "source": [
    "dept_region_xtab = pd.crosstab(merged_df['department_name'], merged_df['region'], margins=True)\n",
    "dept_region_xtab.to_csv('output/q3_crosstab_analysis.csv')\n",
    "dept_region_xtab.head()"
   ]
  },
  {
   "cell_type": "markdown",
   "id": "d513e2fc",
   "metadata": {},
   "source": [
    "### Part 3.3: Pivot Table Visualization\n",
    "\n",
    "**TODO: Create visualizations from pivot tables**"
   ]
  },
  {
   "cell_type": "code",
   "execution_count": null,
   "id": "290e587d",
   "metadata": {},
   "outputs": [],
   "source": [
    "import matplotlib.pyplot as plt\n",
    "import seaborn as sns\n",
    "\n",
    "pivot_viz = pd.read_csv('output/q3_pivot_analysis.csv', index_col=0)\n",
    "if 'All' in pivot_viz.columns:\n",
    "    pivot_viz = pivot_viz.drop(columns=['All'])\n",
    "if 'All' in pivot_viz.index:\n",
    "    pivot_viz = pivot_viz.drop(index=['All'])\n",
    "\n",
    "plt.figure(figsize=(8, 5))\n",
    "sns.heatmap(pivot_viz, annot=False, cmap='Blues')\n",
    "plt.title('Encounters by Product and Region')\n",
    "plt.tight_layout()\n",
    "plt.savefig('output/q3_pivot_visualization.png', dpi=150)\n",
    "plt.close()"
   ]
  },
  {
   "cell_type": "markdown",
   "id": "04f1e5bb",
   "metadata": {},
   "source": [
    "## Submission Checklist\n",
    "\n",
    "Before submitting, verify you've created:\n",
    "\n",
    "- [ ] `output/q1_groupby_analysis.csv` - Basic groupby analysis\n",
    "- [ ] `output/q1_aggregation_report.txt` - Aggregation report\n",
    "- [ ] `output/q2_hierarchical_analysis.csv` - Hierarchical analysis\n",
    "- [ ] `output/q2_performance_report.txt` - Performance report\n",
    "- [ ] `output/q3_pivot_analysis.csv` - Pivot table analysis\n",
    "- [ ] `output/q3_crosstab_analysis.csv` - Cross-tabulation analysis\n",
    "- [ ] `output/q3_pivot_visualization.png` - Pivot visualization\n",
    "\n",
    "## Key Learning Objectives\n",
    "\n",
    "- Master the split-apply-combine paradigm\n",
    "- Apply aggregation functions and transformations\n",
    "- Create pivot tables for multi-dimensional analysis\n",
    "- Apply advanced groupby techniques"
   ]
  }
 ],
 "metadata": {
  "kernelspec": {
   "display_name": "Python 3",
   "language": "python",
   "name": "python3"
  }
 },
 "nbformat": 4,
 "nbformat_minor": 5
}
