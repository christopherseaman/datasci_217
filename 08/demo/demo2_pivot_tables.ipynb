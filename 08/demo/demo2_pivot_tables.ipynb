{
 "cells": [
  {
   "cell_type": "markdown",
   "id": "715aae5b",
   "metadata": {},
   "source": [
    "# Demo 2: Pivot Tables and Cross-Tabulations\n",
    "\n",
    "## Learning Objectives\n",
    "- Create pivot tables for multi-dimensional analysis\n",
    "- Use cross-tabulations for frequency analysis\n",
    "- Apply advanced pivot operations\n",
    "- Handle missing values and totals\n",
    "\n",
    "## Setup"
   ]
  },
  {
   "cell_type": "code",
   "execution_count": null,
   "id": "d2b29e94",
   "metadata": {},
   "outputs": [],
   "source": [
    "import pandas as pd\n",
    "import numpy as np\n",
    "import matplotlib.pyplot as plt\n",
    "\n",
    "# Set inline plotting for Jupyter\n",
    "%matplotlib inline\n",
    "\n",
    "# Set random seed for reproducibility\n",
    "np.random.seed(42)"
   ]
  },
  {
   "cell_type": "markdown",
   "id": "52d379b4",
   "metadata": {},
   "source": [
    "## Part 1: Basic Pivot Tables\n",
    "\n",
    "### Create Sample Data"
   ]
  },
  {
   "cell_type": "code",
   "execution_count": null,
   "id": "5af69d39",
   "metadata": {},
   "outputs": [],
   "source": [
    "# Create sample sales data\n",
    "data = {\n",
    "    'Product': ['A', 'A', 'B', 'B', 'C', 'C', 'A', 'B', 'C', 'A'],\n",
    "    'Region': ['North', 'South', 'North', 'South', 'North', 'South', 'North', 'South', 'North', 'South'],\n",
    "    'Sales': [1000, 1500, 2000, 1200, 800, 900, 1100, 1300, 700, 1600],\n",
    "    'Quantity': [10, 15, 20, 12, 8, 9, 11, 13, 7, 16]\n",
    "}\n",
    "\n",
    "df = pd.DataFrame(data)\n",
    "print(\"Sample Data:\")\n",
    "print(df)"
   ]
  },
  {
   "cell_type": "markdown",
   "id": "6dc6cff0",
   "metadata": {},
   "source": [
    "### Basic Pivot Table"
   ]
  },
  {
   "cell_type": "code",
   "execution_count": null,
   "id": "0e599f21",
   "metadata": {},
   "outputs": [],
   "source": [
    "# Create basic pivot table\n",
    "print(\"=== Basic Pivot Table ===\")\n",
    "pivot = pd.pivot_table(df, \n",
    "                      values='Sales', \n",
    "                      index='Product', \n",
    "                      columns='Region', \n",
    "                      aggfunc='sum')\n",
    "print(\"Sales by Product and Region:\")\n",
    "print(pivot)"
   ]
  },
  {
   "cell_type": "markdown",
   "id": "ef50d75a",
   "metadata": {},
   "source": [
    "### Pivot Table with Multiple Aggregations"
   ]
  },
  {
   "cell_type": "code",
   "execution_count": null,
   "id": "161e9235",
   "metadata": {},
   "outputs": [],
   "source": [
    "# Pivot table with multiple aggregations\n",
    "print(\"=== Multiple Aggregations ===\")\n",
    "pivot_multi = pd.pivot_table(df,\n",
    "                            values='Sales',\n",
    "                            index='Product',\n",
    "                            columns='Region',\n",
    "                            aggfunc=['sum', 'mean', 'count'])\n",
    "print(\"Multiple aggregations:\")\n",
    "print(pivot_multi)"
   ]
  },
  {
   "cell_type": "markdown",
   "id": "8fd40e91",
   "metadata": {},
   "source": [
    "## Part 2: Advanced Pivot Operations\n",
    "\n",
    "### Pivot Table with Totals"
   ]
  },
  {
   "cell_type": "code",
   "execution_count": null,
   "id": "77488859",
   "metadata": {},
   "outputs": [],
   "source": [
    "# Pivot table with totals\n",
    "print(\"=== Pivot Table with Totals ===\")\n",
    "pivot_totals = pd.pivot_table(df,\n",
    "                             values='Sales',\n",
    "                             index='Product',\n",
    "                             columns='Region',\n",
    "                             aggfunc='sum',\n",
    "                             margins=True,\n",
    "                             margins_name='Total')\n",
    "print(\"Sales with totals:\")\n",
    "print(pivot_totals)"
   ]
  },
  {
   "cell_type": "markdown",
   "id": "1799a7e9",
   "metadata": {},
   "source": [
    "### Handling Missing Values"
   ]
  },
  {
   "cell_type": "code",
   "execution_count": null,
   "id": "797c763f",
   "metadata": {},
   "outputs": [],
   "source": [
    "# Create data with missing combinations\n",
    "data_missing = {\n",
    "    'Product': ['A', 'A', 'B', 'B', 'C'],\n",
    "    'Region': ['North', 'South', 'North', 'South', 'North'],\n",
    "    'Sales': [1000, 1500, 2000, 1200, 800]\n",
    "}\n",
    "\n",
    "df_missing = pd.DataFrame(data_missing)\n",
    "print(\"=== Handling Missing Values ===\")\n",
    "print(\"Data with missing combinations:\")\n",
    "print(df_missing)\n",
    "\n",
    "# Pivot with fill_value\n",
    "pivot_filled = pd.pivot_table(df_missing,\n",
    "                             values='Sales',\n",
    "                             index='Product',\n",
    "                             columns='Region',\n",
    "                             aggfunc='sum',\n",
    "                             fill_value=0)\n",
    "print(\"\\nPivot with filled missing values:\")\n",
    "print(pivot_filled)"
   ]
  },
  {
   "cell_type": "markdown",
   "id": "1f172d85",
   "metadata": {},
   "source": [
    "### Cross-Tabulation"
   ]
  },
  {
   "cell_type": "code",
   "execution_count": null,
   "id": "181f52bb",
   "metadata": {},
   "outputs": [],
   "source": [
    "# Create categorical data for cross-tabulation\n",
    "np.random.seed(42)\n",
    "n_observations = 500\n",
    "\n",
    "categorical_data = {\n",
    "    'Gender': np.random.choice(['M', 'F'], n_observations),\n",
    "    'Age_Group': np.random.choice(['18-25', '26-35', '36-45', '46-55'], n_observations),\n",
    "    'Education': np.random.choice(['High School', 'Bachelor', 'Master', 'PhD'], n_observations),\n",
    "    'Income_Level': np.random.choice(['Low', 'Medium', 'High'], n_observations)\n",
    "}\n",
    "\n",
    "cat_df = pd.DataFrame(categorical_data)\n",
    "print(\"=== Cross-Tabulation ===\")\n",
    "print(\"Sample categorical data:\")\n",
    "print(cat_df.head())\n",
    "\n",
    "# Cross-tabulation\n",
    "crosstab = pd.crosstab(cat_df['Gender'], cat_df['Age_Group'], margins=True)\n",
    "print(\"\\nGender vs Age Group:\")\n",
    "print(crosstab)\n",
    "\n",
    "# Multi-dimensional cross-tabulation\n",
    "crosstab_multi = pd.crosstab([cat_df['Gender'], cat_df['Age_Group']], \n",
    "                            cat_df['Education'], \n",
    "                            margins=True)\n",
    "print(\"\\nMulti-dimensional cross-tabulation:\")\n",
    "print(crosstab_multi.head(10))"
   ]
  },
  {
   "cell_type": "markdown",
   "id": "eb9a2ba3",
   "metadata": {},
   "source": [
    "## Part 3: Real-world Analysis\n",
    "\n",
    "### Sales Performance Analysis"
   ]
  },
  {
   "cell_type": "code",
   "execution_count": null,
   "id": "6775047f",
   "metadata": {},
   "outputs": [],
   "source": [
    "# Create comprehensive sales data\n",
    "np.random.seed(42)\n",
    "n_sales = 1000\n",
    "\n",
    "sales_data = {\n",
    "    'Date': pd.date_range('2023-01-01', periods=n_sales, freq='D'),\n",
    "    'Product': np.random.choice(['Electronics', 'Clothing', 'Books', 'Home'], n_sales),\n",
    "    'Region': np.random.choice(['North', 'South', 'East', 'West'], n_sales),\n",
    "    'Salesperson': np.random.choice(['Alice', 'Bob', 'Charlie', 'Diana'], n_sales),\n",
    "    'Quantity': np.random.randint(1, 10, n_sales),\n",
    "    'Unit_Price': np.random.uniform(10, 100, n_sales)\n",
    "}\n",
    "\n",
    "sales_df = pd.DataFrame(sales_data)\n",
    "sales_df['Total_Sales'] = sales_df['Quantity'] * sales_df['Unit_Price']\n",
    "sales_df['Month'] = sales_df['Date'].dt.to_period('M')\n",
    "\n",
    "print(\"=== Sales Performance Analysis ===\")\n",
    "print(\"Sample sales data:\")\n",
    "print(sales_df.head())"
   ]
  },
  {
   "cell_type": "markdown",
   "id": "5c0fe539",
   "metadata": {},
   "source": [
    "### Monthly Sales by Product and Region"
   ]
  },
  {
   "cell_type": "code",
   "execution_count": null,
   "id": "e5e21f3d",
   "metadata": {},
   "outputs": [],
   "source": [
    "# Monthly sales pivot table\n",
    "monthly_pivot = pd.pivot_table(sales_df,\n",
    "                               values='Total_Sales',\n",
    "                               index='Product',\n",
    "                               columns='Month',\n",
    "                               aggfunc='sum',\n",
    "                               margins=True)\n",
    "print(\"Monthly sales by product:\")\n",
    "print(monthly_pivot)"
   ]
  },
  {
   "cell_type": "markdown",
   "id": "a902d8af",
   "metadata": {},
   "source": [
    "### Salesperson Performance Analysis"
   ]
  },
  {
   "cell_type": "code",
   "execution_count": null,
   "id": "777c3970",
   "metadata": {},
   "outputs": [],
   "source": [
    "# Salesperson performance\n",
    "salesperson_pivot = pd.pivot_table(sales_df,\n",
    "                                  values=['Total_Sales', 'Quantity'],\n",
    "                                  index='Salesperson',\n",
    "                                  columns='Region',\n",
    "                                  aggfunc={'Total_Sales': 'sum', 'Quantity': 'sum'},\n",
    "                                  margins=True)\n",
    "print(\"Salesperson performance by region:\")\n",
    "print(salesperson_pivot)"
   ]
  },
  {
   "cell_type": "markdown",
   "id": "7989df34",
   "metadata": {},
   "source": [
    "### Product Performance by Region"
   ]
  },
  {
   "cell_type": "code",
   "execution_count": null,
   "id": "de838eaf",
   "metadata": {},
   "outputs": [],
   "source": [
    "# Product performance by region\n",
    "product_pivot = pd.pivot_table(sales_df,\n",
    "                              values='Total_Sales',\n",
    "                              index='Product',\n",
    "                              columns='Region',\n",
    "                              aggfunc=['sum', 'mean', 'count'],\n",
    "                              margins=True)\n",
    "print(\"Product performance by region:\")\n",
    "print(product_pivot)"
   ]
  },
  {
   "cell_type": "markdown",
   "id": "f11398a4",
   "metadata": {},
   "source": [
    "## Part 4: Visualization with Pivot Tables\n",
    "\n",
    "### Heatmap Visualization"
   ]
  },
  {
   "cell_type": "code",
   "execution_count": null,
   "id": "33c5a17d",
   "metadata": {},
   "outputs": [],
   "source": [
    "# Create heatmap from pivot table\n",
    "pivot_heatmap = pd.pivot_table(sales_df,\n",
    "                               values='Total_Sales',\n",
    "                               index='Product',\n",
    "                               columns='Region',\n",
    "                               aggfunc='sum')\n",
    "\n",
    "# Create heatmap\n",
    "fig, ax = plt.subplots(figsize=(10, 6))\n",
    "im = ax.imshow(pivot_heatmap.values, cmap='YlOrRd', aspect='auto')\n",
    "\n",
    "# Set ticks and labels\n",
    "ax.set_xticks(range(len(pivot_heatmap.columns)))\n",
    "ax.set_yticks(range(len(pivot_heatmap.index)))\n",
    "ax.set_xticklabels(pivot_heatmap.columns)\n",
    "ax.set_yticklabels(pivot_heatmap.index)\n",
    "\n",
    "# Add colorbar\n",
    "plt.colorbar(im, ax=ax, label='Total Sales')\n",
    "\n",
    "# Add title and labels\n",
    "plt.title('Sales Heatmap: Product vs Region')\n",
    "plt.xlabel('Region')\n",
    "plt.ylabel('Product')\n",
    "\n",
    "# Add text annotations\n",
    "for i in range(len(pivot_heatmap.index)):\n",
    "    for j in range(len(pivot_heatmap.columns)):\n",
    "        text = ax.text(j, i, f'{pivot_heatmap.iloc[i, j]:.0f}',\n",
    "                      ha=\"center\", va=\"center\", color=\"black\")\n",
    "\n",
    "plt.tight_layout()\n",
    "plt.show()"
   ]
  },
  {
   "cell_type": "markdown",
   "id": "05a1177b",
   "metadata": {},
   "source": [
    "### Bar Chart from Pivot Table"
   ]
  },
  {
   "cell_type": "code",
   "execution_count": null,
   "id": "3226f361",
   "metadata": {},
   "outputs": [],
   "source": [
    "# Create bar chart from pivot table\n",
    "pivot_bar = pd.pivot_table(sales_df,\n",
    "                           values='Total_Sales',\n",
    "                           index='Product',\n",
    "                           columns='Region',\n",
    "                           aggfunc='sum')\n",
    "\n",
    "# Create bar chart\n",
    "pivot_bar.plot(kind='bar', figsize=(12, 6))\n",
    "plt.title('Sales by Product and Region')\n",
    "plt.xlabel('Product')\n",
    "plt.ylabel('Total Sales')\n",
    "plt.legend(title='Region')\n",
    "plt.xticks(rotation=45)\n",
    "plt.tight_layout()\n",
    "plt.show()"
   ]
  },
  {
   "cell_type": "markdown",
   "id": "624f8e17",
   "metadata": {},
   "source": [
    "## Part 5: Advanced Pivot Operations\n",
    "\n",
    "### Custom Aggregation Functions"
   ]
  },
  {
   "cell_type": "code",
   "execution_count": null,
   "id": "849ed605",
   "metadata": {},
   "outputs": [],
   "source": [
    "# Custom aggregation function\n",
    "def sales_range(series):\n",
    "    return series.max() - series.min()\n",
    "\n",
    "# Pivot table with custom function\n",
    "custom_pivot = pd.pivot_table(sales_df,\n",
    "                              values='Total_Sales',\n",
    "                              index='Product',\n",
    "                              columns='Region',\n",
    "                              aggfunc=sales_range)\n",
    "print(\"=== Custom Aggregation ===\")\n",
    "print(\"Sales range by product and region:\")\n",
    "print(custom_pivot)"
   ]
  },
  {
   "cell_type": "markdown",
   "id": "8b62cb70",
   "metadata": {},
   "source": [
    "### Pivot Table with Multiple Values"
   ]
  },
  {
   "cell_type": "code",
   "execution_count": null,
   "id": "e44416dd",
   "metadata": {},
   "outputs": [],
   "source": [
    "# Pivot table with multiple value columns\n",
    "multi_value_pivot = pd.pivot_table(sales_df,\n",
    "                                  values=['Total_Sales', 'Quantity'],\n",
    "                                  index='Product',\n",
    "                                  columns='Region',\n",
    "                                  aggfunc={'Total_Sales': 'sum', 'Quantity': 'mean'})\n",
    "print(\"=== Multiple Value Columns ===\")\n",
    "print(\"Sales and quantity by product and region:\")\n",
    "print(multi_value_pivot)"
   ]
  },
  {
   "cell_type": "markdown",
   "id": "d5634520",
   "metadata": {},
   "source": [
    "### Reshaping Pivot Results"
   ]
  },
  {
   "cell_type": "code",
   "execution_count": null,
   "id": "1445d939",
   "metadata": {},
   "outputs": [],
   "source": [
    "# Reshape pivot table results\n",
    "pivot_reshaped = pd.pivot_table(sales_df,\n",
    "                                values='Total_Sales',\n",
    "                                index='Product',\n",
    "                                columns='Region',\n",
    "                                aggfunc='sum')\n",
    "\n",
    "# Stack and unstack operations\n",
    "stacked = pivot_reshaped.stack()\n",
    "print(\"=== Reshaping Operations ===\")\n",
    "print(\"Stacked pivot table:\")\n",
    "print(stacked.head(10))\n",
    "\n",
    "# Unstack back to wide format\n",
    "unstacked = stacked.unstack()\n",
    "print(\"\\nUnstacked back to wide format:\")\n",
    "print(unstacked)"
   ]
  },
  {
   "cell_type": "markdown",
   "id": "6f87c0ae",
   "metadata": {},
   "source": [
    "## Key Takeaways\n",
    "\n",
    "1. **Pivot Tables**: Transform long-format data to wide-format summaries\n",
    "2. **Multiple Aggregations**: Use different functions for different insights\n",
    "3. **Totals and Margins**: Add row and column totals for comprehensive analysis\n",
    "4. **Missing Values**: Handle missing combinations with fill_value\n",
    "5. **Cross-Tabulation**: Analyze categorical data relationships\n",
    "6. **Visualization**: Create heatmaps and charts from pivot tables\n",
    "7. **Custom Functions**: Apply business-specific aggregation logic\n",
    "\n",
    "## Next Steps\n",
    "\n",
    "- Practice with your own datasets\n",
    "- Experiment with different aggregation functions\n",
    "- Learn about remote computing for large datasets\n",
    "- Explore performance optimization techniques"
   ]
  }
 ],
 "metadata": {
  "jupytext": {
   "cell_metadata_filter": "-all",
   "main_language": "python",
   "notebook_metadata_filter": "-all"
  }
 },
 "nbformat": 4,
 "nbformat_minor": 5
}
