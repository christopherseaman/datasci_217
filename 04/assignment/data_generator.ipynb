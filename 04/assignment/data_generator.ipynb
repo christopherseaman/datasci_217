{
 "cells": [
  {
   "cell_type": "markdown",
   "metadata": {},
   "source": [
    "# Data Generator - Customer Purchases Dataset\n",
    "\n",
    "This notebook generates the sample dataset for Assignment 4.\n",
    "\n",
    "**Run this once to create `data/customer_purchases.csv`**"
   ]
  },
  {
   "cell_type": "code",
   "execution_count": null,
   "metadata": {},
   "outputs": [],
   "source": [
    "import pandas as pd\n",
    "import numpy as np\n",
    "from datetime import datetime, timedelta\n",
    "\n",
    "np.random.seed(217)  # For reproducibility"
   ]
  },
  {
   "cell_type": "code",
   "execution_count": null,
   "metadata": {},
   "outputs": [],
   "source": [
    "# Generate sample customer purchase data\n",
    "n_records = 15000  # 100x larger dataset\n",
    "\n",
    "data = {\n",
    "    'purchase_id': [f'P{i:05d}' for i in range(1, n_records + 1)],\n",
    "    'customer_id': np.random.choice([f'C{i:04d}' for i in range(1, 501)], n_records),\n",
    "    'product_category': np.random.choice(['Electronics', 'Clothing', 'Home & Garden', 'Books', 'Sports'], n_records),\n",
    "    'product_name': np.random.choice([\n",
    "        'Laptop', 'Smartphone', 'Headphones', 'Tablet', 'Monitor',\n",
    "        'T-Shirt', 'Jeans', 'Jacket', 'Shoes', 'Hat',\n",
    "        'Plant Pot', 'Garden Tools', 'Lamp', 'Rug', 'Cushion',\n",
    "        'Novel', 'Cookbook', 'Magazine', 'Textbook',\n",
    "        'Yoga Mat', 'Dumbbells', 'Tennis Racket', 'Basketball', 'Running Shoes'\n",
    "    ], n_records),\n",
    "    'quantity': np.random.choice([1, 2, 3, 4, 5], n_records),\n",
    "    'price_per_item': np.round(np.random.uniform(9.99, 499.99, n_records), 2),\n",
    "    'purchase_date': [(datetime(2024, 1, 1) + timedelta(days=int(x))).strftime('%Y-%m-%d') \n",
    "                      for x in np.random.uniform(0, 365, n_records)],\n",
    "    'customer_state': np.random.choice(['CA', 'NY', 'TX', 'FL', 'WA', 'IL'], n_records),\n",
    "    'shipping_method': np.random.choice(['Standard', 'Express', 'Overnight'], n_records)\n",
    "}\n",
    "\n",
    "df = pd.DataFrame(data)\n",
    "\n",
    "# Introduce some missing values (realistic scenario)\n",
    "# About 4% missing values in quantity and shipping_method\n",
    "n_missing = int(n_records * 0.04)\n",
    "missing_indices = np.random.choice(df.index, size=n_missing * 2, replace=False)\n",
    "df.loc[missing_indices[:n_missing], 'quantity'] = np.nan\n",
    "df.loc[missing_indices[n_missing:], 'shipping_method'] = np.nan\n",
    "\n",
    "# Show sample\n",
    "print(f\"Generated {len(df):,} records\")\n",
    "print(f\"\\nMissing values:\")\n",
    "print(df.isnull().sum())\n",
    "print(f\"\\nFirst few rows:\")\n",
    "df.head(10)"
   ]
  },
  {
   "cell_type": "code",
   "execution_count": null,
   "metadata": {},
   "outputs": [],
   "source": [
    "# Save to CSV\n",
    "df.to_csv('data/customer_purchases.csv', index=False)\n",
    "print(f\"✓ Saved {len(df):,} records to data/customer_purchases.csv\")\n",
    "print(f\"  File size: {len(df.to_csv(index=False)) / 1024:.1f} KB\")"
   ]
  },
  {
   "cell_type": "markdown",
   "metadata": {},
   "source": [
    "## Dataset Preview & Summary Statistics\n",
    "\n",
    "This section shows some analysis techniques you'll learn later in the course!"
   ]
  },
  {
   "cell_type": "code",
   "execution_count": null,
   "metadata": {},
   "outputs": [],
   "source": [
    "# Summary statistics\n",
    "print(\"=== NUMERIC COLUMN SUMMARY ===\")\n",
    "df.describe()"
   ]
  },
  {
   "cell_type": "code",
   "execution_count": null,
   "metadata": {},
   "outputs": [],
   "source": [
    "# Category distributions\n",
    "print(\"=== PRODUCT CATEGORIES ===\")\n",
    "df['product_category'].value_counts()"
   ]
  },
  {
   "cell_type": "code",
   "execution_count": null,
   "metadata": {},
   "outputs": [],
   "source": [
    "# Preview: Simple visualization (you'll learn this in Lecture 9!)\n",
    "import matplotlib.pyplot as plt\n",
    "\n",
    "df['product_category'].value_counts().plot(kind='bar', title='Purchases by Category')\n",
    "plt.ylabel('Number of Purchases')\n",
    "plt.xticks(rotation=45)\n",
    "plt.tight_layout()\n",
    "plt.show()"
   ]
  },
  {
   "cell_type": "code",
   "execution_count": null,
   "metadata": {},
   "outputs": [],
   "source": [
    "# Preview: Time series (Lecture 11!)\n",
    "df['purchase_date'] = pd.to_datetime(df['purchase_date'])\n",
    "daily_purchases = df.groupby('purchase_date').size()\n",
    "\n",
    "plt.figure(figsize=(12, 4))\n",
    "daily_purchases.plot(title='Purchases Over Time')\n",
    "plt.ylabel('Number of Purchases')\n",
    "plt.xlabel('Date')\n",
    "plt.tight_layout()\n",
    "plt.show()"
   ]
  }
 ],
 "metadata": {
  "kernelspec": {
   "display_name": "Python 3",
   "language": "python",
   "name": "python3"
  },
  "language_info": {
   "name": "python",
   "version": "3.11.0"
  }
 },
 "nbformat": 4,
 "nbformat_minor": 4
}
