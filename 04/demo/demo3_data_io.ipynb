{
 "cells": [
  {
   "cell_type": "markdown",
   "id": "c4262475",
   "metadata": {},
   "source": [
    "# Data I/O and Real-World Workflow\n",
    "\n",
    "Loading real data, handling missing values, and performing analysis\n",
    "\n",
    "## Step 1: Create Sample CSV Data"
   ]
  },
  {
   "cell_type": "code",
   "execution_count": null,
   "id": "4a66f4a9",
   "metadata": {},
   "outputs": [],
   "source": [
    "import pandas as pd\n",
    "import os\n",
    "\n",
    "# Create sample sales data\n",
    "sales_data = \"\"\"date,product,quantity,price,region\n",
    "2024-01-15,Widget A,5,29.99,North\n",
    "2024-01-16,Widget B,3,49.99,South\n",
    "2024-01-16,Widget A,2,29.99,East\n",
    "2024-01-17,Widget C,7,19.99,North\n",
    "2024-01-17,Widget B,,49.99,South\n",
    "2024-01-18,Widget A,4,29.99,West\n",
    "2024-01-18,Widget C,6,,North\n",
    "2024-01-19,Widget B,8,49.99,East\"\"\"\n",
    "\n",
    "# Write to file\n",
    "with open('sales_data.csv', 'w') as f:\n",
    "    f.write(sales_data)\n",
    "\n",
    "print(\"Created sales_data.csv\")"
   ]
  },
  {
   "cell_type": "markdown",
   "id": "fb33bdbf",
   "metadata": {},
   "source": [
    "## Step 2: Load and Inspect Data"
   ]
  },
  {
   "cell_type": "code",
   "execution_count": null,
   "id": "5020dd9a",
   "metadata": {},
   "outputs": [],
   "source": [
    "# Read CSV\n",
    "df_sales = pd.read_csv('sales_data.csv')\n",
    "\n",
    "print(\"Data loaded:\")\n",
    "print(df_sales)\n",
    "\n",
    "print(\"\\nData types:\")\n",
    "print(df_sales.dtypes)\n",
    "\n",
    "print(\"\\nMissing values per column:\")\n",
    "print(df_sales.isnull().sum())"
   ]
  },
  {
   "cell_type": "markdown",
   "id": "b0f7978b",
   "metadata": {},
   "source": [
    "## Step 3: Data Quality Assessment"
   ]
  },
  {
   "cell_type": "code",
   "execution_count": null,
   "id": "b334d0e3",
   "metadata": {},
   "outputs": [],
   "source": [
    "# Check for missing values\n",
    "print(\"Missing values per column:\")\n",
    "print(df_sales.isnull().sum())\n",
    "\n",
    "# See rows with missing values\n",
    "print(\"\\nRows with missing values:\")\n",
    "print(df_sales[df_sales.isnull().any(axis=1)])\n",
    "\n",
    "# Check for duplicates\n",
    "print(f\"\\nNumber of duplicate rows: {df_sales.duplicated().sum()}\")\n",
    "\n",
    "# Check data types\n",
    "print(\"\\nData types:\")\n",
    "print(df_sales.dtypes)"
   ]
  },
  {
   "cell_type": "markdown",
   "id": "e50ec183",
   "metadata": {},
   "source": [
    "## Step 4: Handle Missing Data & Type Conversion"
   ]
  },
  {
   "cell_type": "code",
   "execution_count": null,
   "id": "264b0283",
   "metadata": {},
   "outputs": [],
   "source": [
    "# Fill missing quantity with 0\n",
    "df_sales['quantity'] = df_sales['quantity'].fillna(0)\n",
    "\n",
    "# Fill missing price with median price for that product\n",
    "df_sales['price'] = df_sales.groupby('product')['price'].transform(lambda x: x.fillna(x.median()))\n",
    "\n",
    "print(\"After handling missing values:\")\n",
    "print(df_sales)\n",
    "\n",
    "# Convert quantity to integer (was float due to NaN)\n",
    "df_sales['quantity'] = df_sales['quantity'].astype('int64')\n",
    "\n",
    "# Convert date column to datetime\n",
    "df_sales['date'] = pd.to_datetime(df_sales['date'])\n",
    "\n",
    "print(\"\\nAfter type conversion:\")\n",
    "print(df_sales.dtypes)\n",
    "print(f\"\\nRemaining missing values: {df_sales.isnull().sum().sum()}\")"
   ]
  },
  {
   "cell_type": "markdown",
   "id": "3967ca5a",
   "metadata": {},
   "source": [
    "## Step 5: Basic Analysis"
   ]
  },
  {
   "cell_type": "code",
   "execution_count": null,
   "id": "748e5fc1",
   "metadata": {},
   "outputs": [],
   "source": [
    "# Add calculated column\n",
    "df_sales['total_sale'] = df_sales['quantity'] * df_sales['price']\n",
    "\n",
    "print(\"Sales with totals:\")\n",
    "print(df_sales[['date', 'product', 'quantity', 'price', 'total_sale']])\n",
    "\n",
    "# Summary by product\n",
    "print(\"\\nSales by product:\")\n",
    "product_summary = df_sales.groupby('product').agg({\n",
    "    'quantity': 'sum',\n",
    "    'total_sale': 'sum'\n",
    "}).round(2)\n",
    "print(product_summary)\n",
    "\n",
    "# Summary by region\n",
    "print(\"\\nSales by region:\")\n",
    "region_summary = df_sales.groupby('region')['total_sale'].sum().sort_values(ascending=False)\n",
    "print(region_summary)"
   ]
  },
  {
   "cell_type": "markdown",
   "id": "c41bbae9",
   "metadata": {},
   "source": [
    "## Step 6: Value Counts and Quick Insights"
   ]
  },
  {
   "cell_type": "code",
   "execution_count": null,
   "id": "9cea3326",
   "metadata": {},
   "outputs": [],
   "source": [
    "# Most common products\n",
    "print(\"Product frequencies:\")\n",
    "print(df_sales['product'].value_counts())\n",
    "\n",
    "# Regions ranked by number of sales\n",
    "print(\"\\nSales transactions by region:\")\n",
    "print(df_sales['region'].value_counts())\n",
    "\n",
    "# Quick statistics\n",
    "print(f\"\\nTotal revenue: ${df_sales['total_sale'].sum():.2f}\")\n",
    "print(f\"Average transaction: ${df_sales['total_sale'].mean():.2f}\")\n",
    "print(f\"Largest sale: ${df_sales['total_sale'].max():.2f}\")"
   ]
  },
  {
   "cell_type": "markdown",
   "id": "5d0e3343",
   "metadata": {},
   "source": [
    "## Step 7: Save Results"
   ]
  },
  {
   "cell_type": "code",
   "execution_count": null,
   "id": "6d77bf1e",
   "metadata": {},
   "outputs": [],
   "source": [
    "# Save cleaned data\n",
    "df_sales.to_csv('sales_data_clean.csv', index=False)\n",
    "print(\"Saved cleaned data to sales_data_clean.csv\")\n",
    "\n",
    "# Save summary\n",
    "product_summary.to_csv('product_summary.csv')\n",
    "print(\"Saved product summary to product_summary.csv\")\n",
    "\n",
    "print(\"\\nFiles created:\")\n",
    "for file in ['sales_data.csv', 'sales_data_clean.csv', 'product_summary.csv']:\n",
    "    if os.path.exists(file):\n",
    "        print(f\"  ✓ {file}\")"
   ]
  }
 ],
 "metadata": {
  "kernelspec": {
   "display_name": "Python 3",
   "language": "python",
   "name": "python3"
  }
 },
 "nbformat": 4,
 "nbformat_minor": 5
}
