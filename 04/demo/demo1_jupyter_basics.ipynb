{
 "cells": [
  {
   "cell_type": "markdown",
   "id": "43596ce7",
   "metadata": {},
   "source": [
    "# My First Data Analysis\n",
    "\n",
    "This notebook demonstrates:\n",
    "- Loading data\n",
    "- Basic exploration\n",
    "- Simple visualization"
   ]
  },
  {
   "cell_type": "code",
   "execution_count": null,
   "id": "ffe1dbed",
   "metadata": {},
   "outputs": [],
   "source": [
    "# Import libraries\n",
    "import pandas as pd\n",
    "import matplotlib.pyplot as plt\n",
    "\n",
    "print(\"Setup complete!\")"
   ]
  },
  {
   "cell_type": "code",
   "execution_count": null,
   "id": "ed7e7be0",
   "metadata": {},
   "outputs": [],
   "source": [
    "# Display plots inline\n",
    "%matplotlib inline\n",
    "\n",
    "# Check working directory\n",
    "%pwd"
   ]
  },
  {
   "cell_type": "code",
   "execution_count": null,
   "id": "2fbdec91",
   "metadata": {},
   "outputs": [],
   "source": [
    "# Create sample data\n",
    "data = {\n",
    "    'name': ['Alice', 'Bob', 'Charlie', 'Diana'],\n",
    "    'age': [25, 30, 35, 28],\n",
    "    'salary': [50000, 60000, 75000, 55000]\n",
    "}\n",
    "\n",
    "df = pd.DataFrame(data)\n",
    "df"
   ]
  },
  {
   "cell_type": "code",
   "execution_count": null,
   "id": "f2405c90",
   "metadata": {},
   "outputs": [],
   "source": [
    "# Summary statistics\n",
    "print(df.describe())\n",
    "\n",
    "# Quick visualization\n",
    "df.plot(x='name', y='salary', kind='bar')\n",
    "plt.title('Salaries by Person')\n",
    "plt.show()"
   ]
  },
  {
   "cell_type": "code",
   "execution_count": null,
   "id": "eeeac1da",
   "metadata": {},
   "outputs": [],
   "source": [
    "# Test variable persistence\n",
    "test_var = \"I'm in memory\"\n",
    "print(test_var)"
   ]
  },
  {
   "cell_type": "code",
   "execution_count": null,
   "id": "a74cc2f2",
   "metadata": {},
   "outputs": [],
   "source": [
    "# This will work until kernel restarts\n",
    "print(test_var)"
   ]
  }
 ],
 "metadata": {
  "kernelspec": {
   "display_name": "Python 3",
   "language": "python",
   "name": "python3"
  }
 },
 "nbformat": 4,
 "nbformat_minor": 5
}
