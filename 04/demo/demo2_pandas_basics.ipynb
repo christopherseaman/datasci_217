{
 "cells": [
  {
   "cell_type": "markdown",
   "id": "38f5532e",
   "metadata": {},
   "source": [
    "# Pandas DataFrame Exploration\n",
    "\n",
    "Mastering pandas basics: creation, selection, filtering, and operations\n",
    "\n",
    "## Step 1: Create DataFrame from Dictionary"
   ]
  },
  {
   "cell_type": "code",
   "execution_count": null,
   "id": "8e850656",
   "metadata": {},
   "outputs": [],
   "source": [
    "import pandas as pd\n",
    "import numpy as np\n",
    "\n",
    "# Create from dictionary\n",
    "employee_data = {\n",
    "    'employee_id': ['E001', 'E002', 'E003', 'E004', 'E005'],\n",
    "    'name': ['Alice Johnson', 'Bob Smith', 'Charlie Davis', 'Diana Martinez', 'Eve Wilson'],\n",
    "    'department': ['Engineering', 'Sales', 'Engineering', 'Marketing', 'Sales'],\n",
    "    'salary': [85000, 65000, 92000, 58000, 71000],\n",
    "    'years_experience': [5, 3, 8, 2, 4]\n",
    "}\n",
    "\n",
    "df = pd.DataFrame(employee_data)\n",
    "print(df)\n",
    "print(f\"\\nShape: {df.shape}\")\n",
    "print(f\"\\nData types:\\n{df.dtypes}\")"
   ]
  },
  {
   "cell_type": "markdown",
   "id": "dd6c677d",
   "metadata": {},
   "source": [
    "## Step 2: Column Selection (THE FIRST THING YOU DO!)"
   ]
  },
  {
   "cell_type": "code",
   "execution_count": null,
   "id": "b0bb4767",
   "metadata": {},
   "outputs": [],
   "source": [
    "# Single column (returns Series)\n",
    "names = df['name']\n",
    "print(\"Single column (Series):\")\n",
    "print(type(names))\n",
    "print(names)\n",
    "\n",
    "# Multiple columns (returns DataFrame)\n",
    "basic_info = df[['name', 'department']]\n",
    "print(\"\\nMultiple columns (DataFrame):\")\n",
    "print(type(basic_info))\n",
    "print(basic_info)\n",
    "\n",
    "# Select only numeric columns\n",
    "numeric_cols = df.select_dtypes(include=['number'])\n",
    "print(\"\\nNumeric columns only:\")\n",
    "print(numeric_cols)"
   ]
  },
  {
   "cell_type": "markdown",
   "id": "b7d084e4",
   "metadata": {},
   "source": [
    "## Step 3: DataFrame Inspection & Summary Statistics"
   ]
  },
  {
   "cell_type": "code",
   "execution_count": null,
   "id": "ce1fc0e6",
   "metadata": {},
   "outputs": [],
   "source": [
    "# First few rows\n",
    "print(\"First 3 rows:\")\n",
    "print(df.head(3))\n",
    "\n",
    "# Summary statistics - THE most important exploration tool\n",
    "print(\"\\nSummary statistics:\")\n",
    "print(df.describe())\n",
    "\n",
    "# DataFrame structure and memory\n",
    "print(\"\\nDataFrame info:\")\n",
    "df.info()\n",
    "\n",
    "# Count values\n",
    "print(f\"\\nTotal rows: {len(df)}\")\n",
    "print(f\"\\nNon-null counts per column:\")\n",
    "print(df.count())\n",
    "\n",
    "# Unique values in categorical columns\n",
    "print(f\"\\nDepartments: {df['department'].unique()}\")\n",
    "print(f\"Number of unique departments: {df['department'].nunique()}\")\n",
    "print(f\"\\nValue counts for department:\")\n",
    "print(df['department'].value_counts())"
   ]
  },
  {
   "cell_type": "markdown",
   "id": "d5f490a1",
   "metadata": {},
   "source": [
    "## Step 4: Label vs Position Selection (.loc vs .iloc)"
   ]
  },
  {
   "cell_type": "code",
   "execution_count": null,
   "id": "69cabda9",
   "metadata": {},
   "outputs": [],
   "source": [
    "# .loc - label-based selection\n",
    "print(\"Using .loc (labels):\")\n",
    "print(df.loc[0, 'name'])  # Row 0, column 'name'\n",
    "print(df.loc[0:2, ['name', 'salary']])  # Rows 0-2 (inclusive!), specific columns\n",
    "\n",
    "print(\"\\nUsing .iloc (positions):\")\n",
    "print(df.iloc[0, 1])  # Row 0, column 1 (position)\n",
    "print(df.iloc[0:2, [1, 3]])  # Rows 0-1 (exclusive!), columns at positions 1 and 3"
   ]
  },
  {
   "cell_type": "markdown",
   "id": "a29b4ae8",
   "metadata": {},
   "source": [
    "## Step 5: Boolean Filtering & .query()"
   ]
  },
  {
   "cell_type": "code",
   "execution_count": null,
   "id": "ba0da386",
   "metadata": {},
   "outputs": [],
   "source": [
    "# Single condition\n",
    "high_earners = df[df['salary'] > 70000]\n",
    "print(\"High earners (>$70k):\")\n",
    "print(high_earners)\n",
    "\n",
    "# Multiple conditions (& = AND, | = OR, must use parentheses!)\n",
    "experienced_engineers = df[(df['department'] == 'Engineering') & (df['years_experience'] > 4)]\n",
    "print(\"\\nExperienced engineers:\")\n",
    "print(experienced_engineers)\n",
    "\n",
    "# Using .isin() for multiple values\n",
    "sales_or_marketing = df[df['department'].isin(['Sales', 'Marketing'])]\n",
    "print(\"\\nSales or Marketing:\")\n",
    "print(sales_or_marketing)\n",
    "\n",
    "# Using .query() for more readable filtering\n",
    "high_earner_query = df.query('salary > 70000')\n",
    "print(\"\\nUsing .query() - more readable:\")\n",
    "print(high_earner_query)\n",
    "\n",
    "# Complex query with multiple conditions\n",
    "complex_query = df.query('department == \"Engineering\" and years_experience > 4')\n",
    "print(\"\\nComplex query:\")\n",
    "print(complex_query)"
   ]
  },
  {
   "cell_type": "markdown",
   "id": "5185ebec",
   "metadata": {},
   "source": [
    "## Step 6: Column Operations"
   ]
  },
  {
   "cell_type": "code",
   "execution_count": null,
   "id": "77a682a7",
   "metadata": {},
   "outputs": [],
   "source": [
    "# Create new column\n",
    "df['salary_per_year_exp'] = df['salary'] / df['years_experience']\n",
    "print(\"Added calculated column:\")\n",
    "print(df[['name', 'salary_per_year_exp']])\n",
    "\n",
    "# Rename columns\n",
    "df_renamed = df.rename(columns={'years_experience': 'experience_yrs'})\n",
    "print(\"\\nRenamed column:\")\n",
    "print(df_renamed.columns)\n",
    "\n",
    "# Drop columns\n",
    "df_subset = df.drop(columns=['employee_id'])\n",
    "print(\"\\nAfter dropping employee_id:\")\n",
    "print(df_subset.columns)"
   ]
  },
  {
   "cell_type": "markdown",
   "id": "7d408b10",
   "metadata": {},
   "source": [
    "## Step 7: Sorting and Ranking"
   ]
  },
  {
   "cell_type": "code",
   "execution_count": null,
   "id": "11dfd902",
   "metadata": {},
   "outputs": [],
   "source": [
    "# Sort by salary\n",
    "df_sorted = df.sort_values('salary', ascending=False)\n",
    "print(\"Sorted by salary (high to low):\")\n",
    "print(df_sorted[['name', 'salary']])\n",
    "\n",
    "# Sort by multiple columns\n",
    "df_multi_sort = df.sort_values(['department', 'salary'], ascending=[True, False])\n",
    "print(\"\\nSorted by department, then salary within each:\")\n",
    "print(df_multi_sort[['name', 'department', 'salary']])\n",
    "\n",
    "# Sort by index\n",
    "df_sorted_index = df.sort_index()\n",
    "print(\"\\nSorted by index:\")\n",
    "print(df_sorted_index)"
   ]
  }
 ],
 "metadata": {
  "kernelspec": {
   "display_name": "Python 3",
   "language": "python",
   "name": "python3"
  }
 },
 "nbformat": 4,
 "nbformat_minor": 5
}
