{
 "cells": [
  {
   "cell_type": "markdown",
   "id": "8ca86b3d",
   "metadata": {},
   "source": [
    "# Assignment 7: Data Visualization\n",
    "\n",
    "## Overview\n",
    "This assignment covers the essential tools for data visualization: matplotlib fundamentals, seaborn statistical plots, pandas plotting, and visualization best practices.\n",
    "\n",
    "## Setup"
   ]
  },
  {
   "cell_type": "code",
   "execution_count": null,
   "id": "97de07de",
   "metadata": {},
   "outputs": [],
   "source": [
    "import matplotlib.pyplot as plt\n",
    "import seaborn as sns\n",
    "import pandas as pd\n",
    "import numpy as np\n",
    "import os\n",
    "\n",
    "# Set style\n",
    "plt.style.use('default')\n",
    "sns.set_style('whitegrid')\n",
    "\n",
    "# Create output directory\n",
    "os.makedirs('output', exist_ok=True)"
   ]
  },
  {
   "cell_type": "markdown",
   "id": "ff6b7d33",
   "metadata": {},
   "source": [
    "## Question 1: matplotlib Fundamentals\n",
    "\n",
    "### Part 1.1: Basic Figures and Subplots\n",
    "\n",
    "**TODO: Create a figure with 2x2 subplots showing different plot types**"
   ]
  },
  {
   "cell_type": "code",
   "execution_count": null,
   "id": "1d5bd324",
   "metadata": {},
   "outputs": [],
   "source": [
    "# Create sample data\n",
    "x = np.linspace(0, 10, 100)\n",
    "y1 = np.sin(x)\n",
    "y2 = np.cos(x)\n",
    "y3 = np.exp(-x/5)\n",
    "y4 = np.log(x + 1)\n",
    "\n",
    "# TODO: Create a 2x2 subplot grid\n",
    "fig, axes = plt.subplots(2, 2, figsize=(12, 10))\n",
    "\n",
    "# TODO: Plot on each subplot\n",
    "# Top-left: Sine wave\n",
    "# Top-right: Cosine wave  \n",
    "# Bottom-left: Exponential decay\n",
    "# Bottom-right: Logarithmic function\n",
    "\n",
    "# TODO: Add titles and labels to each subplot\n",
    "# TODO: Add grid to each subplot\n",
    "# TODO: Use tight_layout() to prevent overlapping\n",
    "\n",
    "plt.show()"
   ]
  },
  {
   "cell_type": "markdown",
   "id": "748977a7",
   "metadata": {},
   "source": [
    "### Part 1.2: Plot Customization\n",
    "\n",
    "**TODO: Create a customized line plot with multiple series**"
   ]
  },
  {
   "cell_type": "code",
   "execution_count": null,
   "id": "5fa28f46",
   "metadata": {},
   "outputs": [],
   "source": [
    "# Create sample data\n",
    "x = np.linspace(0, 10, 50)\n",
    "y1 = np.sin(x)\n",
    "y2 = np.cos(x)\n",
    "y3 = np.sin(x) * np.cos(x)\n",
    "\n",
    "# TODO: Create a figure with custom styling\n",
    "fig, ax = plt.subplots(figsize=(10, 6))\n",
    "\n",
    "# TODO: Plot three lines with different styles\n",
    "# Line 1: Solid line, blue color, label 'sin(x)'\n",
    "# Line 2: Dashed line, red color, label 'cos(x)'  \n",
    "# Line 3: Dotted line, green color, label 'sin(x)*cos(x)'\n",
    "\n",
    "# TODO: Add title, xlabel, ylabel\n",
    "# TODO: Add legend\n",
    "# TODO: Add grid with transparency\n",
    "# TODO: Set appropriate axis limits\n",
    "\n",
    "plt.show()"
   ]
  },
  {
   "cell_type": "markdown",
   "id": "e2eb7b72",
   "metadata": {},
   "source": [
    "### Part 1.3: Different Plot Types\n",
    "\n",
    "**TODO: Create a comprehensive visualization with multiple plot types**"
   ]
  },
  {
   "cell_type": "code",
   "execution_count": null,
   "id": "5cf91cbe",
   "metadata": {},
   "outputs": [],
   "source": [
    "# Create sample data\n",
    "categories = ['A', 'B', 'C', 'D', 'E']\n",
    "values = [23, 45, 56, 12, 78]\n",
    "x_scatter = np.random.randn(100)\n",
    "y_scatter = 2 * x_scatter + np.random.randn(100)\n",
    "hist_data = np.random.normal(0, 1, 1000)\n",
    "\n",
    "# TODO: Create a 2x2 subplot grid\n",
    "fig, axes = plt.subplots(2, 2, figsize=(15, 12))\n",
    "\n",
    "# TODO: Top-left: Bar chart\n",
    "# TODO: Top-right: Scatter plot\n",
    "# TODO: Bottom-left: Histogram\n",
    "# TODO: Bottom-right: Pie chart\n",
    "\n",
    "# TODO: Add appropriate titles and labels\n",
    "# TODO: Customize colors and styles\n",
    "# TODO: Save the plot as 'output/q1_matplotlib_plots.png'\n",
    "\n",
    "plt.tight_layout()\n",
    "plt.savefig('output/q1_matplotlib_plots.png', dpi=300, bbox_inches='tight')\n",
    "plt.show()"
   ]
  },
  {
   "cell_type": "markdown",
   "id": "81b61233",
   "metadata": {},
   "source": [
    "## Question 2: seaborn Statistical Visualization\n",
    "\n",
    "### Part 2.1: Load and Explore Data"
   ]
  },
  {
   "cell_type": "code",
   "execution_count": null,
   "id": "f9616dab",
   "metadata": {},
   "outputs": [],
   "source": [
    "# Load the sales data\n",
    "sales_df = pd.read_csv('data/sales_data.csv')\n",
    "customer_df = pd.read_csv('data/customer_data.csv')\n",
    "product_df = pd.read_csv('data/product_data.csv')\n",
    "\n",
    "# Merge data for analysis\n",
    "merged_df = sales_df.merge(customer_df, on='customer_id').merge(product_df, on='product_id')\n",
    "\n",
    "print(\"Data shape:\", merged_df.shape)\n",
    "print(\"\\nColumns:\", merged_df.columns.tolist())\n",
    "print(\"\\nFirst few rows:\")\n",
    "print(merged_df.head())"
   ]
  },
  {
   "cell_type": "markdown",
   "id": "da27b06b",
   "metadata": {},
   "source": [
    "### Part 2.2: Statistical Plots\n",
    "\n",
    "**TODO: Create statistical visualizations with seaborn**"
   ]
  },
  {
   "cell_type": "code",
   "execution_count": null,
   "id": "bdba1148",
   "metadata": {},
   "outputs": [],
   "source": [
    "# TODO: Create a figure with 2x2 subplots\n",
    "fig, axes = plt.subplots(2, 2, figsize=(15, 12))\n",
    "\n",
    "# TODO: Top-left: Box plot of total_amount by store_location\n",
    "# TODO: Top-right: Violin plot of total_amount by category\n",
    "# TODO: Bottom-left: Scatter plot of quantity vs total_amount with hue by gender\n",
    "# TODO: Bottom-right: Histogram of total_amount with kde overlay\n",
    "\n",
    "# TODO: Add appropriate titles and labels\n",
    "# TODO: Customize colors and styling\n",
    "# TODO: Save the plot as 'output/q2_seaborn_plots.png'\n",
    "\n",
    "plt.tight_layout()\n",
    "plt.savefig('output/q2_seaborn_plots.png', dpi=300, bbox_inches='tight')\n",
    "plt.show()"
   ]
  },
  {
   "cell_type": "markdown",
   "id": "933d910f",
   "metadata": {},
   "source": [
    "### Part 2.3: Correlation Analysis\n",
    "\n",
    "**TODO: Create a correlation heatmap**"
   ]
  },
  {
   "cell_type": "code",
   "execution_count": null,
   "id": "305e102e",
   "metadata": {},
   "outputs": [],
   "source": [
    "# TODO: Select numeric columns for correlation analysis\n",
    "# First, explore the merged data to see what columns are available\n",
    "print(\"Available columns:\", merged_df.columns.tolist())\n",
    "print(\"Data types:\")\n",
    "print(merged_df.dtypes)\n",
    "\n",
    "# TODO: Select only the numeric columns that exist for correlation analysis\n",
    "# Hint: After merging, some column names might have changed (e.g., unit_price_x, unit_price_y)\n",
    "numeric_cols = []  # Fill this with the appropriate column names\n",
    "\n",
    "# TODO: Calculate correlation matrix\n",
    "# correlation_matrix = ...\n",
    "\n",
    "# TODO: Create heatmap with seaborn\n",
    "# TODO: Add title and customize appearance\n",
    "# TODO: Save the plot as 'output/q2_correlation_heatmap.png'\n",
    "\n",
    "plt.tight_layout()\n",
    "plt.savefig('output/q2_correlation_heatmap.png', dpi=300, bbox_inches='tight')\n",
    "plt.show()"
   ]
  },
  {
   "cell_type": "markdown",
   "id": "5ea6e835",
   "metadata": {},
   "source": [
    "## Question 3: pandas Plotting and Data Exploration\n",
    "\n",
    "### Part 3.1: Time Series Visualization\n",
    "\n",
    "**TODO: Create time series plots with pandas**"
   ]
  },
  {
   "cell_type": "code",
   "execution_count": null,
   "id": "7da554aa",
   "metadata": {},
   "outputs": [],
   "source": [
    "# TODO: Convert transaction_date to datetime\n",
    "# merged_df['transaction_date'] = pd.to_datetime(merged_df['transaction_date'])\n",
    "\n",
    "# TODO: Create daily sales aggregation\n",
    "# daily_sales = merged_df.groupby('transaction_date')['total_amount'].sum()\n",
    "\n",
    "# TODO: Create a figure with 2x2 subplots\n",
    "fig, axes = plt.subplots(2, 2, figsize=(15, 12))\n",
    "\n",
    "# TODO: Top-left: Line plot of daily sales\n",
    "# TODO: Top-right: Rolling 7-day average\n",
    "# TODO: Bottom-left: Monthly sales bar chart\n",
    "# TODO: Bottom-right: Sales distribution histogram\n",
    "\n",
    "# TODO: Add titles and labels\n",
    "# TODO: Save the plot as 'output/q3_pandas_plots.png'\n",
    "\n",
    "plt.tight_layout()\n",
    "plt.savefig('output/q3_pandas_plots.png', dpi=300, bbox_inches='tight')\n",
    "plt.show()"
   ]
  },
  {
   "cell_type": "markdown",
   "id": "5da9cb53",
   "metadata": {},
   "source": [
    "### Part 3.2: Data Overview Dashboard\n",
    "\n",
    "**TODO: Create a comprehensive data overview**"
   ]
  },
  {
   "cell_type": "code",
   "execution_count": null,
   "id": "bcaa32f8",
   "metadata": {},
   "outputs": [],
   "source": [
    "# TODO: Create a figure with multiple subplots\n",
    "fig, axes = plt.subplots(2, 3, figsize=(18, 12))\n",
    "\n",
    "# TODO: Plot 1: Sales by category (bar chart)\n",
    "# TODO: Plot 2: Sales by store location (pie chart)\n",
    "# TODO: Plot 3: Age distribution (histogram)\n",
    "# TODO: Plot 4: Quantity vs total_amount scatter\n",
    "# TODO: Plot 5: Sales over time (line plot)\n",
    "# TODO: Plot 6: Top 10 products by sales (horizontal bar)\n",
    "\n",
    "# TODO: Add titles and customize appearance\n",
    "# TODO: Save the plot as 'output/q3_data_overview.png'\n",
    "\n",
    "plt.tight_layout()\n",
    "plt.savefig('output/q3_data_overview.png', dpi=300, bbox_inches='tight')\n",
    "plt.show()"
   ]
  },
  {
   "cell_type": "markdown",
   "id": "cffcdc7c",
   "metadata": {},
   "source": [
    "## Question 4: Modern Visualization and Best Practices\n",
    "\n",
    "### Part 4.1: Good vs Bad Visualization\n",
    "\n",
    "**TODO: Create examples of good and bad visualization practices**"
   ]
  },
  {
   "cell_type": "code",
   "execution_count": null,
   "id": "e3c98a69",
   "metadata": {},
   "outputs": [],
   "source": [
    "# TODO: Create a figure with 2x2 subplots\n",
    "fig, axes = plt.subplots(2, 2, figsize=(15, 12))\n",
    "\n",
    "# TODO: Top-left: BAD - 3D pie chart (avoid 3D for data)\n",
    "# TODO: Top-right: GOOD - Simple bar chart\n",
    "# TODO: Bottom-left: BAD - Misleading y-axis scale\n",
    "# TODO: Bottom-right: GOOD - Proper scale and clear labels\n",
    "\n",
    "# TODO: Add titles indicating \"BAD\" and \"GOOD\" examples\n",
    "# TODO: Save the plot as 'output/q4_best_practices.png'\n",
    "\n",
    "plt.tight_layout()\n",
    "plt.savefig('output/q4_best_practices.png', dpi=300, bbox_inches='tight')\n",
    "plt.show()"
   ]
  },
  {
   "cell_type": "markdown",
   "id": "969331c1",
   "metadata": {},
   "source": [
    "### Part 4.2: Final Comprehensive Report\n",
    "\n",
    "**TODO: Create a publication-quality final visualization**"
   ]
  },
  {
   "cell_type": "code",
   "execution_count": null,
   "id": "4c1734d8",
   "metadata": {},
   "outputs": [],
   "source": [
    "# TODO: Create a comprehensive dashboard\n",
    "fig = plt.figure(figsize=(20, 16))\n",
    "\n",
    "# TODO: Create a complex subplot layout\n",
    "# TODO: Include multiple visualization types\n",
    "# TODO: Apply professional styling\n",
    "# TODO: Add comprehensive titles and annotations\n",
    "# TODO: Use consistent color scheme\n",
    "# TODO: Save the plot as 'output/q4_final_report.png'\n",
    "\n",
    "plt.tight_layout()\n",
    "plt.savefig('output/q4_final_report.png', dpi=300, bbox_inches='tight')\n",
    "plt.show()"
   ]
  },
  {
   "cell_type": "markdown",
   "id": "0e32dc77",
   "metadata": {},
   "source": [
    "## Submission Checklist\n",
    "\n",
    "Before submitting, verify you've created:\n",
    "\n",
    "- [ ] `output/q1_matplotlib_plots.png` - matplotlib fundamentals\n",
    "- [ ] `output/q1_multi_panel.png` - multi-panel visualization  \n",
    "- [ ] `output/q2_seaborn_plots.png` - seaborn statistical plots\n",
    "- [ ] `output/q2_correlation_heatmap.png` - correlation analysis\n",
    "- [ ] `output/q3_pandas_plots.png` - pandas plotting\n",
    "- [ ] `output/q3_data_overview.png` - data exploration\n",
    "- [ ] `output/q4_best_practices.png` - visualization best practices\n",
    "- [ ] `output/q4_final_report.png` - comprehensive report\n",
    "\n",
    "## Key Learning Objectives\n",
    "\n",
    "- Master matplotlib fundamentals for custom plots\n",
    "- Create statistical visualizations with seaborn\n",
    "- Use pandas plotting for quick exploration\n",
    "- Apply visualization best practices\n",
    "- Choose appropriate chart types for different data\n",
    "- Create publication-quality visualizations"
   ]
  }
 ],
 "metadata": {
  "kernelspec": {
   "display_name": "Python 3",
   "language": "python",
   "name": "python3"
  }
 },
 "nbformat": 4,
 "nbformat_minor": 5
}
