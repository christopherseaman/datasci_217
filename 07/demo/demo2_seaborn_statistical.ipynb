{
 "cells": [
  {
   "cell_type": "markdown",
   "id": "14d7fe1e",
   "metadata": {},
   "source": [
    "# Demo 2: seaborn Statistical Visualization\n",
    "\n",
    "## Learning Objectives\n",
    "- Create statistical plots with seaborn\n",
    "- Visualize relationships between variables\n",
    "- Analyze distributions and patterns\n",
    "- Apply seaborn styling and themes\n",
    "\n",
    "## Setup"
   ]
  },
  {
   "cell_type": "code",
   "execution_count": null,
   "id": "294115c5",
   "metadata": {},
   "outputs": [],
   "source": [
    "import seaborn as sns\n",
    "import matplotlib.pyplot as plt\n",
    "import pandas as pd\n",
    "import numpy as np\n",
    "\n",
    "# Set inline plotting for Jupyter\n",
    "%matplotlib inline\n",
    "\n",
    "# Set seaborn style\n",
    "sns.set_style('whitegrid')"
   ]
  },
  {
   "cell_type": "markdown",
   "id": "ed0d0d30",
   "metadata": {},
   "source": [
    "## Part 1: Statistical Plot Types\n",
    "\n",
    "### Box Plots and Violin Plots"
   ]
  },
  {
   "cell_type": "code",
   "execution_count": null,
   "id": "a9ca2a33",
   "metadata": {},
   "outputs": [],
   "source": [
    "# Load sample data\n",
    "tips = sns.load_dataset('tips')\n",
    "\n",
    "# Create subplots\n",
    "fig, axes = plt.subplots(1, 2, figsize=(15, 6))\n",
    "\n",
    "# Box plot\n",
    "sns.boxplot(data=tips, x='day', y='tip', ax=axes[0])\n",
    "axes[0].set_title('Tip Distribution by Day')\n",
    "\n",
    "# Violin plot\n",
    "sns.violinplot(data=tips, x='day', y='tip', ax=axes[1])\n",
    "axes[1].set_title('Tip Distribution Shape by Day')\n",
    "\n",
    "plt.tight_layout()\n",
    "plt.show()"
   ]
  },
  {
   "cell_type": "markdown",
   "id": "01daf4b8",
   "metadata": {},
   "source": [
    "### Distribution Plots"
   ]
  },
  {
   "cell_type": "code",
   "execution_count": null,
   "id": "6b0f2bb0",
   "metadata": {},
   "outputs": [],
   "source": [
    "# Create sample data\n",
    "np.random.seed(42)\n",
    "data = np.random.normal(0, 1, 1000)\n",
    "\n",
    "# Create subplots\n",
    "fig, axes = plt.subplots(2, 2, figsize=(15, 12))\n",
    "\n",
    "# Histogram\n",
    "sns.histplot(data=data, ax=axes[0, 0], bins=30)\n",
    "axes[0, 0].set_title('Histogram')\n",
    "\n",
    "# Density plot\n",
    "sns.kdeplot(data=data, ax=axes[0, 1])\n",
    "axes[0, 1].set_title('Density Plot')\n",
    "\n",
    "# Combined histogram and density\n",
    "sns.histplot(data=data, kde=True, ax=axes[1, 0])\n",
    "axes[1, 0].set_title('Histogram + Density')\n",
    "\n",
    "# Multiple distributions\n",
    "data1 = np.random.normal(0, 1, 500)\n",
    "data2 = np.random.normal(2, 1, 500)\n",
    "sns.kdeplot(data=data1, label='Distribution 1', ax=axes[1, 1])\n",
    "sns.kdeplot(data=data2, label='Distribution 2', ax=axes[1, 1])\n",
    "axes[1, 1].set_title('Multiple Distributions')\n",
    "axes[1, 1].legend()\n",
    "\n",
    "plt.tight_layout()\n",
    "plt.show()"
   ]
  },
  {
   "cell_type": "markdown",
   "id": "51321d5e",
   "metadata": {},
   "source": [
    "## Part 2: Relationship Visualization\n",
    "\n",
    "### Scatter Plots and Regression"
   ]
  },
  {
   "cell_type": "code",
   "execution_count": null,
   "id": "d62ab05f",
   "metadata": {},
   "outputs": [],
   "source": [
    "# Create scatter plot with regression line\n",
    "fig, axes = plt.subplots(1, 2, figsize=(15, 6))\n",
    "\n",
    "# Basic scatter plot\n",
    "sns.scatterplot(data=tips, x='total_bill', y='tip', ax=axes[0])\n",
    "axes[0].set_title('Total Bill vs Tip')\n",
    "\n",
    "# Scatter plot with regression line\n",
    "sns.regplot(data=tips, x='total_bill', y='tip', ax=axes[1])\n",
    "axes[1].set_title('Total Bill vs Tip with Regression')\n",
    "\n",
    "plt.tight_layout()\n",
    "plt.show()"
   ]
  },
  {
   "cell_type": "markdown",
   "id": "16a1c30d",
   "metadata": {},
   "source": [
    "### Categorical Relationships"
   ]
  },
  {
   "cell_type": "code",
   "execution_count": null,
   "id": "3f0565a7",
   "metadata": {},
   "outputs": [],
   "source": [
    "# Create categorical plots\n",
    "fig, axes = plt.subplots(2, 2, figsize=(15, 12))\n",
    "\n",
    "# Strip plot\n",
    "sns.stripplot(data=tips, x='day', y='tip', ax=axes[0, 0])\n",
    "axes[0, 0].set_title('Strip Plot')\n",
    "\n",
    "# Swarm plot\n",
    "sns.swarmplot(data=tips, x='day', y='tip', ax=axes[0, 1])\n",
    "axes[0, 1].set_title('Swarm Plot')\n",
    "\n",
    "# Bar plot\n",
    "sns.barplot(data=tips, x='day', y='tip', ax=axes[1, 0])\n",
    "axes[1, 0].set_title('Bar Plot')\n",
    "\n",
    "# Point plot\n",
    "sns.pointplot(data=tips, x='day', y='tip', ax=axes[1, 1])\n",
    "axes[1, 1].set_title('Point Plot')\n",
    "\n",
    "plt.tight_layout()\n",
    "plt.show()"
   ]
  },
  {
   "cell_type": "markdown",
   "id": "f854909c",
   "metadata": {},
   "source": [
    "## Part 3: Advanced Statistical Plots\n",
    "\n",
    "### Pair Plots"
   ]
  },
  {
   "cell_type": "code",
   "execution_count": null,
   "id": "50888be6",
   "metadata": {},
   "outputs": [],
   "source": [
    "# Create pair plot\n",
    "iris = sns.load_dataset('iris')\n",
    "sns.pairplot(iris, hue='species')\n",
    "plt.suptitle('Iris Dataset Pair Plot', y=1.02)\n",
    "plt.show()"
   ]
  },
  {
   "cell_type": "markdown",
   "id": "cd474099",
   "metadata": {},
   "source": [
    "### Joint Plots"
   ]
  },
  {
   "cell_type": "code",
   "execution_count": null,
   "id": "ee4b3618",
   "metadata": {},
   "outputs": [],
   "source": [
    "# Create joint plot\n",
    "sns.jointplot(data=tips, x='total_bill', y='tip', kind='hex')\n",
    "plt.suptitle('Total Bill vs Tip Joint Plot', y=1.02)\n",
    "plt.show()"
   ]
  },
  {
   "cell_type": "markdown",
   "id": "890293fd",
   "metadata": {},
   "source": [
    "### Heatmaps"
   ]
  },
  {
   "cell_type": "code",
   "execution_count": null,
   "id": "9e433b98",
   "metadata": {},
   "outputs": [],
   "source": [
    "# Create correlation heatmap\n",
    "# Select only numeric columns for correlation\n",
    "numeric_tips = tips.select_dtypes(include=[np.number])\n",
    "correlation_matrix = numeric_tips.corr()\n",
    "sns.heatmap(correlation_matrix, annot=True, cmap='coolwarm', center=0)\n",
    "plt.title('Correlation Heatmap')\n",
    "plt.show()"
   ]
  },
  {
   "cell_type": "markdown",
   "id": "e0ac42dc",
   "metadata": {},
   "source": [
    "## Part 4: Multi-dimensional Analysis\n",
    "\n",
    "### Faceted Plots"
   ]
  },
  {
   "cell_type": "code",
   "execution_count": null,
   "id": "b41b4657",
   "metadata": {},
   "outputs": [],
   "source": [
    "# Create faceted plots\n",
    "g = sns.FacetGrid(tips, col='day', hue='time', col_wrap=2)\n",
    "g.map(plt.scatter, 'total_bill', 'tip', alpha=0.6)\n",
    "g.add_legend()\n",
    "plt.suptitle('Total Bill vs Tip by Day and Time', y=1.02)\n",
    "plt.show()"
   ]
  },
  {
   "cell_type": "markdown",
   "id": "169fa8ab",
   "metadata": {},
   "source": [
    "### Complex Relationships"
   ]
  },
  {
   "cell_type": "code",
   "execution_count": null,
   "id": "ff05e50e",
   "metadata": {},
   "outputs": [],
   "source": [
    "# Create complex relationship plot\n",
    "fig, ax = plt.subplots(figsize=(12, 8))\n",
    "\n",
    "# Scatter plot with multiple dimensions\n",
    "scatter = sns.scatterplot(data=tips, x='total_bill', y='tip', \n",
    "                         hue='day', size='size', sizes=(50, 200), ax=ax)\n",
    "ax.set_title('Multi-dimensional Relationship Plot')\n",
    "plt.legend(bbox_to_anchor=(1.05, 1), loc='upper left')\n",
    "\n",
    "plt.tight_layout()\n",
    "plt.show()"
   ]
  },
  {
   "cell_type": "markdown",
   "id": "36b20874",
   "metadata": {},
   "source": [
    "## Part 5: Styling and Themes\n",
    "\n",
    "### Different Styles"
   ]
  },
  {
   "cell_type": "code",
   "execution_count": null,
   "id": "81a4355a",
   "metadata": {},
   "outputs": [],
   "source": [
    "# Try different styles\n",
    "styles = ['whitegrid', 'darkgrid', 'white', 'dark', 'ticks']\n",
    "\n",
    "fig, axes = plt.subplots(2, 3, figsize=(18, 12))\n",
    "axes = axes.flatten()\n",
    "\n",
    "for i, style in enumerate(styles):\n",
    "    sns.set_style(style)\n",
    "    sns.scatterplot(data=tips, x='total_bill', y='tip', ax=axes[i])\n",
    "    axes[i].set_title(f'Style: {style}')\n",
    "\n",
    "# Remove extra subplot\n",
    "fig.delaxes(axes[5])\n",
    "\n",
    "plt.tight_layout()\n",
    "plt.show()"
   ]
  },
  {
   "cell_type": "markdown",
   "id": "3217eadd",
   "metadata": {},
   "source": [
    "### Color Palettes"
   ]
  },
  {
   "cell_type": "code",
   "execution_count": null,
   "id": "9fced705",
   "metadata": {},
   "outputs": [],
   "source": [
    "# Try different color palettes\n",
    "palettes = ['viridis', 'plasma', 'coolwarm', 'Set1', 'husl']\n",
    "\n",
    "fig, axes = plt.subplots(2, 3, figsize=(18, 12))\n",
    "axes = axes.flatten()\n",
    "\n",
    "for i, palette in enumerate(palettes):\n",
    "    sns.scatterplot(data=tips, x='total_bill', y='tip', \n",
    "                   hue='day', palette=palette, ax=axes[i])\n",
    "    axes[i].set_title(f'Palette: {palette}')\n",
    "\n",
    "# Remove extra subplot\n",
    "fig.delaxes(axes[5])\n",
    "\n",
    "plt.tight_layout()\n",
    "plt.show()"
   ]
  },
  {
   "cell_type": "markdown",
   "id": "791107d5",
   "metadata": {},
   "source": [
    "## Key Takeaways\n",
    "\n",
    "1. **Statistical Plots**: Use seaborn for box plots, violin plots, and distribution analysis\n",
    "2. **Relationships**: Visualize correlations and patterns between variables\n",
    "3. **Multi-dimensional**: Show multiple variables simultaneously with color, size, and facets\n",
    "4. **Styling**: Apply consistent themes and color palettes for professional appearance\n",
    "5. **Best Practices**: Choose appropriate plot types for your data and analysis goals\n",
    "\n",
    "## Next Steps\n",
    "\n",
    "- Practice with your own datasets\n",
    "- Experiment with different statistical plot types\n",
    "- Learn about pandas plotting for quick exploration\n",
    "- Explore modern visualization tools like altair"
   ]
  }
 ],
 "metadata": {
  "jupytext": {
   "cell_metadata_filter": "-all",
   "main_language": "python",
   "notebook_metadata_filter": "-all"
  }
 },
 "nbformat": 4,
 "nbformat_minor": 5
}
