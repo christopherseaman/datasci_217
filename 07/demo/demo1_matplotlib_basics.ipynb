{
 "cells": [
  {
   "cell_type": "markdown",
   "id": "578b8bd6",
   "metadata": {},
   "source": [
    "# Demo 1: matplotlib Fundamentals\n",
    "\n",
    "## Learning Objectives\n",
    "- Create figures and subplots\n",
    "- Customize plot appearance\n",
    "- Use different plot types effectively\n",
    "- Apply colors, markers, and line styles\n",
    "\n",
    "## Setup"
   ]
  },
  {
   "cell_type": "code",
   "execution_count": null,
   "id": "7ad8bc9f",
   "metadata": {},
   "outputs": [],
   "source": [
    "import matplotlib.pyplot as plt\n",
    "import numpy as np\n",
    "import pandas as pd\n",
    "\n",
    "# Set inline plotting for Jupyter\n",
    "%matplotlib inline"
   ]
  },
  {
   "cell_type": "markdown",
   "id": "49ab34d8",
   "metadata": {},
   "source": [
    "## Part 1: Figures and Subplots\n",
    "\n",
    "### Create a Basic Figure"
   ]
  },
  {
   "cell_type": "code",
   "execution_count": null,
   "id": "f0013e76",
   "metadata": {},
   "outputs": [],
   "source": [
    "# Create a simple line plot\n",
    "x = np.linspace(0, 10, 100)\n",
    "y = np.sin(x)\n",
    "\n",
    "plt.figure(figsize=(8, 6))\n",
    "plt.plot(x, y)\n",
    "plt.title('Sine Wave')\n",
    "plt.xlabel('X values')\n",
    "plt.ylabel('Y values')\n",
    "plt.grid(True)\n",
    "plt.show()"
   ]
  },
  {
   "cell_type": "markdown",
   "id": "7a9757ab",
   "metadata": {},
   "source": [
    "### Create Multiple Subplots"
   ]
  },
  {
   "cell_type": "code",
   "execution_count": null,
   "id": "5340ad60",
   "metadata": {},
   "outputs": [],
   "source": [
    "# Create a 2x2 subplot grid\n",
    "fig, axes = plt.subplots(2, 2, figsize=(12, 10))\n",
    "\n",
    "# Plot on each subplot\n",
    "x = np.linspace(0, 10, 100)\n",
    "\n",
    "# Top-left: Line plot\n",
    "axes[0, 0].plot(x, np.sin(x))\n",
    "axes[0, 0].set_title('Sine Wave')\n",
    "axes[0, 0].grid(True)\n",
    "\n",
    "# Top-right: Cosine\n",
    "axes[0, 1].plot(x, np.cos(x), color='red')\n",
    "axes[0, 1].set_title('Cosine Wave')\n",
    "axes[0, 1].grid(True)\n",
    "\n",
    "# Bottom-left: Scatter plot\n",
    "x_scatter = np.random.randn(100)\n",
    "y_scatter = 2 * x_scatter + np.random.randn(100)\n",
    "axes[1, 0].scatter(x_scatter, y_scatter, alpha=0.6)\n",
    "axes[1, 0].set_title('Scatter Plot')\n",
    "axes[1, 0].grid(True)\n",
    "\n",
    "# Bottom-right: Histogram\n",
    "data = np.random.normal(0, 1, 1000)\n",
    "axes[1, 1].hist(data, bins=30, alpha=0.7)\n",
    "axes[1, 1].set_title('Histogram')\n",
    "axes[1, 1].grid(True)\n",
    "\n",
    "plt.tight_layout()\n",
    "plt.show()"
   ]
  },
  {
   "cell_type": "markdown",
   "id": "4aad5d45",
   "metadata": {},
   "source": [
    "## Part 2: Plot Customization\n",
    "\n",
    "### Colors, Markers, and Line Styles"
   ]
  },
  {
   "cell_type": "code",
   "execution_count": null,
   "id": "d97001bc",
   "metadata": {},
   "outputs": [],
   "source": [
    "# Create sample data\n",
    "x = np.linspace(0, 10, 20)\n",
    "y1 = x\n",
    "y2 = x**0.5\n",
    "y3 = np.log(x + 1)\n",
    "y4 = np.sin(x)\n",
    "\n",
    "# Create figure with multiple lines\n",
    "fig, ax = plt.subplots(figsize=(10, 6))\n",
    "\n",
    "# Different line styles and markers\n",
    "ax.plot(x, y1, 'o-', label='Linear', color='blue', markersize=8)\n",
    "ax.plot(x, y2, 's--', label='Square Root', color='red', markersize=6)\n",
    "ax.plot(x, y3, '^-.', label='Logarithm', color='green', markersize=8)\n",
    "ax.plot(x, y4, '*:', label='Sine', color='purple', markersize=10)\n",
    "\n",
    "# Customize appearance\n",
    "ax.set_title('Different Line Styles and Markers')\n",
    "ax.set_xlabel('X values')\n",
    "ax.set_ylabel('Y values')\n",
    "ax.legend()\n",
    "ax.grid(True, alpha=0.3)\n",
    "\n",
    "plt.tight_layout()\n",
    "plt.show()"
   ]
  },
  {
   "cell_type": "markdown",
   "id": "73261783",
   "metadata": {},
   "source": [
    "### Advanced Customization"
   ]
  },
  {
   "cell_type": "code",
   "execution_count": null,
   "id": "090090de",
   "metadata": {},
   "outputs": [],
   "source": [
    "# Create a more sophisticated plot\n",
    "fig, ax = plt.subplots(figsize=(12, 8))\n",
    "\n",
    "# Generate sample data\n",
    "np.random.seed(42)\n",
    "x = np.linspace(0, 10, 100)\n",
    "y1 = np.sin(x) + 0.1 * np.random.randn(100)\n",
    "y2 = np.cos(x) + 0.1 * np.random.randn(100)\n",
    "\n",
    "# Plot with customization\n",
    "ax.plot(x, y1, label='Sine + Noise', color='#1f77b4', linewidth=2, alpha=0.8)\n",
    "ax.plot(x, y2, label='Cosine + Noise', color='#ff7f0e', linewidth=2, alpha=0.8)\n",
    "\n",
    "# Add trend lines\n",
    "z1 = np.polyfit(x, y1, 1)\n",
    "p1 = np.poly1d(z1)\n",
    "ax.plot(x, p1(x), '--', color='#1f77b4', alpha=0.5, label='Sine Trend')\n",
    "\n",
    "z2 = np.polyfit(x, y2, 1)\n",
    "p2 = np.poly1d(z2)\n",
    "ax.plot(x, p2(x), '--', color='#ff7f0e', alpha=0.5, label='Cosine Trend')\n",
    "\n",
    "# Customize appearance\n",
    "ax.set_title('Trigonometric Functions with Trend Lines', fontsize=16, fontweight='bold')\n",
    "ax.set_xlabel('X values', fontsize=12)\n",
    "ax.set_ylabel('Y values', fontsize=12)\n",
    "ax.legend(fontsize=10)\n",
    "ax.grid(True, alpha=0.3)\n",
    "ax.set_facecolor('#f8f9fa')\n",
    "\n",
    "# Add annotations\n",
    "ax.annotate('Peak', xy=(np.pi/2, 1), xytext=(np.pi/2 + 1, 1.5),\n",
    "            arrowprops=dict(arrowstyle='->', color='red'),\n",
    "            fontsize=12, color='red')\n",
    "\n",
    "plt.tight_layout()\n",
    "plt.show()"
   ]
  },
  {
   "cell_type": "markdown",
   "id": "092f247a",
   "metadata": {},
   "source": [
    "## Part 3: Different Plot Types\n",
    "\n",
    "### Bar Charts and Histograms"
   ]
  },
  {
   "cell_type": "code",
   "execution_count": null,
   "id": "f15b01ac",
   "metadata": {},
   "outputs": [],
   "source": [
    "# Create sample data\n",
    "categories = ['A', 'B', 'C', 'D', 'E']\n",
    "values = [23, 45, 56, 12, 78]\n",
    "\n",
    "# Create subplots\n",
    "fig, axes = plt.subplots(1, 2, figsize=(15, 6))\n",
    "\n",
    "# Bar chart\n",
    "axes[0].bar(categories, values, color=['#1f77b4', '#ff7f0e', '#2ca02c', '#d62728', '#9467bd'])\n",
    "axes[0].set_title('Bar Chart')\n",
    "axes[0].set_xlabel('Categories')\n",
    "axes[0].set_ylabel('Values')\n",
    "axes[0].grid(True, alpha=0.3)\n",
    "\n",
    "# Add value labels on bars\n",
    "for i, v in enumerate(values):\n",
    "    axes[0].text(i, v + 1, str(v), ha='center', va='bottom', fontweight='bold')\n",
    "\n",
    "# Histogram\n",
    "data = np.random.normal(0, 1, 1000)\n",
    "axes[1].hist(data, bins=30, alpha=0.7, color='skyblue', edgecolor='black')\n",
    "axes[1].set_title('Histogram')\n",
    "axes[1].set_xlabel('Values')\n",
    "axes[1].set_ylabel('Frequency')\n",
    "axes[1].grid(True, alpha=0.3)\n",
    "\n",
    "plt.tight_layout()\n",
    "plt.show()"
   ]
  },
  {
   "cell_type": "markdown",
   "id": "01174ae6",
   "metadata": {},
   "source": [
    "### Scatter Plots and Box Plots"
   ]
  },
  {
   "cell_type": "code",
   "execution_count": null,
   "id": "5261cfbe",
   "metadata": {},
   "outputs": [],
   "source": [
    "# Create sample data\n",
    "np.random.seed(42)\n",
    "n = 100\n",
    "x = np.random.randn(n)\n",
    "y = 2 * x + np.random.randn(n)\n",
    "categories = np.random.choice(['Group A', 'Group B', 'Group C'], n)\n",
    "data_by_group = [np.random.normal(i, 1, 50) for i in range(3)]\n",
    "\n",
    "# Create subplots\n",
    "fig, axes = plt.subplots(1, 2, figsize=(15, 6))\n",
    "\n",
    "# Scatter plot\n",
    "scatter = axes[0].scatter(x, y, c=range(n), cmap='viridis', alpha=0.6)\n",
    "axes[0].set_title('Scatter Plot with Color Mapping')\n",
    "axes[0].set_xlabel('X values')\n",
    "axes[0].set_ylabel('Y values')\n",
    "axes[0].grid(True, alpha=0.3)\n",
    "plt.colorbar(scatter, ax=axes[0])\n",
    "\n",
    "# Box plot\n",
    "box_plot = axes[1].boxplot(data_by_group, labels=['Group 1', 'Group 2', 'Group 3'])\n",
    "axes[1].set_title('Box Plot')\n",
    "axes[1].set_xlabel('Groups')\n",
    "axes[1].set_ylabel('Values')\n",
    "axes[1].grid(True, alpha=0.3)\n",
    "\n",
    "plt.tight_layout()\n",
    "plt.show()"
   ]
  },
  {
   "cell_type": "markdown",
   "id": "6b56b1f4",
   "metadata": {},
   "source": [
    "## Part 4: Saving and Exporting\n",
    "\n",
    "### Save Figures"
   ]
  },
  {
   "cell_type": "code",
   "execution_count": null,
   "id": "017b1abe",
   "metadata": {},
   "outputs": [],
   "source": [
    "# Create a publication-quality figure\n",
    "fig, ax = plt.subplots(figsize=(10, 6))\n",
    "\n",
    "# Generate data\n",
    "x = np.linspace(0, 10, 100)\n",
    "y = np.sin(x) * np.exp(-x/5)\n",
    "\n",
    "# Create plot\n",
    "ax.plot(x, y, linewidth=2, color='#2E8B57')\n",
    "ax.set_title('Damped Sine Wave', fontsize=16, fontweight='bold')\n",
    "ax.set_xlabel('Time', fontsize=12)\n",
    "ax.set_ylabel('Amplitude', fontsize=12)\n",
    "ax.grid(True, alpha=0.3)\n",
    "\n",
    "# Save in different formats\n",
    "plt.savefig('damped_sine.png', dpi=300, bbox_inches='tight')\n",
    "plt.savefig('damped_sine.pdf', bbox_inches='tight')\n",
    "plt.savefig('damped_sine.svg', bbox_inches='tight')\n",
    "\n",
    "plt.show()\n",
    "print(\"Figures saved as PNG, PDF, and SVG\")"
   ]
  },
  {
   "cell_type": "markdown",
   "id": "e6a578b9",
   "metadata": {},
   "source": [
    "## Key Takeaways\n",
    "\n",
    "1. **Figures and Subplots**: Use `plt.subplots()` to create multiple plots in one figure\n",
    "2. **Customization**: Control colors, markers, line styles, and text elements\n",
    "3. **Plot Types**: Choose the right plot type for your data (line, bar, scatter, histogram, box)\n",
    "4. **Export**: Save figures in high quality for presentations and publications\n",
    "5. **Best Practices**: Use clear labels, appropriate colors, and good contrast\n",
    "\n",
    "## Next Steps\n",
    "\n",
    "- Practice creating different plot types with your own data\n",
    "- Experiment with color palettes and styling\n",
    "- Learn about seaborn for statistical plots\n",
    "- Explore pandas plotting for quick data exploration"
   ]
  }
 ],
 "metadata": {
  "jupytext": {
   "cell_metadata_filter": "-all",
   "main_language": "python",
   "notebook_metadata_filter": "-all"
  }
 },
 "nbformat": 4,
 "nbformat_minor": 5
}
