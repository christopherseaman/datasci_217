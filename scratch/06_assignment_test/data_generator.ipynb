{
 "cells": [
  {
   "cell_type": "markdown",
   "metadata": {},
   "source": [
    "# Assignment 6: Data Generator\n",
    "\n",
    "This notebook generates the datasets needed for Assignment 6.\n",
    "\n",
    "**Run all cells to create:**\n",
    "- `data/customers.csv` (customer information)\n",
    "- `data/orders.csv` (order transactions)\n",
    "- `data/products.csv` (product catalog)\n",
    "- `data/monthly_sales_2023.csv` (wide-format sales by month)\n",
    "- `data/monthly_sales_2024.csv` (wide-format sales by month)"
   ]
  },
  {
   "cell_type": "code",
   "execution_count": null,
   "metadata": {},
   "outputs": [],
   "source": [
    "import pandas as pd\n",
    "import numpy as np\n",
    "from datetime import datetime, timedelta\n",
    "import os\n",
    "\n",
    "# Set random seed for reproducibility\n",
    "np.random.seed(42)"
   ]
  },
  {
   "cell_type": "code",
   "execution_count": null,
   "metadata": {},
   "outputs": [],
   "source": [
    "# Create data directory if it doesn't exist\n",
    "os.makedirs('data', exist_ok=True)\n",
    "print(\"Created data/ directory\")"
   ]
  },
  {
   "cell_type": "markdown",
   "metadata": {},
   "source": [
    "## Generate Customers Dataset"
   ]
  },
  {
   "cell_type": "code",
   "execution_count": null,
   "metadata": {},
   "outputs": [],
   "source": [
    "# Generate 500 customers\n",
    "n_customers = 500\n",
    "\n",
    "first_names = ['John', 'Jane', 'Michael', 'Emily', 'David', 'Sarah', 'Robert', 'Lisa', 'James', 'Mary',\n",
    "               'William', 'Patricia', 'Richard', 'Jennifer', 'Charles', 'Linda', 'Joseph', 'Elizabeth',\n",
    "               'Thomas', 'Barbara', 'Christopher', 'Susan', 'Daniel', 'Jessica', 'Matthew', 'Karen']\n",
    "last_names = ['Smith', 'Johnson', 'Williams', 'Brown', 'Jones', 'Garcia', 'Miller', 'Davis', 'Rodriguez',\n",
    "              'Martinez', 'Hernandez', 'Lopez', 'Gonzalez', 'Wilson', 'Anderson', 'Thomas', 'Taylor',\n",
    "              'Moore', 'Jackson', 'Martin', 'Lee', 'Perez', 'Thompson', 'White', 'Harris', 'Sanchez']\n",
    "\n",
    "cities = ['San Francisco', 'Los Angeles', 'San Diego', 'New York', 'Brooklyn', 'Austin', 'Houston',\n",
    "          'Miami', 'Orlando', 'Seattle', 'Portland']\n",
    "states = ['CA', 'NY', 'TX', 'FL', 'WA']\n",
    "\n",
    "customers = pd.DataFrame({\n",
    "    'customer_id': [f'C{str(i).zfill(4)}' for i in range(1, n_customers + 1)],\n",
    "    'name': [f\"{np.random.choice(first_names)} {np.random.choice(last_names)}\" for _ in range(n_customers)],\n",
    "    'email': [f\"customer{i}@email.com\" for i in range(1, n_customers + 1)],\n",
    "    'city': np.random.choice(cities, n_customers),\n",
    "    'state': np.random.choice(states, n_customers),\n",
    "    'join_date': [(datetime(2022, 1, 1) + timedelta(days=int(x))).strftime('%Y-%m-%d') \n",
    "                  for x in np.random.randint(0, 730, n_customers)]\n",
    "})\n",
    "\n",
    "customers.to_csv('data/customers.csv', index=False)\n",
    "print(f\"Created data/customers.csv with {len(customers)} customers\")\n",
    "customers.head()"
   ]
  },
  {
   "cell_type": "markdown",
   "metadata": {},
   "source": [
    "## Generate Products Dataset"
   ]
  },
  {
   "cell_type": "code",
   "execution_count": null,
   "metadata": {},
   "outputs": [],
   "source": [
    "# Generate 100 products\n",
    "n_products = 100\n",
    "\n",
    "categories = ['Electronics', 'Clothing', 'Home & Garden', 'Books', 'Sports']\n",
    "product_names = {\n",
    "    'Electronics': ['Laptop', 'Smartphone', 'Tablet', 'Headphones', 'Smartwatch', 'Camera', 'Speaker'],\n",
    "    'Clothing': ['T-Shirt', 'Jeans', 'Jacket', 'Dress', 'Shoes', 'Hat', 'Sweater'],\n",
    "    'Home & Garden': ['Lamp', 'Chair', 'Table', 'Plant', 'Rug', 'Pillow', 'Vase'],\n",
    "    'Books': ['Novel', 'Cookbook', 'Biography', 'Textbook', 'Comic', 'Magazine', 'Guide'],\n",
    "    'Sports': ['Basketball', 'Tennis Racket', 'Yoga Mat', 'Dumbbells', 'Bike', 'Helmet', 'Sneakers']\n",
    "}\n",
    "\n",
    "products_list = []\n",
    "product_id = 1\n",
    "for _ in range(n_products):\n",
    "    category = np.random.choice(categories)\n",
    "    name = np.random.choice(product_names[category])\n",
    "    products_list.append({\n",
    "        'product_id': f'P{str(product_id).zfill(4)}',\n",
    "        'product_name': f\"{name} {np.random.choice(['Pro', 'Plus', 'Deluxe', 'Standard', 'Basic'])}\",\n",
    "        'category': category,\n",
    "        'price': round(np.random.uniform(10, 500), 2),\n",
    "        'stock': np.random.randint(0, 200)\n",
    "    })\n",
    "    product_id += 1\n",
    "\n",
    "products = pd.DataFrame(products_list)\n",
    "products.to_csv('data/products.csv', index=False)\n",
    "print(f\"Created data/products.csv with {len(products)} products\")\n",
    "products.head()"
   ]
  },
  {
   "cell_type": "markdown",
   "metadata": {},
   "source": [
    "## Generate Orders Dataset"
   ]
  },
  {
   "cell_type": "code",
   "execution_count": null,
   "metadata": {},
   "outputs": [],
   "source": [
    "# Generate 2000 orders\n",
    "n_orders = 2000\n",
    "\n",
    "# Most orders have valid customer_id and product_id, but some don't (for testing joins)\n",
    "valid_customer_ids = customers['customer_id'].tolist()\n",
    "valid_product_ids = products['product_id'].tolist()\n",
    "\n",
    "# Add some invalid IDs for testing\n",
    "invalid_customer_ids = [f'C{str(i).zfill(4)}' for i in range(n_customers + 1, n_customers + 50)]\n",
    "invalid_product_ids = [f'P{str(i).zfill(4)}' for i in range(n_products + 1, n_products + 50)]\n",
    "\n",
    "all_customer_ids = valid_customer_ids + invalid_customer_ids\n",
    "all_product_ids = valid_product_ids + invalid_product_ids\n",
    "\n",
    "orders_list = []\n",
    "for i in range(1, n_orders + 1):\n",
    "    # 95% valid customer_ids, 5% invalid\n",
    "    if np.random.random() < 0.95:\n",
    "        customer_id = np.random.choice(valid_customer_ids)\n",
    "    else:\n",
    "        customer_id = np.random.choice(invalid_customer_ids)\n",
    "    \n",
    "    # 95% valid product_ids, 5% invalid\n",
    "    if np.random.random() < 0.95:\n",
    "        product_id = np.random.choice(valid_product_ids)\n",
    "    else:\n",
    "        product_id = np.random.choice(invalid_product_ids)\n",
    "    \n",
    "    quantity = np.random.randint(1, 10)\n",
    "    price = products[products['product_id'] == product_id]['price'].values[0] if product_id in valid_product_ids else np.random.uniform(10, 500)\n",
    "    \n",
    "    orders_list.append({\n",
    "        'order_id': f'ORD{str(i).zfill(5)}',\n",
    "        'customer_id': customer_id,\n",
    "        'product_id': product_id,\n",
    "        'quantity': quantity,\n",
    "        'order_date': (datetime(2023, 1, 1) + timedelta(days=int(x))).strftime('%Y-%m-%d') \n",
    "                      for x in [np.random.randint(0, 730)],\n",
    "        'order_total': round(price * quantity, 2)\n",
    "    })\n",
    "\n",
    "# Fix the order_date (was a generator)\n",
    "for order in orders_list:\n",
    "    order['order_date'] = (datetime(2023, 1, 1) + timedelta(days=np.random.randint(0, 730))).strftime('%Y-%m-%d')\n",
    "\n",
    "orders = pd.DataFrame(orders_list)\n",
    "orders.to_csv('data/orders.csv', index=False)\n",
    "print(f\"Created data/orders.csv with {len(orders)} orders\")\n",
    "orders.head()"
   ]
  },
  {
   "cell_type": "markdown",
   "metadata": {},
   "source": [
    "## Generate Monthly Sales Data (Wide Format)"
   ]
  },
  {
   "cell_type": "code",
   "execution_count": null,
   "metadata": {},
   "outputs": [],
   "source": [
    "# Generate monthly sales for 2023\n",
    "months = ['Jan', 'Feb', 'Mar', 'Apr', 'May', 'Jun', 'Jul', 'Aug', 'Sep', 'Oct', 'Nov', 'Dec']\n",
    "\n",
    "# Select a subset of products for monthly sales\n",
    "sales_products = products.sample(50, random_state=42)\n",
    "\n",
    "sales_2023 = sales_products[['product_id', 'product_name']].copy()\n",
    "for month in months:\n",
    "    sales_2023[month] = np.random.uniform(1000, 10000, len(sales_products)).round(2)\n",
    "\n",
    "sales_2023.to_csv('data/monthly_sales_2023.csv', index=False)\n",
    "print(f\"Created data/monthly_sales_2023.csv with {len(sales_2023)} products\")\n",
    "sales_2023.head()"
   ]
  },
  {
   "cell_type": "code",
   "execution_count": null,
   "metadata": {},
   "outputs": [],
   "source": [
    "# Generate monthly sales for 2024\n",
    "sales_2024 = sales_products[['product_id', 'product_name']].copy()\n",
    "for month in months:\n",
    "    # 2024 sales are slightly higher (growth)\n",
    "    sales_2024[month] = np.random.uniform(1200, 11000, len(sales_products)).round(2)\n",
    "\n",
    "sales_2024.to_csv('data/monthly_sales_2024.csv', index=False)\n",
    "print(f\"Created data/monthly_sales_2024.csv with {len(sales_2024)} products\")\n",
    "sales_2024.head()"
   ]
  },
  {
   "cell_type": "markdown",
   "metadata": {},
   "source": [
    "## Verification"
   ]
  },
  {
   "cell_type": "code",
   "execution_count": null,
   "metadata": {},
   "outputs": [],
   "source": [
    "# Verify all files were created\n",
    "import os\n",
    "\n",
    "required_files = [\n",
    "    'data/customers.csv',\n",
    "    'data/orders.csv',\n",
    "    'data/products.csv',\n",
    "    'data/monthly_sales_2023.csv',\n",
    "    'data/monthly_sales_2024.csv'\n",
    "]\n",
    "\n",
    "print(\"\\nVerifying generated files:\")\n",
    "for file in required_files:\n",
    "    if os.path.exists(file):\n",
    "        size = os.path.getsize(file)\n",
    "        print(f\"✓ {file} ({size:,} bytes)\")\n",
    "    else:\n",
    "        print(f\"✗ {file} MISSING\")\n",
    "\n",
    "print(\"\\nData generation complete! You can now work on assignment.ipynb\")"
   ]
  }
 ],
 "metadata": {
  "kernelspec": {
   "display_name": "Python 3",
   "language": "python",
   "name": "python3"
  },
  "language_info": {
   "codemirror_mode": {
    "name": "ipython",
    "version": 3
   },
   "file_extension": ".py",
   "mimetype": "text/x-python",
   "name": "python",
   "nbconvert_exporter": "python",
   "pygments_lexer": "ipython3",
   "version": "3.8.0"
  }
 },
 "nbformat": 4,
 "nbformat_minor": 4
}
