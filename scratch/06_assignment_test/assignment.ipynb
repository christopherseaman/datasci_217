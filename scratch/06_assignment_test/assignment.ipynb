{
 "cells": [
  {
   "cell_type": "markdown",
   "metadata": {},
   "source": [
    "# Assignment 6: Data Wrangling - Join, Combine, and Reshape\n",
    "\n",
    "**Student Name:** [Your Name Here]\n",
    "\n",
    "**Instructions:** Complete all three questions below. Save your output files to the `output/` directory.\n",
    "\n",
    "## Setup"
   ]
  },
  {
   "cell_type": "code",
   "execution_count": 1,
   "metadata": {
    "execution": {
     "iopub.execute_input": "2025-10-21T17:18:25.458474Z",
     "iopub.status.busy": "2025-10-21T17:18:25.458241Z",
     "iopub.status.idle": "2025-10-21T17:18:25.700424Z",
     "shell.execute_reply": "2025-10-21T17:18:25.699630Z"
    }
   },
   "outputs": [
    {
     "name": "stdout",
     "output_type": "stream",
     "text": [
      "Setup complete!\n"
     ]
    }
   ],
   "source": [
    "import pandas as pd\n",
    "import numpy as np\n",
    "import os\n",
    "\n",
    "# Create output directory\n",
    "os.makedirs('output', exist_ok=True)\n",
    "print(\"Setup complete!\")"
   ]
  },
  {
   "cell_type": "markdown",
   "metadata": {},
   "source": [
    "## Question 1: Merging DataFrames (40 points)\n",
    "\n",
    "**Objectives:**\n",
    "- Load customer, order, and product datasets\n",
    "- Perform inner, left, and outer joins\n",
    "- Merge on multiple columns\n",
    "- Handle duplicate keys and validate results\n",
    "- Save merged output\n",
    "\n",
    "### Step 1.1: Load the datasets"
   ]
  },
  {
   "cell_type": "code",
   "execution_count": 2,
   "metadata": {
    "execution": {
     "iopub.execute_input": "2025-10-21T17:18:25.732226Z",
     "iopub.status.busy": "2025-10-21T17:18:25.731876Z",
     "iopub.status.idle": "2025-10-21T17:18:25.750122Z",
     "shell.execute_reply": "2025-10-21T17:18:25.749408Z"
    }
   },
   "outputs": [
    {
     "name": "stdout",
     "output_type": "stream",
     "text": [
      "Customers: 500 rows\n",
      "Orders: 2000 rows\n",
      "Products: 100 rows\n",
      "\n",
      "Customers:\n",
      "  customer_id               name                email         city state  \\\n",
      "0       C0001      Robert Martin  customer1@email.com      Houston    FL   \n",
      "1       C0002  Charles Hernandez  customer2@email.com     Portland    TX   \n",
      "2       C0003           Lisa Lee  customer3@email.com  Los Angeles    TX   \n",
      "3       C0004     Robert Sanchez  customer4@email.com      Seattle    FL   \n",
      "4       C0005    Thomas Thompson  customer5@email.com       Austin    TX   \n",
      "\n",
      "    join_date  \n",
      "0  2022-08-25  \n",
      "1  2023-06-14  \n",
      "2  2023-07-06  \n",
      "3  2022-01-21  \n",
      "4  2023-06-04  \n",
      "\n",
      "Orders:\n",
      "   order_id customer_id product_id  quantity  order_date  order_total\n",
      "0  ORD00001       C0512      P0024         9  2023-06-13      3006.63\n",
      "1  ORD00002       C0072      P0047         8  2023-07-29      1473.12\n",
      "2  ORD00003       C0468      P0002         7  2024-01-22       679.77\n",
      "3  ORD00004       C0283      P0040         6  2023-08-08       502.98\n",
      "4  ORD00005       C0008      P0048         5  2023-09-17        62.80\n",
      "\n",
      "Products:\n",
      "  product_id         product_name     category   price  stock\n",
      "0      P0001       Speaker Deluxe  Electronics   93.63    148\n",
      "1      P0002    Headphones Deluxe  Electronics   97.11    143\n",
      "2      P0003       Novel Standard        Books  320.26     39\n",
      "3      P0004  Smartwatch Standard  Electronics  160.06     51\n",
      "4      P0005        Textbook Plus        Books   74.05    115\n"
     ]
    }
   ],
   "source": [
    "# Load the three main datasets\n",
    "customers = pd.read_csv('data/customers.csv')\n",
    "orders = pd.read_csv('data/orders.csv')\n",
    "products = pd.read_csv('data/products.csv')\n",
    "\n",
    "print(f\"Customers: {len(customers)} rows\")\n",
    "print(f\"Orders: {len(orders)} rows\")\n",
    "print(f\"Products: {len(products)} rows\")\n",
    "\n",
    "# Display first few rows\n",
    "print(\"\\nCustomers:\")\n",
    "print(customers.head())\n",
    "print(\"\\nOrders:\")\n",
    "print(orders.head())\n",
    "print(\"\\nProducts:\")\n",
    "print(products.head())"
   ]
  },
  {
   "cell_type": "markdown",
   "metadata": {},
   "source": [
    "### Step 1.2: Inner Join - Orders with Customers\n",
    "\n",
    "Perform an inner join to keep only orders that have matching customer records."
   ]
  },
  {
   "cell_type": "code",
   "execution_count": 3,
   "metadata": {
    "execution": {
     "iopub.execute_input": "2025-10-21T17:18:25.752320Z",
     "iopub.status.busy": "2025-10-21T17:18:25.752102Z",
     "iopub.status.idle": "2025-10-21T17:18:25.761463Z",
     "shell.execute_reply": "2025-10-21T17:18:25.760573Z"
    }
   },
   "outputs": [
    {
     "name": "stdout",
     "output_type": "stream",
     "text": [
      "Inner join result: 1905 rows\n",
      "Original orders: 2000 rows\n",
      "Rows lost: 95\n",
      "\n",
      "Sample of merged data:\n",
      "   order_id customer_id product_id  quantity  order_date  order_total  \\\n",
      "0  ORD00002       C0072      P0047         8  2023-07-29      1473.12   \n",
      "1  ORD00003       C0468      P0002         7  2024-01-22       679.77   \n",
      "2  ORD00004       C0283      P0040         6  2023-08-08       502.98   \n",
      "3  ORD00005       C0008      P0048         5  2023-09-17        62.80   \n",
      "4  ORD00006       C0366      P0032         9  2024-06-07      1731.24   \n",
      "\n",
      "            name                  email       city state   join_date  \n",
      "0  John Williams   customer72@email.com     Austin    NY  2022-01-20  \n",
      "1     Lisa Brown  customer468@email.com    Seattle    WA  2023-04-27  \n",
      "2  William Jones  customer283@email.com    Houston    CA  2022-06-16  \n",
      "3    Emily Davis    customer8@email.com    Orlando    WA  2023-08-22  \n",
      "4  Joseph Harris  customer366@email.com  San Diego    CA  2023-07-02  \n"
     ]
    }
   ],
   "source": [
    "# Inner join: only matching records\n",
    "inner_merged = pd.merge(orders, customers, on='customer_id', how='inner')\n",
    "\n",
    "print(f\"Inner join result: {len(inner_merged)} rows\")\n",
    "print(f\"Original orders: {len(orders)} rows\")\n",
    "print(f\"Rows lost: {len(orders) - len(inner_merged)}\")\n",
    "print(\"\\nSample of merged data:\")\n",
    "print(inner_merged.head())"
   ]
  },
  {
   "cell_type": "markdown",
   "metadata": {},
   "source": [
    "### Step 1.3: Left Join - Keep All Orders\n",
    "\n",
    "Use a left join to keep all orders, even those without customer information."
   ]
  },
  {
   "cell_type": "code",
   "execution_count": 4,
   "metadata": {
    "execution": {
     "iopub.execute_input": "2025-10-21T17:18:25.763498Z",
     "iopub.status.busy": "2025-10-21T17:18:25.763266Z",
     "iopub.status.idle": "2025-10-21T17:18:25.773281Z",
     "shell.execute_reply": "2025-10-21T17:18:25.772468Z"
    }
   },
   "outputs": [
    {
     "name": "stdout",
     "output_type": "stream",
     "text": [
      "Left join result: 2000 rows\n",
      "Original orders: 2000 rows\n",
      "Orders without customer data: 95\n",
      "\n",
      "Orders without customer info:\n",
      "    order_id customer_id product_id  quantity  order_date  order_total name  \\\n",
      "0   ORD00001       C0512      P0024         9  2023-06-13      3006.63  NaN   \n",
      "22  ORD00023       C0514      P0025         8  2023-09-27       465.68  NaN   \n",
      "67  ORD00068       C0504      P0046         6  2023-12-29      1691.94  NaN   \n",
      "71  ORD00072       C0517      P0022         4  2023-03-10        63.72  NaN   \n",
      "90  ORD00091       C0508      P0140         7  2024-08-01        77.95  NaN   \n",
      "\n",
      "   email city state join_date  \n",
      "0    NaN  NaN   NaN       NaN  \n",
      "22   NaN  NaN   NaN       NaN  \n",
      "67   NaN  NaN   NaN       NaN  \n",
      "71   NaN  NaN   NaN       NaN  \n",
      "90   NaN  NaN   NaN       NaN  \n"
     ]
    }
   ],
   "source": [
    "# Left join: all orders, even without customer data\n",
    "left_merged = pd.merge(orders, customers, on='customer_id', how='left')\n",
    "\n",
    "print(f\"Left join result: {len(left_merged)} rows\")\n",
    "print(f\"Original orders: {len(orders)} rows\")\n",
    "print(f\"Orders without customer data: {left_merged['name'].isna().sum()}\")\n",
    "print(\"\\nOrders without customer info:\")\n",
    "print(left_merged[left_merged['name'].isna()].head())"
   ]
  },
  {
   "cell_type": "markdown",
   "metadata": {},
   "source": [
    "### Step 1.4: Outer Join - Orders and Products\n",
    "\n",
    "Perform an outer join to see all orders and all products, even unmatched ones."
   ]
  },
  {
   "cell_type": "code",
   "execution_count": 5,
   "metadata": {
    "execution": {
     "iopub.execute_input": "2025-10-21T17:18:25.775361Z",
     "iopub.status.busy": "2025-10-21T17:18:25.775144Z",
     "iopub.status.idle": "2025-10-21T17:18:25.784233Z",
     "shell.execute_reply": "2025-10-21T17:18:25.783468Z"
    }
   },
   "outputs": [
    {
     "name": "stdout",
     "output_type": "stream",
     "text": [
      "Outer join result: 2000 rows\n",
      "Orders: 2000 rows\n",
      "Products: 100 rows\n",
      "Products never ordered: 0\n",
      "Orders for unknown products: 82\n",
      "\n",
      "Products never ordered:\n",
      "Empty DataFrame\n",
      "Columns: [product_id, product_name, category]\n",
      "Index: []\n"
     ]
    }
   ],
   "source": [
    "# Outer join: everything from both sides\n",
    "outer_merged = pd.merge(orders, products, on='product_id', how='outer')\n",
    "\n",
    "print(f\"Outer join result: {len(outer_merged)} rows\")\n",
    "print(f\"Orders: {len(orders)} rows\")\n",
    "print(f\"Products: {len(products)} rows\")\n",
    "print(f\"Products never ordered: {outer_merged['order_id'].isna().sum()}\")\n",
    "print(f\"Orders for unknown products: {outer_merged['product_name'].isna().sum()}\")\n",
    "print(\"\\nProducts never ordered:\")\n",
    "print(outer_merged[outer_merged['order_id'].isna()][['product_id', 'product_name', 'category']].head())"
   ]
  },
  {
   "cell_type": "markdown",
   "metadata": {},
   "source": [
    "### Step 1.5: Complete Merge - Orders + Customers + Products\n",
    "\n",
    "Create a complete dataset with order, customer, and product information."
   ]
  },
  {
   "cell_type": "code",
   "execution_count": 6,
   "metadata": {
    "execution": {
     "iopub.execute_input": "2025-10-21T17:18:25.786383Z",
     "iopub.status.busy": "2025-10-21T17:18:25.786134Z",
     "iopub.status.idle": "2025-10-21T17:18:25.799108Z",
     "shell.execute_reply": "2025-10-21T17:18:25.798291Z"
    }
   },
   "outputs": [
    {
     "name": "stdout",
     "output_type": "stream",
     "text": [
      "Complete merged data: 2000 rows\n",
      "Columns: 15\n",
      "\n",
      "Column names:\n",
      "['order_id', 'customer_id', 'product_id', 'quantity', 'order_date', 'order_total', 'name', 'email', 'city', 'state', 'join_date', 'product_name', 'category', 'price', 'stock']\n",
      "\n",
      "Sample:\n",
      "   order_id           name         product_name       category  quantity  \\\n",
      "0  ORD00001            NaN         Guide Deluxe          Books         9   \n",
      "1  ORD00002  John Williams           Table Plus  Home & Garden         8   \n",
      "2  ORD00003     Lisa Brown    Headphones Deluxe    Electronics         7   \n",
      "3  ORD00004  William Jones         Chair Deluxe  Home & Garden         6   \n",
      "4  ORD00005    Emily Davis  Headphones Standard    Electronics         5   \n",
      "\n",
      "   order_total  \n",
      "0      3006.63  \n",
      "1      1473.12  \n",
      "2       679.77  \n",
      "3       502.98  \n",
      "4        62.80  \n"
     ]
    }
   ],
   "source": [
    "# First merge orders with customers\n",
    "orders_customers = pd.merge(orders, customers, on='customer_id', how='left')\n",
    "\n",
    "# Then merge with products\n",
    "complete_data = pd.merge(orders_customers, products, on='product_id', how='left')\n",
    "\n",
    "print(f\"Complete merged data: {len(complete_data)} rows\")\n",
    "print(f\"Columns: {len(complete_data.columns)}\")\n",
    "print(\"\\nColumn names:\")\n",
    "print(complete_data.columns.tolist())\n",
    "print(\"\\nSample:\")\n",
    "print(complete_data[['order_id', 'name', 'product_name', 'category', 'quantity', 'order_total']].head())"
   ]
  },
  {
   "cell_type": "markdown",
   "metadata": {},
   "source": [
    "### Step 1.6: Save Q1 Output"
   ]
  },
  {
   "cell_type": "code",
   "execution_count": 7,
   "metadata": {
    "execution": {
     "iopub.execute_input": "2025-10-21T17:18:25.800946Z",
     "iopub.status.busy": "2025-10-21T17:18:25.800757Z",
     "iopub.status.idle": "2025-10-21T17:18:25.822151Z",
     "shell.execute_reply": "2025-10-21T17:18:25.821308Z"
    }
   },
   "outputs": [
    {
     "name": "stdout",
     "output_type": "stream",
     "text": [
      "✓ Saved output/q1_merged_data.csv\n",
      "✓ Saved output/q1_validation.txt\n"
     ]
    }
   ],
   "source": [
    "# Save the complete merged dataset\n",
    "complete_data.to_csv('output/q1_merged_data.csv', index=False)\n",
    "print(\"✓ Saved output/q1_merged_data.csv\")\n",
    "\n",
    "# Create validation file\n",
    "with open('output/q1_validation.txt', 'w') as f:\n",
    "    f.write(\"Question 1: Merging DataFrames - Validation Report\\n\")\n",
    "    f.write(\"=\"*60 + \"\\n\\n\")\n",
    "    f.write(f\"Total merged rows: {len(complete_data)}\\n\")\n",
    "    f.write(f\"Total columns: {len(complete_data.columns)}\\n\")\n",
    "    f.write(f\"Orders with customer data: {complete_data['name'].notna().sum()}\\n\")\n",
    "    f.write(f\"Orders with product data: {complete_data['product_name'].notna().sum()}\\n\")\n",
    "    f.write(f\"Complete records (all data): {complete_data[['name', 'product_name']].notna().all(axis=1).sum()}\\n\")\n",
    "\n",
    "print(\"✓ Saved output/q1_validation.txt\")"
   ]
  },
  {
   "cell_type": "markdown",
   "metadata": {},
   "source": [
    "## Question 2: Concatenation & Index Management (30 points)\n",
    "\n",
    "**Objectives:**\n",
    "- Load 2023 and 2024 monthly sales data\n",
    "- Concatenate vertically and horizontally\n",
    "- Manage indexes properly\n",
    "- Handle misaligned data\n",
    "\n",
    "### Step 2.1: Load Monthly Sales Data"
   ]
  },
  {
   "cell_type": "code",
   "execution_count": 8,
   "metadata": {
    "execution": {
     "iopub.execute_input": "2025-10-21T17:18:25.824149Z",
     "iopub.status.busy": "2025-10-21T17:18:25.823962Z",
     "iopub.status.idle": "2025-10-21T17:18:25.834512Z",
     "shell.execute_reply": "2025-10-21T17:18:25.833628Z"
    }
   },
   "outputs": [
    {
     "name": "stdout",
     "output_type": "stream",
     "text": [
      "2023 Sales: 50 products\n",
      "2024 Sales: 50 products\n",
      "\n",
      "2023 columns: ['product_id', 'product_name', 'Jan', 'Feb', 'Mar', 'Apr', 'May', 'Jun', 'Jul', 'Aug', 'Sep', 'Oct', 'Nov', 'Dec']\n",
      "\n",
      "2024 columns: ['product_id', 'product_name', 'Jan', 'Feb', 'Mar', 'Apr', 'May', 'Jun', 'Jul', 'Aug', 'Sep', 'Oct', 'Nov', 'Dec']\n",
      "\n",
      "2023 Sample:\n",
      "  product_id            product_name      Jan      Feb      Mar      Apr  \\\n",
      "0      P0084               Vase Plus  5832.11  8349.18  7808.01  7367.09   \n",
      "1      P0054  Tennis Racket Standard  6049.48  8816.56  4906.59  5315.33   \n",
      "2      P0071     Tennis Racket Basic  4455.45  6754.82  6026.26  6261.48   \n",
      "3      P0046              Jacket Pro  3418.55  5027.58  8348.08  9898.08   \n",
      "4      P0045       Headphones Deluxe  6868.54  6959.56  2997.96  6417.89   \n",
      "\n",
      "       May      Jun      Jul      Aug      Sep      Oct      Nov      Dec  \n",
      "0  7496.78  2234.93  8390.28  2874.94  9391.65  9518.52  6592.06  3178.80  \n",
      "1  8955.03  6302.05  3022.88  2128.43  7363.86  3218.69  5693.40  4931.00  \n",
      "2  6541.99  9083.06  8867.64  2706.36  9060.25  8227.85  8757.50  7664.08  \n",
      "3  2172.96  8137.65  3370.98  1286.10  3128.26  6508.45  5425.41  5018.30  \n",
      "4  2033.16  5918.64  2848.06  7068.08  4108.78  4392.06  2149.68  1616.57  \n"
     ]
    }
   ],
   "source": [
    "# Load sales data\n",
    "sales_2023 = pd.read_csv('data/monthly_sales_2023.csv')\n",
    "sales_2024 = pd.read_csv('data/monthly_sales_2024.csv')\n",
    "\n",
    "print(f\"2023 Sales: {len(sales_2023)} products\")\n",
    "print(f\"2024 Sales: {len(sales_2024)} products\")\n",
    "print(f\"\\n2023 columns: {sales_2023.columns.tolist()}\")\n",
    "print(f\"\\n2024 columns: {sales_2024.columns.tolist()}\")\n",
    "print(\"\\n2023 Sample:\")\n",
    "print(sales_2023.head())"
   ]
  },
  {
   "cell_type": "markdown",
   "metadata": {},
   "source": [
    "### Step 2.2: Vertical Concatenation\n",
    "\n",
    "Stack 2023 and 2024 data vertically (add rows)."
   ]
  },
  {
   "cell_type": "code",
   "execution_count": 9,
   "metadata": {
    "execution": {
     "iopub.execute_input": "2025-10-21T17:18:25.836436Z",
     "iopub.status.busy": "2025-10-21T17:18:25.836223Z",
     "iopub.status.idle": "2025-10-21T17:18:25.846071Z",
     "shell.execute_reply": "2025-10-21T17:18:25.845638Z"
    }
   },
   "outputs": [
    {
     "name": "stdout",
     "output_type": "stream",
     "text": [
      "Combined data: 100 rows\n",
      "Expected: 100 rows\n",
      "\n",
      "Index after concat:\n",
      "RangeIndex(start=0, stop=5, step=1)\n",
      "...\n",
      "RangeIndex(start=95, stop=100, step=1)\n",
      "\n",
      "Sample:\n",
      "  product_id            product_name  year      Jan      Feb\n",
      "0      P0084               Vase Plus  2023  5832.11  8349.18\n",
      "1      P0054  Tennis Racket Standard  2023  6049.48  8816.56\n",
      "2      P0071     Tennis Racket Basic  2023  4455.45  6754.82\n",
      "3      P0046              Jacket Pro  2023  3418.55  5027.58\n",
      "4      P0045       Headphones Deluxe  2023  6868.54  6959.56\n"
     ]
    }
   ],
   "source": [
    "# Add year column before concatenating\n",
    "sales_2023_labeled = sales_2023.copy()\n",
    "sales_2023_labeled['year'] = 2023\n",
    "\n",
    "sales_2024_labeled = sales_2024.copy()\n",
    "sales_2024_labeled['year'] = 2024\n",
    "\n",
    "# Vertical concatenation\n",
    "combined_vertical = pd.concat([sales_2023_labeled, sales_2024_labeled], ignore_index=True)\n",
    "\n",
    "print(f\"Combined data: {len(combined_vertical)} rows\")\n",
    "print(f\"Expected: {len(sales_2023) + len(sales_2024)} rows\")\n",
    "print(\"\\nIndex after concat:\")\n",
    "print(combined_vertical.index[:5])\n",
    "print(\"...\")\n",
    "print(combined_vertical.index[-5:])\n",
    "print(\"\\nSample:\")\n",
    "print(combined_vertical[['product_id', 'product_name', 'year', 'Jan', 'Feb']].head())"
   ]
  },
  {
   "cell_type": "markdown",
   "metadata": {},
   "source": [
    "### Step 2.3: Index Management\n",
    "\n",
    "Practice using `set_index()` and `reset_index()`."
   ]
  },
  {
   "cell_type": "code",
   "execution_count": 10,
   "metadata": {
    "execution": {
     "iopub.execute_input": "2025-10-21T17:18:25.850055Z",
     "iopub.status.busy": "2025-10-21T17:18:25.849874Z",
     "iopub.status.idle": "2025-10-21T17:18:25.862709Z",
     "shell.execute_reply": "2025-10-21T17:18:25.862063Z"
    }
   },
   "outputs": [
    {
     "name": "stdout",
     "output_type": "stream",
     "text": [
      "After set_index:\n",
      "                      product_name      Jan      Feb      Mar      Apr  \\\n",
      "product_id                                                               \n",
      "P0084                    Vase Plus  5832.11  8349.18  7808.01  7367.09   \n",
      "P0054       Tennis Racket Standard  6049.48  8816.56  4906.59  5315.33   \n",
      "P0071          Tennis Racket Basic  4455.45  6754.82  6026.26  6261.48   \n",
      "P0046                   Jacket Pro  3418.55  5027.58  8348.08  9898.08   \n",
      "P0045            Headphones Deluxe  6868.54  6959.56  2997.96  6417.89   \n",
      "\n",
      "                May      Jun      Jul      Aug      Sep      Oct      Nov  \\\n",
      "product_id                                                                  \n",
      "P0084       7496.78  2234.93  8390.28  2874.94  9391.65  9518.52  6592.06   \n",
      "P0054       8955.03  6302.05  3022.88  2128.43  7363.86  3218.69  5693.40   \n",
      "P0071       6541.99  9083.06  8867.64  2706.36  9060.25  8227.85  8757.50   \n",
      "P0046       2172.96  8137.65  3370.98  1286.10  3128.26  6508.45  5425.41   \n",
      "P0045       2033.16  5918.64  2848.06  7068.08  4108.78  4392.06  2149.68   \n",
      "\n",
      "                Dec  year  \n",
      "product_id                 \n",
      "P0084       3178.80  2023  \n",
      "P0054       4931.00  2023  \n",
      "P0071       7664.08  2023  \n",
      "P0046       5018.30  2023  \n",
      "P0045       1616.57  2023  \n",
      "\n",
      "Index name: product_id\n",
      "\n",
      "After reset_index:\n",
      "  product_id            product_name      Jan      Feb      Mar      Apr  \\\n",
      "0      P0084               Vase Plus  5832.11  8349.18  7808.01  7367.09   \n",
      "1      P0054  Tennis Racket Standard  6049.48  8816.56  4906.59  5315.33   \n",
      "2      P0071     Tennis Racket Basic  4455.45  6754.82  6026.26  6261.48   \n",
      "3      P0046              Jacket Pro  3418.55  5027.58  8348.08  9898.08   \n",
      "4      P0045       Headphones Deluxe  6868.54  6959.56  2997.96  6417.89   \n",
      "\n",
      "       May      Jun      Jul      Aug      Sep      Oct      Nov      Dec  \\\n",
      "0  7496.78  2234.93  8390.28  2874.94  9391.65  9518.52  6592.06  3178.80   \n",
      "1  8955.03  6302.05  3022.88  2128.43  7363.86  3218.69  5693.40  4931.00   \n",
      "2  6541.99  9083.06  8867.64  2706.36  9060.25  8227.85  8757.50  7664.08   \n",
      "3  2172.96  8137.65  3370.98  1286.10  3128.26  6508.45  5425.41  5018.30   \n",
      "4  2033.16  5918.64  2848.06  7068.08  4108.78  4392.06  2149.68  1616.57   \n",
      "\n",
      "   year  \n",
      "0  2023  \n",
      "1  2023  \n",
      "2  2023  \n",
      "3  2023  \n",
      "4  2023  \n",
      "\n",
      "Is 'product_id' a column again? True\n"
     ]
    }
   ],
   "source": [
    "# Set product_id as index\n",
    "indexed = combined_vertical.set_index('product_id')\n",
    "print(\"After set_index:\")\n",
    "print(indexed.head())\n",
    "print(f\"\\nIndex name: {indexed.index.name}\")\n",
    "\n",
    "# Reset index back to default\n",
    "reset = indexed.reset_index()\n",
    "print(\"\\nAfter reset_index:\")\n",
    "print(reset.head())\n",
    "print(f\"\\nIs 'product_id' a column again? {('product_id' in reset.columns)}\")"
   ]
  },
  {
   "cell_type": "markdown",
   "metadata": {},
   "source": [
    "### Step 2.4: Horizontal Concatenation (Careful!)\n",
    "\n",
    "Demonstrate horizontal concatenation and potential alignment issues."
   ]
  },
  {
   "cell_type": "code",
   "execution_count": 11,
   "metadata": {
    "execution": {
     "iopub.execute_input": "2025-10-21T17:18:25.868788Z",
     "iopub.status.busy": "2025-10-21T17:18:25.868584Z",
     "iopub.status.idle": "2025-10-21T17:18:25.883553Z",
     "shell.execute_reply": "2025-10-21T17:18:25.883041Z"
    }
   },
   "outputs": [
    {
     "name": "stdout",
     "output_type": "stream",
     "text": [
      "Combined data: 50 rows x 7 columns\n",
      "\n",
      "Columns:\n",
      "['product_name', 'Jan', 'Feb', 'Mar', 'Jan_2024', 'Feb_2024', 'Mar_2024']\n",
      "\n",
      "Sample (comparing 2023 vs 2024):\n",
      "                      product_name      Jan  Jan_2024      Feb  Feb_2024\n",
      "product_id                                                              \n",
      "P0084                    Vase Plus  5832.11   9822.02  8349.18   3669.66\n",
      "P0054       Tennis Racket Standard  6049.48   9600.56  8816.56   4399.43\n",
      "P0071          Tennis Racket Basic  4455.45   4875.53  6754.82   1962.67\n",
      "P0046                   Jacket Pro  3418.55   5727.60  5027.58   6074.34\n",
      "P0045            Headphones Deluxe  6868.54   1321.41  6959.56   2651.49\n"
     ]
    }
   ],
   "source": [
    "# Create subset for horizontal concat demo\n",
    "# Use product_id as index for proper alignment\n",
    "sales_2023_indexed = sales_2023.set_index('product_id')[['product_name', 'Jan', 'Feb', 'Mar']]\n",
    "sales_2024_indexed = sales_2024.set_index('product_id')[['Jan', 'Feb', 'Mar']]\n",
    "\n",
    "# Rename 2024 columns to avoid duplicates\n",
    "sales_2024_indexed.columns = [f'{col}_2024' for col in sales_2024_indexed.columns]\n",
    "\n",
    "# Horizontal concatenation\n",
    "combined_horizontal = pd.concat([sales_2023_indexed, sales_2024_indexed], axis=1)\n",
    "\n",
    "print(f\"Combined data: {combined_horizontal.shape[0]} rows x {combined_horizontal.shape[1]} columns\")\n",
    "print(\"\\nColumns:\")\n",
    "print(combined_horizontal.columns.tolist())\n",
    "print(\"\\nSample (comparing 2023 vs 2024):\")\n",
    "print(combined_horizontal[['product_name', 'Jan', 'Jan_2024', 'Feb', 'Feb_2024']].head())"
   ]
  },
  {
   "cell_type": "markdown",
   "metadata": {},
   "source": [
    "### Step 2.5: Save Q2 Output"
   ]
  },
  {
   "cell_type": "code",
   "execution_count": 12,
   "metadata": {
    "execution": {
     "iopub.execute_input": "2025-10-21T17:18:25.889198Z",
     "iopub.status.busy": "2025-10-21T17:18:25.886806Z",
     "iopub.status.idle": "2025-10-21T17:18:25.896563Z",
     "shell.execute_reply": "2025-10-21T17:18:25.895773Z"
    }
   },
   "outputs": [
    {
     "name": "stdout",
     "output_type": "stream",
     "text": [
      "✓ Saved output/q2_combined_data.csv\n",
      "\n",
      "Verification: 100 rows, 15 columns\n"
     ]
    }
   ],
   "source": [
    "# Save the vertically concatenated data (more useful for analysis)\n",
    "combined_vertical.to_csv('output/q2_combined_data.csv', index=False)\n",
    "print(\"✓ Saved output/q2_combined_data.csv\")\n",
    "\n",
    "# Verify the file\n",
    "verify = pd.read_csv('output/q2_combined_data.csv')\n",
    "print(f\"\\nVerification: {len(verify)} rows, {len(verify.columns)} columns\")"
   ]
  },
  {
   "cell_type": "markdown",
   "metadata": {},
   "source": [
    "## Question 3: Reshaping & Analysis (30 points)\n",
    "\n",
    "**Objectives:**\n",
    "- Transform wide format to long format using `melt()`\n",
    "- Transform long format to wide using `pivot()`\n",
    "- Create pivot tables for aggregation\n",
    "- Combine reshape with merge operations\n",
    "\n",
    "### Step 3.1: Wide to Long Format (melt)"
   ]
  },
  {
   "cell_type": "code",
   "execution_count": 13,
   "metadata": {
    "execution": {
     "iopub.execute_input": "2025-10-21T17:18:25.898390Z",
     "iopub.status.busy": "2025-10-21T17:18:25.898189Z",
     "iopub.status.idle": "2025-10-21T17:18:25.912528Z",
     "shell.execute_reply": "2025-10-21T17:18:25.911791Z"
    }
   },
   "outputs": [
    {
     "name": "stdout",
     "output_type": "stream",
     "text": [
      "Original (wide): 50 rows x 14 columns\n",
      "After melt (long): 600 rows x 4 columns\n",
      "\n",
      "Long format sample:\n",
      "   product_id            product_name month    sales\n",
      "0       P0084               Vase Plus   Jan  5832.11\n",
      "1       P0054  Tennis Racket Standard   Jan  6049.48\n",
      "2       P0071     Tennis Racket Basic   Jan  4455.45\n",
      "3       P0046              Jacket Pro   Jan  3418.55\n",
      "4       P0045       Headphones Deluxe   Jan  6868.54\n",
      "5       P0040            Chair Deluxe   Jan  2211.93\n",
      "6       P0023              Comic Plus   Jan  5667.54\n",
      "7       P0081         Jacket Standard   Jan  7912.67\n",
      "8       P0011              Vase Basic   Jan  2478.68\n",
      "9       P0001          Speaker Deluxe   Jan  7779.34\n",
      "10      P0019             Speaker Pro   Jan  7847.15\n",
      "11      P0031         Cookbook Deluxe   Jan  1539.34\n",
      "12      P0074            Textbook Pro   Jan  1169.06\n",
      "13      P0034          Comic Standard   Jan  9765.42\n",
      "14      P0091       Tennis Racket Pro   Jan  2740.44\n"
     ]
    }
   ],
   "source": [
    "# Melt 2023 sales from wide to long format\n",
    "months = ['Jan', 'Feb', 'Mar', 'Apr', 'May', 'Jun', 'Jul', 'Aug', 'Sep', 'Oct', 'Nov', 'Dec']\n",
    "\n",
    "long_data_2023 = pd.melt(sales_2023,\n",
    "                          id_vars=['product_id', 'product_name'],\n",
    "                          value_vars=months,\n",
    "                          var_name='month',\n",
    "                          value_name='sales')\n",
    "\n",
    "print(f\"Original (wide): {sales_2023.shape[0]} rows x {sales_2023.shape[1]} columns\")\n",
    "print(f\"After melt (long): {long_data_2023.shape[0]} rows x {long_data_2023.shape[1]} columns\")\n",
    "print(\"\\nLong format sample:\")\n",
    "print(long_data_2023.head(15))  # Show first 15 to see multiple months"
   ]
  },
  {
   "cell_type": "markdown",
   "metadata": {},
   "source": [
    "### Step 3.2: Long to Wide Format (pivot)"
   ]
  },
  {
   "cell_type": "code",
   "execution_count": 14,
   "metadata": {
    "execution": {
     "iopub.execute_input": "2025-10-21T17:18:25.915324Z",
     "iopub.status.busy": "2025-10-21T17:18:25.915080Z",
     "iopub.status.idle": "2025-10-21T17:18:25.933410Z",
     "shell.execute_reply": "2025-10-21T17:18:25.932560Z"
    }
   },
   "outputs": [
    {
     "name": "stdout",
     "output_type": "stream",
     "text": [
      "Pivoted data: 50 rows x 12 columns\n",
      "\n",
      "Wide format (recreated):\n",
      "month           Apr      Aug      Dec      Feb      Jan      Jul      Jun  \\\n",
      "product_id                                                                  \n",
      "P0001       5089.69  1614.39  2508.60  8186.45  7779.34  7348.91  7112.78   \n",
      "P0005       8978.01  6957.55  8339.97  1382.31  8399.25  1236.31  1254.92   \n",
      "P0006       5325.59  4059.06  5465.10  1611.33  9032.88  9940.48  9877.02   \n",
      "P0008       4618.08  4881.21  5216.84  9062.69  6247.90  7539.47  1764.73   \n",
      "P0010       6397.34  7709.07  8991.12  4807.33  5127.95  2771.11  1306.86   \n",
      "\n",
      "month           Mar      May      Nov      Oct      Sep  \n",
      "product_id                                               \n",
      "P0001       4871.67  7176.25  2520.75  1676.43  3697.57  \n",
      "P0005       3180.12  3911.77  5199.59  4527.61  6213.41  \n",
      "P0006       1275.12  1885.47  1740.64  8624.95  9617.75  \n",
      "P0008       9121.11  8599.29  1070.26  9778.94  8229.33  \n",
      "P0010       1879.33  9243.02  1352.35  9155.01  1907.94  \n",
      "\n",
      "Columns match months? False\n"
     ]
    }
   ],
   "source": [
    "# Pivot back to wide format\n",
    "wide_again = long_data_2023.pivot(index='product_id',\n",
    "                                   columns='month',\n",
    "                                   values='sales')\n",
    "\n",
    "print(f\"Pivoted data: {wide_again.shape[0]} rows x {wide_again.shape[1]} columns\")\n",
    "print(\"\\nWide format (recreated):\")\n",
    "print(wide_again.head())\n",
    "\n",
    "# Verify it matches original structure\n",
    "print(f\"\\nColumns match months? {list(wide_again.columns) == months}\")"
   ]
  },
  {
   "cell_type": "markdown",
   "metadata": {},
   "source": [
    "### Step 3.3: Merge Product Category with Sales\n",
    "\n",
    "Add product category to analyze sales by category."
   ]
  },
  {
   "cell_type": "code",
   "execution_count": 15,
   "metadata": {
    "execution": {
     "iopub.execute_input": "2025-10-21T17:18:25.935426Z",
     "iopub.status.busy": "2025-10-21T17:18:25.935186Z",
     "iopub.status.idle": "2025-10-21T17:18:25.942991Z",
     "shell.execute_reply": "2025-10-21T17:18:25.942122Z"
    }
   },
   "outputs": [
    {
     "name": "stdout",
     "output_type": "stream",
     "text": [
      "Sales with category: 600 rows\n",
      "\n",
      "Sample:\n",
      "  product_id            product_name month    sales       category\n",
      "0      P0084               Vase Plus   Jan  5832.11  Home & Garden\n",
      "1      P0054  Tennis Racket Standard   Jan  6049.48         Sports\n",
      "2      P0071     Tennis Racket Basic   Jan  4455.45         Sports\n",
      "3      P0046              Jacket Pro   Jan  3418.55       Clothing\n",
      "4      P0045       Headphones Deluxe   Jan  6868.54    Electronics\n"
     ]
    }
   ],
   "source": [
    "# Merge long-format sales with product info to get categories\n",
    "sales_with_category = pd.merge(long_data_2023,\n",
    "                               products[['product_id', 'category']],\n",
    "                               on='product_id',\n",
    "                               how='left')\n",
    "\n",
    "print(f\"Sales with category: {len(sales_with_category)} rows\")\n",
    "print(\"\\nSample:\")\n",
    "print(sales_with_category.head())"
   ]
  },
  {
   "cell_type": "markdown",
   "metadata": {},
   "source": [
    "### Step 3.4: Pivot Table for Aggregation\n",
    "\n",
    "Create a pivot table showing total sales by category and month."
   ]
  },
  {
   "cell_type": "code",
   "execution_count": 16,
   "metadata": {
    "execution": {
     "iopub.execute_input": "2025-10-21T17:18:25.944941Z",
     "iopub.status.busy": "2025-10-21T17:18:25.944740Z",
     "iopub.status.idle": "2025-10-21T17:18:25.962718Z",
     "shell.execute_reply": "2025-10-21T17:18:25.961778Z"
    }
   },
   "outputs": [
    {
     "name": "stdout",
     "output_type": "stream",
     "text": [
      "Sales by Category and Month:\n",
      "month               Apr       Aug       Dec        Feb        Jan       Jul  \\\n",
      "category                                                                      \n",
      "Books          45129.56  54917.00  46637.30   39734.84   48669.81  43222.42   \n",
      "Clothing       47281.06  44945.81  50935.21   45917.39   43427.96  49811.72   \n",
      "Electronics    83828.24  61527.11  93053.08  109514.50  103891.05  83000.44   \n",
      "Home & Garden  37129.10  23605.84  23422.46   37989.80   20240.69  26901.18   \n",
      "Sports         72116.64  76411.47  81590.71   73587.57   69525.07  69170.36   \n",
      "\n",
      "month               Jun       Mar       May       Nov       Oct       Sep  \n",
      "category                                                                   \n",
      "Books          46761.45  51552.15  42358.91  41362.17  54745.24  52236.59  \n",
      "Clothing       48379.55  51075.45  47205.70  38898.80  56004.38  39565.58  \n",
      "Electronics    88442.64  96196.48  57029.38  71513.86  90947.48  80794.55  \n",
      "Home & Garden  21724.15  31683.29  33082.52  19132.02  31563.33  37363.95  \n",
      "Sports         78345.12  76902.96  73927.58  75689.93  79784.93  82081.52  \n",
      "\n",
      "With totals:\n",
      "month               Apr       Aug       Dec        Feb        Jan       Jul  \\\n",
      "category                                                                      \n",
      "Books          45129.56  54917.00  46637.30   39734.84   48669.81  43222.42   \n",
      "Clothing       47281.06  44945.81  50935.21   45917.39   43427.96  49811.72   \n",
      "Electronics    83828.24  61527.11  93053.08  109514.50  103891.05  83000.44   \n",
      "Home & Garden  37129.10  23605.84  23422.46   37989.80   20240.69  26901.18   \n",
      "Sports         72116.64  76411.47  81590.71   73587.57   69525.07  69170.36   \n",
      "\n",
      "month               Jun       Mar       May       Nov       Oct       Sep  \\\n",
      "category                                                                    \n",
      "Books          46761.45  51552.15  42358.91  41362.17  54745.24  52236.59   \n",
      "Clothing       48379.55  51075.45  47205.70  38898.80  56004.38  39565.58   \n",
      "Electronics    88442.64  96196.48  57029.38  71513.86  90947.48  80794.55   \n",
      "Home & Garden  21724.15  31683.29  33082.52  19132.02  31563.33  37363.95   \n",
      "Sports         78345.12  76902.96  73927.58  75689.93  79784.93  82081.52   \n",
      "\n",
      "month               Total  \n",
      "category                   \n",
      "Books           567327.44  \n",
      "Clothing        563448.61  \n",
      "Electronics    1019738.81  \n",
      "Home & Garden   343838.33  \n",
      "Sports          909133.86  \n"
     ]
    }
   ],
   "source": [
    "# Create pivot table: category by month\n",
    "category_sales_pivot = pd.pivot_table(sales_with_category,\n",
    "                                      values='sales',\n",
    "                                      index='category',\n",
    "                                      columns='month',\n",
    "                                      aggfunc='sum')\n",
    "\n",
    "print(\"Sales by Category and Month:\")\n",
    "print(category_sales_pivot)\n",
    "\n",
    "# Calculate totals\n",
    "category_sales_pivot['Total'] = category_sales_pivot.sum(axis=1)\n",
    "print(\"\\nWith totals:\")\n",
    "print(category_sales_pivot)"
   ]
  },
  {
   "cell_type": "markdown",
   "metadata": {},
   "source": [
    "### Step 3.5: Group and Summarize"
   ]
  },
  {
   "cell_type": "code",
   "execution_count": 17,
   "metadata": {
    "execution": {
     "iopub.execute_input": "2025-10-21T17:18:25.964933Z",
     "iopub.status.busy": "2025-10-21T17:18:25.964730Z",
     "iopub.status.idle": "2025-10-21T17:18:25.974116Z",
     "shell.execute_reply": "2025-10-21T17:18:25.973409Z"
    }
   },
   "outputs": [
    {
     "name": "stdout",
     "output_type": "stream",
     "text": [
      "Category Summary Statistics:\n",
      "               total_sales  avg_monthly_sales  min_sales  max_sales  count\n",
      "category                                                                  \n",
      "Books            567327.44        5253.031852    1154.37    9912.14    108\n",
      "Clothing         563448.61        5869.256354    1155.93    9991.82     96\n",
      "Electronics     1019738.81        5665.215611    1081.99    9974.84    180\n",
      "Home & Garden    343838.33        5730.638833    1012.31    9778.94     60\n",
      "Sports           909133.86        5827.781154    1054.75    9940.48    156\n",
      "\n",
      "Top categories by total sales:\n",
      "               total_sales  avg_monthly_sales  min_sales  max_sales  count\n",
      "category                                                                  \n",
      "Electronics     1019738.81        5665.215611    1081.99    9974.84    180\n",
      "Sports           909133.86        5827.781154    1054.75    9940.48    156\n",
      "Books            567327.44        5253.031852    1154.37    9912.14    108\n",
      "Clothing         563448.61        5869.256354    1155.93    9991.82     96\n",
      "Home & Garden    343838.33        5730.638833    1012.31    9778.94     60\n"
     ]
    }
   ],
   "source": [
    "# Group by category and calculate statistics\n",
    "category_summary = sales_with_category.groupby('category')['sales'].agg([\n",
    "    ('total_sales', 'sum'),\n",
    "    ('avg_monthly_sales', 'mean'),\n",
    "    ('min_sales', 'min'),\n",
    "    ('max_sales', 'max'),\n",
    "    ('count', 'count')\n",
    "])\n",
    "\n",
    "print(\"Category Summary Statistics:\")\n",
    "print(category_summary)\n",
    "\n",
    "# Sort by total sales\n",
    "print(\"\\nTop categories by total sales:\")\n",
    "print(category_summary.sort_values('total_sales', ascending=False))"
   ]
  },
  {
   "cell_type": "markdown",
   "metadata": {},
   "source": [
    "### Step 3.6: Save Q3 Output"
   ]
  },
  {
   "cell_type": "code",
   "execution_count": 18,
   "metadata": {
    "execution": {
     "iopub.execute_input": "2025-10-21T17:18:25.976451Z",
     "iopub.status.busy": "2025-10-21T17:18:25.976234Z",
     "iopub.status.idle": "2025-10-21T17:18:25.986277Z",
     "shell.execute_reply": "2025-10-21T17:18:25.985441Z"
    }
   },
   "outputs": [
    {
     "name": "stdout",
     "output_type": "stream",
     "text": [
      "✓ Saved output/q3_reshaped_data.csv\n",
      "✓ Saved output/q3_category_sales_wide.csv\n"
     ]
    },
    {
     "name": "stdout",
     "output_type": "stream",
     "text": [
      "✓ Saved output/q3_analysis_report.txt\n"
     ]
    }
   ],
   "source": [
    "# Save the long-format data with categories\n",
    "sales_with_category.to_csv('output/q3_reshaped_data.csv', index=False)\n",
    "print(\"✓ Saved output/q3_reshaped_data.csv\")\n",
    "\n",
    "# Also save the category pivot table\n",
    "category_sales_pivot.to_csv('output/q3_category_sales_wide.csv')\n",
    "print(\"✓ Saved output/q3_category_sales_wide.csv\")\n",
    "\n",
    "# Save analysis report\n",
    "with open('output/q3_analysis_report.txt', 'w') as f:\n",
    "    f.write(\"Question 3: Reshaping & Analysis - Report\\n\")\n",
    "    f.write(\"=\"*60 + \"\\n\\n\")\n",
    "    f.write(f\"Total sales records: {len(sales_with_category)}\\n\")\n",
    "    f.write(f\"Products analyzed: {sales_with_category['product_id'].nunique()}\\n\")\n",
    "    f.write(f\"Months covered: {sales_with_category['month'].nunique()}\\n\")\n",
    "    f.write(f\"Categories: {sales_with_category['category'].nunique()}\\n\\n\")\n",
    "    f.write(\"Category Summary:\\n\")\n",
    "    f.write(category_summary.to_string())\n",
    "\n",
    "print(\"✓ Saved output/q3_analysis_report.txt\")"
   ]
  },
  {
   "cell_type": "markdown",
   "metadata": {},
   "source": [
    "## Verification\n",
    "\n",
    "Check that all required output files exist."
   ]
  },
  {
   "cell_type": "code",
   "execution_count": 19,
   "metadata": {
    "execution": {
     "iopub.execute_input": "2025-10-21T17:18:25.988235Z",
     "iopub.status.busy": "2025-10-21T17:18:25.988045Z",
     "iopub.status.idle": "2025-10-21T17:18:25.993034Z",
     "shell.execute_reply": "2025-10-21T17:18:25.992141Z"
    }
   },
   "outputs": [
    {
     "name": "stdout",
     "output_type": "stream",
     "text": [
      "Checking output files:\n",
      "============================================================\n",
      "✓ output/q1_merged_data.csv (264,871 bytes)\n",
      "✓ output/q1_validation.txt (252 bytes)\n",
      "✓ output/q2_combined_data.csv (12,218 bytes)\n",
      "✓ output/q3_reshaped_data.csv (25,418 bytes)\n",
      "✓ output/q3_category_sales_wide.csv (807 bytes)\n",
      "✓ output/q3_analysis_report.txt (727 bytes)\n",
      "============================================================\n",
      "\n",
      "✓ All required output files created successfully!\n"
     ]
    }
   ],
   "source": [
    "import os\n",
    "\n",
    "required_outputs = [\n",
    "    'output/q1_merged_data.csv',\n",
    "    'output/q1_validation.txt',\n",
    "    'output/q2_combined_data.csv',\n",
    "    'output/q3_reshaped_data.csv',\n",
    "    'output/q3_category_sales_wide.csv',\n",
    "    'output/q3_analysis_report.txt'\n",
    "]\n",
    "\n",
    "print(\"Checking output files:\")\n",
    "print(\"=\"*60)\n",
    "all_exist = True\n",
    "for file in required_outputs:\n",
    "    exists = os.path.exists(file)\n",
    "    size = os.path.getsize(file) if exists else 0\n",
    "    status = \"✓\" if exists else \"✗\"\n",
    "    print(f\"{status} {file} ({size:,} bytes)\")\n",
    "    if not exists:\n",
    "        all_exist = False\n",
    "\n",
    "print(\"=\"*60)\n",
    "if all_exist:\n",
    "    print(\"\\n✓ All required output files created successfully!\")\n",
    "else:\n",
    "    print(\"\\n✗ Some output files are missing. Please check for errors.\")"
   ]
  },
  {
   "cell_type": "markdown",
   "metadata": {},
   "source": [
    "## Summary\n",
    "\n",
    "This assignment covered:\n",
    "\n",
    "1. **Merging DataFrames**: Inner, left, outer joins and multi-table merges\n",
    "2. **Concatenation**: Vertical and horizontal combining with proper index management\n",
    "3. **Reshaping**: Wide ↔ long format conversion and pivot tables\n",
    "\n",
    "These operations are fundamental to data wrangling and will be used extensively in real-world data analysis."
   ]
  }
 ],
 "metadata": {
  "kernelspec": {
   "display_name": "Python 3",
   "language": "python",
   "name": "python3"
  },
  "language_info": {
   "codemirror_mode": {
    "name": "ipython",
    "version": 3
   },
   "file_extension": ".py",
   "mimetype": "text/x-python",
   "name": "python",
   "nbconvert_exporter": "python",
   "pygments_lexer": "ipython3",
   "version": "3.13.7"
  }
 },
 "nbformat": 4,
 "nbformat_minor": 4
}
