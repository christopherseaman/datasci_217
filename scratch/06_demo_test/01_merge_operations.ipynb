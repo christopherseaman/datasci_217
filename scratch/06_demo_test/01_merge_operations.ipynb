{
 "cells": [
  {
   "cell_type": "markdown",
   "metadata": {},
   "source": [
    "# Demo 1: Customer Purchase Analysis with pd.merge()\n",
    "\n",
    "## Learning Objectives\n",
    "\n",
    "- Master database-style joins using `pd.merge()`\n",
    "- Understand the four join types: inner, left, right, outer\n",
    "- Handle duplicate keys in merge operations\n",
    "- Merge on multiple columns with composite keys\n",
    "- Handle overlapping column names with suffixes\n",
    "- Validate merge results with `indicator=True`"
   ]
  },
  {
   "cell_type": "markdown",
   "metadata": {},
   "source": [
    "## Setup"
   ]
  },
  {
   "cell_type": "code",
   "execution_count": null,
   "metadata": {},
   "outputs": [],
   "source": [
    "import pandas as pd\n",
    "import numpy as np\n",
    "\n",
    "# Set random seed for reproducibility\n",
    "np.random.seed(42)"
   ]
  },
  {
   "cell_type": "markdown",
   "metadata": {},
   "source": [
    "## Create Sample Data\n",
    "\n",
    "We'll create two realistic datasets:\n",
    "- **Customers table**: Customer information (master list)\n",
    "- **Purchases table**: Purchase transactions"
   ]
  },
  {
   "cell_type": "code",
   "execution_count": null,
   "metadata": {},
   "outputs": [],
   "source": [
    "# Customer master data\n",
    "customers = pd.DataFrame({\n",
    "    'customer_id': ['C001', 'C002', 'C003', 'C004', 'C005'],\n",
    "    'name': ['Alice Chen', 'Bob Martinez', 'Charlie Kim', 'Diana Patel', 'Eric Thompson'],\n",
    "    'city': ['Seattle', 'Portland', 'Seattle', 'Eugene', 'Tacoma'],\n",
    "    'signup_date': pd.to_datetime(['2023-01-15', '2023-02-20', '2023-03-10', \n",
    "                                    '2023-04-05', '2023-05-12'])\n",
    "})\n",
    "\n",
    "print(\"Customers Table:\")\n",
    "customers.head()"
   ]
  },
  {
   "cell_type": "code",
   "execution_count": null,
   "metadata": {},
   "outputs": [],
   "source": [
    "# Purchase transaction data\n",
    "purchases = pd.DataFrame({\n",
    "    'customer_id': ['C001', 'C001', 'C002', 'C003', 'C006', 'C001', 'C002'],\n",
    "    'product': ['Laptop', 'Mouse', 'Keyboard', 'Monitor', 'Tablet', 'USB Cable', 'Webcam'],\n",
    "    'amount': [999.99, 25.99, 79.99, 299.99, 449.99, 12.99, 89.99],\n",
    "    'purchase_date': pd.to_datetime(['2023-06-01', '2023-06-15', '2023-06-20',\n",
    "                                     '2023-07-01', '2023-07-05', '2023-07-10',\n",
    "                                     '2023-07-15'])\n",
    "})\n",
    "\n",
    "print(\"Purchases Table:\")\n",
    "purchases.head(10)"
   ]
  },
  {
   "cell_type": "markdown",
   "metadata": {},
   "source": [
    "**Key Observations:**\n",
    "- C001 (Alice) has **3 purchases** - many-to-one relationship\n",
    "- C004 (Diana) and C005 (Eric) have **no purchases** - will be relevant for join types\n",
    "- C006 has a purchase but **no customer record** - orphaned transaction"
   ]
  },
  {
   "cell_type": "markdown",
   "metadata": {},
   "source": [
    "## Inner Join (Default)\n",
    "\n",
    "Inner join returns **only rows with matching keys in BOTH tables**.\n",
    "\n",
    "**Use case:** \"Show me all purchases with complete customer information\""
   ]
  },
  {
   "cell_type": "code",
   "execution_count": null,
   "metadata": {},
   "outputs": [],
   "source": [
    "# Inner join - only matching customer_ids\n",
    "inner_merge = pd.merge(customers, purchases, on='customer_id', how='inner')\n",
    "inner_merge"
   ]
  },
  {
   "cell_type": "markdown",
   "metadata": {},
   "source": [
    "**Interpretation:**\n",
    "- Result has **6 rows** (only customers C001, C002, C003 who made purchases)\n",
    "- Missing customers: C004, C005 (no purchases)\n",
    "- Missing purchase: C006's tablet (no customer record)\n",
    "- Alice (C001) appears **3 times** because she has 3 purchases\n",
    "\n",
    "**Common pitfall:** Always check row counts! If you expected all customers, inner join silently dropped C004 and C005."
   ]
  },
  {
   "cell_type": "markdown",
   "metadata": {},
   "source": [
    "## Left Join\n",
    "\n",
    "Left join returns **ALL rows from left table** + matching rows from right.\n",
    "\n",
    "**Use case:** \"Show me all customers, including those who haven't purchased anything\""
   ]
  },
  {
   "cell_type": "code",
   "execution_count": null,
   "metadata": {},
   "outputs": [],
   "source": [
    "# Left join - keep ALL customers\n",
    "left_merge = pd.merge(customers, purchases, on='customer_id', how='left')\n",
    "left_merge"
   ]
  },
  {
   "cell_type": "markdown",
   "metadata": {},
   "source": [
    "**Interpretation:**\n",
    "- Result has **8 rows** (all 5 unique customers, but C001 appears 3x)\n",
    "- C004 and C005 appear with **NaN values** for purchase columns\n",
    "- C006's orphaned purchase is **still excluded** (not in customers table)\n",
    "\n",
    "**Real-world application:** Identify customers who need marketing engagement (those with NaN purchases)."
   ]
  },
  {
   "cell_type": "code",
   "execution_count": null,
   "metadata": {},
   "outputs": [],
   "source": [
    "# Find customers who haven't made purchases\n",
    "no_purchases = left_merge[left_merge['product'].isna()][['customer_id', 'name', 'city']]\n",
    "print(\"Customers with no purchases (marketing opportunity):\")\n",
    "no_purchases"
   ]
  },
  {
   "cell_type": "markdown",
   "metadata": {},
   "source": [
    "## Right Join\n",
    "\n",
    "Right join returns **ALL rows from right table** + matching rows from left.\n",
    "\n",
    "**Use case:** \"Show me all purchases, including those with missing customer info\""
   ]
  },
  {
   "cell_type": "code",
   "execution_count": null,
   "metadata": {},
   "outputs": [],
   "source": [
    "# Right join - keep ALL purchases\n",
    "right_merge = pd.merge(customers, purchases, on='customer_id', how='right')\n",
    "right_merge"
   ]
  },
  {
   "cell_type": "markdown",
   "metadata": {},
   "source": [
    "**Interpretation:**\n",
    "- Result has **7 rows** (all purchases preserved)\n",
    "- C006's tablet purchase appears with **NaN customer info**\n",
    "- C004 and C005 are **excluded** (no purchases)\n",
    "\n",
    "**Real-world application:** Identify data quality issues (orphaned transactions)."
   ]
  },
  {
   "cell_type": "code",
   "execution_count": null,
   "metadata": {},
   "outputs": [],
   "source": [
    "# Find orphaned purchases (data quality issue)\n",
    "orphaned = right_merge[right_merge['name'].isna()][['customer_id', 'product', 'amount']]\n",
    "print(\"Orphaned purchases (data quality issue):\")\n",
    "orphaned"
   ]
  },
  {
   "cell_type": "markdown",
   "metadata": {},
   "source": [
    "## Outer Join\n",
    "\n",
    "Outer join returns **ALL rows from BOTH tables**.\n",
    "\n",
    "**Use case:** \"Show me everything - all customers AND all purchases, regardless of matches\""
   ]
  },
  {
   "cell_type": "code",
   "execution_count": null,
   "metadata": {},
   "outputs": [],
   "source": [
    "# Outer join - keep EVERYTHING\n",
    "outer_merge = pd.merge(customers, purchases, on='customer_id', how='outer')\n",
    "outer_merge"
   ]
  },
  {
   "cell_type": "markdown",
   "metadata": {},
   "source": [
    "**Interpretation:**\n",
    "- Result has **9 rows** (complete picture of all data)\n",
    "- Includes customers with no purchases (C004, C005)\n",
    "- Includes orphaned purchase (C006)\n",
    "- NaN values appear where no match exists\n",
    "\n",
    "**Real-world application:** Comprehensive data audit to identify all gaps."
   ]
  },
  {
   "cell_type": "markdown",
   "metadata": {},
   "source": [
    "## Validating Merge Results with indicator=True\n",
    "\n",
    "The `indicator=True` parameter adds a `_merge` column showing the source of each row."
   ]
  },
  {
   "cell_type": "code",
   "execution_count": null,
   "metadata": {},
   "outputs": [],
   "source": [
    "# Add indicator column to track merge sources\n",
    "validated_merge = pd.merge(customers, purchases, on='customer_id', \n",
    "                           how='outer', indicator=True)\n",
    "validated_merge"
   ]
  },
  {
   "cell_type": "code",
   "execution_count": null,
   "metadata": {},
   "outputs": [],
   "source": [
    "# Check merge statistics\n",
    "print(\"Merge source breakdown:\")\n",
    "print(validated_merge['_merge'].value_counts())\n",
    "print()\n",
    "\n",
    "# Find each category\n",
    "print(\"Customers only (no purchases):\")\n",
    "print(validated_merge[validated_merge['_merge'] == 'left_only'][['customer_id', 'name']].values)\n",
    "print()\n",
    "\n",
    "print(\"Purchases only (no customer record):\")\n",
    "print(validated_merge[validated_merge['_merge'] == 'right_only'][['customer_id', 'product']].values)\n",
    "print()\n",
    "\n",
    "print(\"Matched records:\")\n",
    "print(f\"{len(validated_merge[validated_merge['_merge'] == 'both'])} purchase records with customer info\")"
   ]
  },
  {
   "cell_type": "markdown",
   "metadata": {},
   "source": [
    "**Pro tip:** Always use `indicator=True` when debugging merges to understand what matched and what didn't!"
   ]
  },
  {
   "cell_type": "markdown",
   "metadata": {},
   "source": [
    "## Merging on Multiple Columns (Composite Keys)\n",
    "\n",
    "Sometimes a single column isn't unique enough - you need multiple columns to identify matches."
   ]
  },
  {
   "cell_type": "code",
   "execution_count": null,
   "metadata": {},
   "outputs": [],
   "source": [
    "# Create quarterly sales data\n",
    "sales_q1 = pd.DataFrame({\n",
    "    'store_id': ['S01', 'S01', 'S02', 'S02', 'S03'],\n",
    "    'quarter': ['Q1', 'Q1', 'Q1', 'Q1', 'Q1'],\n",
    "    'product_category': ['Electronics', 'Clothing', 'Electronics', 'Clothing', 'Electronics'],\n",
    "    'sales': [50000, 30000, 42000, 25000, 38000]\n",
    "})\n",
    "\n",
    "# Create targets by store, quarter, and category\n",
    "targets = pd.DataFrame({\n",
    "    'store_id': ['S01', 'S01', 'S02', 'S02', 'S01', 'S02'],\n",
    "    'quarter': ['Q1', 'Q1', 'Q1', 'Q1', 'Q2', 'Q2'],\n",
    "    'product_category': ['Electronics', 'Clothing', 'Electronics', 'Clothing', 'Electronics', 'Electronics'],\n",
    "    'target': [52000, 28000, 45000, 22000, 58000, 50000]\n",
    "})\n",
    "\n",
    "print(\"Q1 Sales:\")\n",
    "display(sales_q1)\n",
    "print(\"\\nTargets:\")\n",
    "display(targets)"
   ]
  },
  {
   "cell_type": "code",
   "execution_count": null,
   "metadata": {},
   "outputs": [],
   "source": [
    "# Merge on composite key: store_id + quarter + product_category\n",
    "sales_vs_target = pd.merge(sales_q1, targets, \n",
    "                           on=['store_id', 'quarter', 'product_category'],\n",
    "                           how='left')\n",
    "\n",
    "# Calculate performance\n",
    "sales_vs_target['performance'] = (sales_vs_target['sales'] / sales_vs_target['target'] * 100).round(1)\n",
    "sales_vs_target['status'] = sales_vs_target['performance'].apply(\n",
    "    lambda x: 'Above Target' if x >= 100 else 'Below Target' if pd.notna(x) else 'No Target'\n",
    ")\n",
    "\n",
    "sales_vs_target"
   ]
  },
  {
   "cell_type": "markdown",
   "metadata": {},
   "source": [
    "**Interpretation:**\n",
    "- Each row requires **all three keys** to match (store + quarter + category)\n",
    "- S03 has no target set (NaN values)\n",
    "- Most stores are performing close to targets\n",
    "\n",
    "**Why composite keys matter:** If we merged only on `store_id`, we'd match Q1 sales with Q2 targets - wrong!"
   ]
  },
  {
   "cell_type": "markdown",
   "metadata": {},
   "source": [
    "## Handling Overlapping Column Names\n",
    "\n",
    "When both DataFrames have columns with the same name (besides merge keys), pandas adds suffixes."
   ]
  },
  {
   "cell_type": "code",
   "execution_count": null,
   "metadata": {},
   "outputs": [],
   "source": [
    "# Create two datasets with overlapping 'total' column\n",
    "monthly_sales = pd.DataFrame({\n",
    "    'product_id': ['P001', 'P002', 'P003', 'P004'],\n",
    "    'product_name': ['Laptop', 'Mouse', 'Keyboard', 'Monitor'],\n",
    "    'total': [150000, 45000, 32000, 78000],  # Sales total\n",
    "    'units_sold': [150, 1800, 400, 260]\n",
    "})\n",
    "\n",
    "monthly_inventory = pd.DataFrame({\n",
    "    'product_id': ['P001', 'P002', 'P003', 'P004'],\n",
    "    'total': [45, 520, 125, 85],  # Inventory total\n",
    "    'warehouse': ['Seattle', 'Seattle', 'Portland', 'Portland']\n",
    "})\n",
    "\n",
    "print(\"Monthly Sales:\")\n",
    "display(monthly_sales)\n",
    "print(\"\\nMonthly Inventory:\")\n",
    "display(monthly_inventory)"
   ]
  },
  {
   "cell_type": "code",
   "execution_count": null,
   "metadata": {},
   "outputs": [],
   "source": [
    "# Merge with default suffixes (_x and _y)\n",
    "merged_default = pd.merge(monthly_sales, monthly_inventory, on='product_id')\n",
    "print(\"Default suffixes (_x and _y):\")\n",
    "merged_default"
   ]
  },
  {
   "cell_type": "markdown",
   "metadata": {},
   "source": [
    "**Problem:** `total_x` and `total_y` are confusing! Which is which?"
   ]
  },
  {
   "cell_type": "code",
   "execution_count": null,
   "metadata": {},
   "outputs": [],
   "source": [
    "# Merge with descriptive suffixes\n",
    "merged_clear = pd.merge(monthly_sales, monthly_inventory, \n",
    "                        on='product_id',\n",
    "                        suffixes=('_sales', '_inventory'))\n",
    "\n",
    "print(\"Clear suffixes (_sales and _inventory):\")\n",
    "merged_clear"
   ]
  },
  {
   "cell_type": "markdown",
   "metadata": {},
   "source": [
    "**Much better!** Now it's immediately clear:\n",
    "- `total_sales` = revenue from sales\n",
    "- `total_inventory` = units in stock\n",
    "\n",
    "**Best practice:** Always use descriptive suffixes that explain what each column represents."
   ]
  },
  {
   "cell_type": "code",
   "execution_count": null,
   "metadata": {},
   "outputs": [],
   "source": [
    "# Calculate inventory turnover rate\n",
    "merged_clear['turnover_rate'] = (merged_clear['units_sold'] / \n",
    "                                 merged_clear['total_inventory']).round(1)\n",
    "\n",
    "print(\"Inventory Analysis:\")\n",
    "merged_clear[['product_name', 'units_sold', 'total_inventory', 'turnover_rate']]"
   ]
  },
  {
   "cell_type": "markdown",
   "metadata": {},
   "source": [
    "**Interpretation:**\n",
    "- Mouse has highest turnover (3.5x) - selling fast!\n",
    "- Laptop has lowest turnover (3.3x) - slower movement\n",
    "- This analysis was only possible by properly merging overlapping column names"
   ]
  },
  {
   "cell_type": "markdown",
   "metadata": {},
   "source": [
    "## Real-World Application: Complete Customer Analysis\n",
    "\n",
    "Combining multiple merge operations to answer: \"What's the total spending by city?\""
   ]
  },
  {
   "cell_type": "code",
   "execution_count": null,
   "metadata": {},
   "outputs": [],
   "source": [
    "# Step 1: Left join to keep all customers\n",
    "customer_purchases = pd.merge(customers, purchases, on='customer_id', how='left')\n",
    "\n",
    "# Step 2: Fill missing amounts with 0 for customers without purchases\n",
    "customer_purchases['amount'] = customer_purchases['amount'].fillna(0)\n",
    "\n",
    "# Step 3: Group by city and calculate total spending\n",
    "city_spending = customer_purchases.groupby('city').agg({\n",
    "    'amount': 'sum',\n",
    "    'customer_id': 'nunique',\n",
    "    'product': 'count'\n",
    "}).round(2)\n",
    "\n",
    "city_spending.columns = ['total_revenue', 'unique_customers', 'total_transactions']\n",
    "city_spending['avg_transaction'] = (city_spending['total_revenue'] / \n",
    "                                    city_spending['total_transactions']).round(2)\n",
    "\n",
    "city_spending.sort_values('total_revenue', ascending=False)"
   ]
  },
  {
   "cell_type": "markdown",
   "metadata": {},
   "source": [
    "**Business insights from our merge:**\n",
    "- Seattle generates highest revenue ($1,325.97) from 2 customers\n",
    "- Portland has best average transaction value ($84.99)\n",
    "- Eugene and Tacoma have customers but no purchases (engagement opportunity)\n",
    "\n",
    "**Key workflow:** merge → fill missing → group → analyze"
   ]
  },
  {
   "cell_type": "markdown",
   "metadata": {},
   "source": [
    "## Key Takeaways\n",
    "\n",
    "1. **Join types matter:** Choose based on which data you want to preserve\n",
    "   - **Inner:** Only matches (most restrictive)\n",
    "   - **Left:** All left table + matches (common for \"master\" tables)\n",
    "   - **Right:** All right table + matches (less common)\n",
    "   - **Outer:** Everything (comprehensive audit)\n",
    "\n",
    "2. **Always validate merges:**\n",
    "   - Check row counts before and after\n",
    "   - Use `indicator=True` to track merge sources\n",
    "   - Look for unexpected NaN values\n",
    "\n",
    "3. **Composite keys prevent wrong matches:**\n",
    "   - Use `on=['col1', 'col2']` when single column isn't unique\n",
    "   - Common for hierarchical data (store + date, region + quarter)\n",
    "\n",
    "4. **Handle overlapping columns properly:**\n",
    "   - Use descriptive suffixes like `('_sales', '_inventory')`\n",
    "   - Avoid default `_x` and `_y` for readability\n",
    "\n",
    "5. **Left joins are most common in practice:**\n",
    "   - Preserve your \"master\" table (customers, products, etc.)\n",
    "   - Add related information from other tables\n",
    "   - Handle missing data appropriately\n",
    "\n",
    "**Next steps:** Practice with your own datasets. Start simple, validate results, then build complexity!"
   ]
  }
 ],
 "metadata": {
  "kernelspec": {
   "display_name": "Python 3",
   "language": "python",
   "name": "python3"
  },
  "language_info": {
   "codemirror_mode": {
    "name": "ipython",
    "version": 3
   },
   "file_extension": ".py",
   "mimetype": "text/x-python",
   "name": "python",
   "nbconvert_exporter": "python",
   "pygments_lexer": "ipython3",
   "version": "3.11.0"
  }
 },
 "nbformat": 4,
 "nbformat_minor": 4
}
